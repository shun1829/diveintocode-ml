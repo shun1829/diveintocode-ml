{
 "cells": [
  {
   "cell_type": "markdown",
   "metadata": {},
   "source": [
    "# 行列積の実装"
   ]
  },
  {
   "cell_type": "markdown",
   "metadata": {},
   "source": [
    "## 【問題1】行列積を手計算する\n",
    "### AとBの行列積を手計算で解いてください。\n",
    "### 計算過程もマークダウンテキストを用いて説明してください。"
   ]
  },
  {
   "cell_type": "markdown",
   "metadata": {},
   "source": [
    "(m × n） の行列と (n × l） の行列の積は (m × l）の行列\n",
    "\n",
    "行列A, B (m × n） の行列と (n × l） の行列の積は (m × l）の行列\n",
    "\n",
    "A : A_ndarray = np.array([[a00, a01, a02], [a10, a11, a12], [a20, a21, a22]])\n",
    "\n",
    "B : B_ndarray = np.array([[b00, b01, b02], [b10, b11, b12], [b20, b21, b22]])\n",
    "\n",
    "行列積AB\n",
    "AB : AB_ndarray = np.array([[AB00, AB01, AB02], [AB10, AB11, AB12], [AB20, AB21, AB22]])\n",
    "\n",
    "AB00：Aの0行目とBの0列目の内積 \n",
    "\n",
    "AB00 = -1* 0 + 2 * 0 + 3 * 2 = 6\n",
    "\n",
    "AB01：Aの0行目とBの1列目の内積\n",
    "\n",
    "AB01 = -1* 2 + 2 * 2 + 3 * 9 = 29\n",
    "\n",
    "AB02：Aの0行目とBの2列目の内積\n",
    "\n",
    "AB02 = -1* 1 + 2 * -8 + 3 * -1 = -20\n",
    "\n",
    "AB10：Aの1行目とBの0列目の内積\n",
    "\n",
    "AB10 = 4 * 0 + -5 * 0 + 6 * 2 = 12\n",
    "\n",
    "AB11：Aの1行目とBの1列目の内積\n",
    "\n",
    "AB11 = 4 * 2 + -5 * 2 + 6 * 9 = 52\n",
    "\n",
    "AB12：Aの1行目とBの2列目の内積\n",
    "\n",
    "AB12 = 4 * 1 + -5 * -8 + 6 * -1 = 38\n",
    "\n",
    "AB20：Aの2行目とBの0列目の内積\n",
    "\n",
    "AB20 = 7 * 0 + 8 * 0 + -9 * 2 = -18\n",
    "\n",
    "AB21：Aの2行目とBの1列目の内積\n",
    "\n",
    "AB21 = 7 * 2 + 8 * 2 + -9 * 9 = -51\n",
    "\n",
    "AB22：Aの2行目とBの2列目の内積\n",
    "\n",
    "AB22 = 7 * 1 + 8 * -8 + -9 * -1 = -48\n",
    "\n",
    "AB_ndarray = np.array([[6, 29, -20], [12, 52, 38], [-18, -51, -48]])"
   ]
  },
  {
   "cell_type": "code",
   "execution_count": 2,
   "metadata": {
    "scrolled": true
   },
   "outputs": [
    {
     "name": "stdout",
     "output_type": "stream",
     "text": [
      "[[  6  29 -20]\n",
      " [ 12  52  38]\n",
      " [-18 -51 -48]]\n"
     ]
    }
   ],
   "source": [
    "import numpy as np\n",
    "AB_ndarray = np.array([[6, 29, -20], [12, 52, 38], [-18, -51, -48]])\n",
    "print(AB_ndarray)"
   ]
  },
  {
   "cell_type": "markdown",
   "metadata": {},
   "source": [
    "## 【問題2】NumPyの関数による計算"
   ]
  },
  {
   "cell_type": "code",
   "execution_count": 3,
   "metadata": {},
   "outputs": [
    {
     "name": "stdout",
     "output_type": "stream",
     "text": [
      "[[  6  29 -20]\n",
      " [ 12  52  38]\n",
      " [-18 -51 -48]]\n"
     ]
    }
   ],
   "source": [
    "import numpy as np\n",
    "a_ndarray = np.array([[-1, 2, 3], [4, -5, 6], [7, 8, -9]])\n",
    "b_ndarray = np.array([[0, 2, 1], [0, 2, -8], [2, 9, -1]])\n",
    "print(a_ndarray @ b_ndarray)\n",
    "# print(np.matmul(a_ndarray, b_ndarray))"
   ]
  },
  {
   "cell_type": "markdown",
   "metadata": {},
   "source": [
    "## 【問題3】ある要素の計算を実装"
   ]
  },
  {
   "cell_type": "markdown",
   "metadata": {},
   "source": [
    "手計算をする際はまず行列Aの0行目と行列Bの0列目に注目し、以下の計算を行ったかと思います。\n",
    "\n",
    "この計算をnp.matmul()やnp.dot()、または@演算子を使わずに行うコードを書いてください。\n"
   ]
  },
  {
   "cell_type": "code",
   "execution_count": 4,
   "metadata": {},
   "outputs": [
    {
     "name": "stdout",
     "output_type": "stream",
     "text": [
      "6\n",
      "29\n",
      "-20\n",
      "12\n",
      "52\n",
      "38\n",
      "-18\n",
      "-51\n",
      "-48\n",
      "[[  6  29 -20]\n",
      " [ 12  52  38]\n",
      " [-18 -51 -48]]\n"
     ]
    }
   ],
   "source": [
    "a_ndarray = np.array([[-1, 2, 3], \n",
    "                                        [4, -5, 6], \n",
    "                                        [7, 8, -9]])\n",
    "b_ndarray = np.array([[0, 2, 1], \n",
    "                                        [0, 2, -8], \n",
    "                                        [2, 9, -1]])\n",
    "\n",
    "# for文を用いてAB[0][0]の計算\n",
    "list_1 = []\n",
    "for i in range(3):\n",
    "    c = a_ndarray[0][i]*b_ndarray[i][0]\n",
    "    list_1.append(c)    \n",
    "print(sum(list_1))\n",
    "\n",
    "list_2 = []\n",
    "for i in range(3):\n",
    "    c = a_ndarray[0][i]*b_ndarray[i][1]\n",
    "    list_2.append(c)    \n",
    "print(sum(list_2))\n",
    "\n",
    "list_3 = []\n",
    "for i in range(3):\n",
    "    c = a_ndarray[0][i]*b_ndarray[i][2]\n",
    "    list_3.append(c)    \n",
    "print(sum(list_3))\n",
    "\n",
    "list_4 = []\n",
    "for i in range(3):\n",
    "    c = a_ndarray[1][i]*b_ndarray[i][0]\n",
    "    list_4.append(c)    \n",
    "print(sum(list_4))\n",
    "\n",
    "list_5 = []\n",
    "for i in range(3):\n",
    "    c = a_ndarray[1][i]*b_ndarray[i][1]\n",
    "    list_5.append(c)    \n",
    "print(sum(list_5))\n",
    "\n",
    "list_6 = []\n",
    "for i in range(3):\n",
    "    c = a_ndarray[1][i]*b_ndarray[i][2]\n",
    "    list_6.append(c)    \n",
    "print(sum(list_6))\n",
    "\n",
    "list_7 = []\n",
    "for i in range(3):\n",
    "    c = a_ndarray[2][i]*b_ndarray[i][0]\n",
    "    list_7.append(c)    \n",
    "print(sum(list_7))\n",
    "\n",
    "list_8 = []\n",
    "for i in range(3):\n",
    "    c = a_ndarray[2][i]*b_ndarray[i][1]\n",
    "    list_8.append(c)    \n",
    "print(sum(list_8))\n",
    "\n",
    "list_9 = []\n",
    "for i in range(3):\n",
    "    c = a_ndarray[2][i]*b_ndarray[i][2]\n",
    "    list_9.append(c)    \n",
    "print(sum(list_9))\n",
    "\n",
    "p = np.array([[sum(list_1), sum(list_2), sum(list_3)],[sum(list_4), sum(list_5), sum(list_6)], [sum(list_7), sum(list_8), sum(list_9)]])\n",
    "print(p)"
   ]
  },
  {
   "cell_type": "code",
   "execution_count": 5,
   "metadata": {},
   "outputs": [
    {
     "name": "stdout",
     "output_type": "stream",
     "text": [
      "6\n",
      "29\n",
      "-20\n",
      "12\n",
      "52\n",
      "38\n",
      "-18\n",
      "-51\n",
      "-48\n"
     ]
    }
   ],
   "source": [
    "# 手計算でABの各要素計算\n",
    "cal_1 = a_ndarray[0][0]*b_ndarray[0][0]+a_ndarray[0][1]*b_ndarray[1][0]+a_ndarray[0][2]*b_ndarray[2][0]\n",
    "cal_2 = a_ndarray[0][0]*b_ndarray[0][1]+a_ndarray[0][1]*b_ndarray[1][1]+a_ndarray[0][2]*b_ndarray[2][1]\n",
    "cal_3 = a_ndarray[0][0]*b_ndarray[0][2]+a_ndarray[0][1]*b_ndarray[1][2]+a_ndarray[0][2]*b_ndarray[2][2]\n",
    "\n",
    "cal_4 = a_ndarray[1][0]*b_ndarray[0][0]+a_ndarray[1][1]*b_ndarray[1][0]+a_ndarray[1][2]*b_ndarray[2][0]\n",
    "cal_5 = a_ndarray[1][0]*b_ndarray[0][1]+a_ndarray[1][1]*b_ndarray[1][1]+a_ndarray[1][2]*b_ndarray[2][1]\n",
    "cal_6 = a_ndarray[1][0]*b_ndarray[0][2]+a_ndarray[1][1]*b_ndarray[1][2]+a_ndarray[1][2]*b_ndarray[2][2]\n",
    "\n",
    "cal_7 = a_ndarray[2][0]*b_ndarray[0][0]+a_ndarray[2][1]*b_ndarray[1][0]+a_ndarray[2][2]*b_ndarray[2][0]\n",
    "cal_8 = a_ndarray[2][0]*b_ndarray[0][1]+a_ndarray[2][1]*b_ndarray[1][1]+a_ndarray[2][2]*b_ndarray[2][1]\n",
    "cal_9 = a_ndarray[2][0]*b_ndarray[0][2]+a_ndarray[2][1]*b_ndarray[1][2]+a_ndarray[2][2]*b_ndarray[2][2]\n",
    "\n",
    "print(cal_1)\n",
    "print(cal_2)\n",
    "print(cal_3)\n",
    "print(cal_4)\n",
    "print(cal_5)\n",
    "print(cal_6) \n",
    "print(cal_7)\n",
    "print(cal_8)\n",
    "print(cal_9)"
   ]
  },
  {
   "cell_type": "code",
   "execution_count": 6,
   "metadata": {},
   "outputs": [
    {
     "name": "stdout",
     "output_type": "stream",
     "text": [
      "-48\n"
     ]
    }
   ],
   "source": [
    "import numpy as np\n",
    "a_ndarray = np.array([[-1, 2, 3], \n",
    "                                        [4, -5, 6], \n",
    "                                        [7, 8, -9]])\n",
    "b_ndarray = np.array([[0, 2, 1], \n",
    "                                        [0, 2, -8], \n",
    "                                        [2, 9, -1]])\n",
    "# c = np.zeros((3,3),dtype=int).tolist() # \n",
    "c = [[0]*3 for _ in range(3)] # [[0, 0, 0], [0, 0, 0], [0, 0, 0]]\n",
    "for z in range(3):\n",
    "    for j in range(3):\n",
    "        for i in range(3):\n",
    "            c[z][j] = a_ndarray[z][i]*b_ndarray[i][j]+c[z][j]\n",
    "        C = c[z][j]\n",
    "print(C)"
   ]
  },
  {
   "cell_type": "code",
   "execution_count": 7,
   "metadata": {},
   "outputs": [
    {
     "name": "stdout",
     "output_type": "stream",
     "text": [
      "[[0, 0, 0], [0, 0, 1], [0, 0, 2], [0, 1, 0], [0, 1, 1], [0, 1, 2], [0, 2, 0], [0, 2, 1], [0, 2, 2], [1, 0, 0], [1, 0, 1], [1, 0, 2], [1, 1, 0], [1, 1, 1], [1, 1, 2], [1, 2, 0], [1, 2, 1], [1, 2, 2], [2, 0, 0], [2, 0, 1], [2, 0, 2], [2, 1, 0], [2, 1, 1], [2, 1, 2], [2, 2, 0], [2, 2, 1], [2, 2, 2]]\n"
     ]
    }
   ],
   "source": [
    "m = []\n",
    "for i in range(3):\n",
    "    for h in range(3):\n",
    "        for g in range(3):\n",
    "            m.append([i, h ,g])\n",
    "print(m)"
   ]
  },
  {
   "cell_type": "code",
   "execution_count": 8,
   "metadata": {},
   "outputs": [
    {
     "name": "stdout",
     "output_type": "stream",
     "text": [
      "[[0, 0], [0, 1], [0, 2], [1, 0], [1, 1], [1, 2], [2, 0], [2, 1], [2, 2]]\n"
     ]
    }
   ],
   "source": [
    "m = []\n",
    "for i in range(3):\n",
    "    for h in range(3):\n",
    "        m.append([i, h])\n",
    "print(m)"
   ]
  },
  {
   "cell_type": "markdown",
   "metadata": {},
   "source": [
    "## 【問題4】行列積を行う関数の作成\n",
    "\n",
    "#### 問題3のコードを拡張し、行列積のスクラッチ実装を完成させてください。行列AとBを引数に受け取り、行列積を返す関数としてください。\n",
    "#### 行列積を計算する場合は、問題3の計算を異なる行や列に対して繰り返していくことになります。\n",
    "\n",
    "#### 計算結果である \n",
    "#### 3×3の行列Cの各要素 ci,j は数式で表すと次のようになります。\n",
    "#### for文を使い、ndarrayのインデックスを動かしていくことで、合計9つの要素が計算できます。インデックスiやjを1増やすと、次の行や列に移ることができます。"
   ]
  },
  {
   "cell_type": "code",
   "execution_count": 19,
   "metadata": {},
   "outputs": [
    {
     "data": {
      "text/plain": [
       "array([[  6,  29, -20],\n",
       "       [ 12,  52,  38],\n",
       "       [-18, -51, -48]])"
      ]
     },
     "execution_count": 19,
     "metadata": {},
     "output_type": "execute_result"
    }
   ],
   "source": [
    "a_ndarray = np.array([[-1, 2, 3], [4, -5, 6], [7, 8, -9]])\n",
    "b_ndarray = np.array([[0, 2, 1], [0, 2, -8], [2, 9, -1]])\n",
    "\n",
    "\n",
    "def gyouretu(a_ndarray, b_ndarray):\n",
    "# for文を用いてAB[0][0]の計算\n",
    "        \n",
    "    list_1 = []\n",
    "    for i in range(3):\n",
    "        c = a_ndarray[0][i]*b_ndarray[i][0]\n",
    "        list_1.append(c) \n",
    "\n",
    "    list_2 = []\n",
    "    for i in range(3):\n",
    "        c = a_ndarray[0][i]*b_ndarray[i][1]\n",
    "        list_2.append(c)    \n",
    "\n",
    "    list_3 = []\n",
    "    for i in range(3):\n",
    "        c = a_ndarray[0][i]*b_ndarray[i][2]\n",
    "        list_3.append(c)    \n",
    "\n",
    "    list_4 = []\n",
    "    for i in range(3):\n",
    "        c = a_ndarray[1][i]*b_ndarray[i][0]\n",
    "        list_4.append(c)    \n",
    "\n",
    "    list_5 = []\n",
    "    for i in range(3):\n",
    "        c = a_ndarray[1][i]*b_ndarray[i][1]\n",
    "        list_5.append(c)    \n",
    "\n",
    "    list_6 = []\n",
    "    for i in range(3):\n",
    "        c = a_ndarray[1][i]*b_ndarray[i][2]\n",
    "        list_6.append(c)    \n",
    "\n",
    "    list_7 = []\n",
    "    for i in range(3):\n",
    "        c = a_ndarray[2][i]*b_ndarray[i][0]\n",
    "        list_7.append(c)    \n",
    "\n",
    "    list_8 = []\n",
    "    for i in range(3):\n",
    "        c  = a_ndarray[2][i]*b_ndarray[i][1]\n",
    "        list_8.append(c)    \n",
    "         \n",
    "    list_9 = []\n",
    "    for i in range(3):\n",
    "        c = a_ndarray[2][i]*b_ndarray[i][2]\n",
    "        list_9.append(c)    \n",
    "\n",
    "    p = np.array([[sum(list_1), sum(list_2), sum(list_3)],[sum(list_4), sum(list_5), sum(list_6)], [sum(list_7), sum(list_8), sum(list_9)]])\n",
    "    return p\n",
    "\n",
    "gyouretu(a_ndarray, b_ndarray)"
   ]
  },
  {
   "cell_type": "markdown",
   "metadata": {},
   "source": [
    "## 【問題5】計算が定義されない入力を判定する"
   ]
  },
  {
   "cell_type": "code",
   "execution_count": null,
   "metadata": {},
   "outputs": [],
   "source": [
    "a_ndarray = np.array([[-1, 2, 3], [4, -5, 6], [7, 8, -9], [4, -5, 6]])\n",
    "b_ndarray = np.array([[0, 2, 1], [0, 2, -8], [2, 9, -1]])\n",
    "length = len(a_ndarray)\n",
    "\n",
    "def gyouretu(a_ndarray, b_ndarray):\n",
    "# for文を用いてAB[0][0]の計算\n",
    "    if len(a_ndarray) == 3:\n",
    "        \n",
    "        list_1 = []\n",
    "        for i in range(3):\n",
    "            c = a_ndarray[0][i]*b_ndarray[i][0]\n",
    "\n",
    "        list_2 = []\n",
    "        for i in range(3):\n",
    "            c = a_ndarray[0][i]*b_ndarray[i][1]\n",
    "            list_2.append(c)    \n",
    "\n",
    "        list_3 = []\n",
    "        for i in range(3):\n",
    "            c = a_ndarray[0][i]*b_ndarray[i][2]\n",
    "            list_3.append(c)    \n",
    "\n",
    "        list_4 = []\n",
    "        for i in range(3):\n",
    "            c = a_ndarray[1][i]*b_ndarray[i][0]\n",
    "            list_4.append(c)    \n",
    "\n",
    "        list_5 = []\n",
    "        for i in range(3):\n",
    "            c = a_ndarray[1][i]*b_ndarray[i][1]\n",
    "            list_5.append(c)    \n",
    "\n",
    "        list_6 = []\n",
    "        for i in range(3):\n",
    "            c = a_ndarray[1][i]*b_ndarray[i][2]\n",
    "            list_6.append(c)    \n",
    "\n",
    "        list_7 = []\n",
    "        for i in range(3):\n",
    "            c = a_ndarray[2][i]*b_ndarray[i][0]\n",
    "            list_7.append(c)    \n",
    "\n",
    "        list_8 = []\n",
    "        for i in range(3):\n",
    "            c = a_ndarray[2][i]*b_ndarray[i][1]\n",
    "            list_8.append(c)    \n",
    "\n",
    "        list_9 = []\n",
    "        for i in range(3):\n",
    "            c = a_ndarray[2][i]*b_ndarray[i][2]\n",
    "            list_9.append(c)    \n",
    "            \n",
    "        p = np.array([[sum(list_1), sum(list_2), sum(list_3)],[sum(list_4), sum(list_5), sum(list_6)], [sum(list_7), sum(list_8), sum(list_9)]])\n",
    "    \n",
    "        return p\n",
    "\n",
    "    else:\n",
    "        print(\"計算できない\")\n",
    "\n",
    "gyouretu(a_ndarray, b_ndarray)"
   ]
  },
  {
   "cell_type": "markdown",
   "metadata": {},
   "source": [
    "## 【問題6】転置"
   ]
  },
  {
   "cell_type": "markdown",
   "metadata": {},
   "source": [
    "#### 片方の行列を転置することで、行列積が計算できるようになります。\n",
    "#### np.transpose()や.Tアトリビュートを用いて転置し、行列積を計算してください。"
   ]
  },
  {
   "cell_type": "code",
   "execution_count": 93,
   "metadata": {},
   "outputs": [
    {
     "name": "stdout",
     "output_type": "stream",
     "text": [
      "[[-9  8  7]\n",
      " [ 6 -5  4]]\n",
      "[[-9  6]\n",
      " [ 8 -5]\n",
      " [ 7  4]]\n",
      "[[ 46  -4]\n",
      " [-34  73]]\n"
     ]
    }
   ],
   "source": [
    "d_ndarray = np.array([[-1, 2, 3], [4, -5, 6]])\n",
    "e_ndarray = np.array([[-9, 8, 7], [6, -5, 4]])\n",
    "\n",
    "\n",
    "e_ndarray_T = e_ndarray.T\n",
    "print(e_ndarray)\n",
    "print(e_ndarray_T)\n",
    "\n",
    "print(d_ndarray @ e_ndarray_T)"
   ]
  }
 ],
 "metadata": {
  "kernelspec": {
   "display_name": "Python 3",
   "language": "python",
   "name": "python3"
  },
  "language_info": {
   "codemirror_mode": {
    "name": "ipython",
    "version": 3
   },
   "file_extension": ".py",
   "mimetype": "text/x-python",
   "name": "python",
   "nbconvert_exporter": "python",
   "pygments_lexer": "ipython3",
   "version": "3.7.2"
  }
 },
 "nbformat": 4,
 "nbformat_minor": 2
}
