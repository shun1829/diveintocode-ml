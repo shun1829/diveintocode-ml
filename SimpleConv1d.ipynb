{
 "cells": [
  {
   "cell_type": "code",
   "execution_count": 2,
   "id": "176063d9-b5c8-4464-9ff9-501288708439",
   "metadata": {},
   "outputs": [],
   "source": [
    "import pandas as pd\n",
    "import matplotlib.pyplot as plt\n",
    "import numpy as np\n",
    "import math\n",
    "from sklearn.metrics import accuracy_score\n",
    "from sklearn import metrics\n",
    "from sklearn.metrics import confusion_matrix"
   ]
  },
  {
   "cell_type": "markdown",
   "id": "92061401-8eab-47da-978d-bfa2a264581f",
   "metadata": {},
   "source": [
    "【問題1】チャンネル数を1に限定した1次元畳み込み層クラスの作成"
   ]
  },
  {
   "cell_type": "markdown",
   "id": "512d3ece-b2f7-4f41-b8c8-cd53a9073054",
   "metadata": {},
   "source": [
    "【問題2】1次元畳み込み後の出力サイズの計算"
   ]
  },
  {
   "cell_type": "code",
   "execution_count": 3,
   "id": "904bd737-e488-43df-85e9-db3450a0cf70",
   "metadata": {},
   "outputs": [],
   "source": [
    "# サンプルデータ\n",
    "x = np.array([1,2,3,4])\n",
    "w = np.array([3, 5, 7])\n",
    "b = np.array([1])\n",
    "delta_a = np.array([10, 20])"
   ]
  },
  {
   "cell_type": "code",
   "execution_count": 4,
   "id": "60cf3342-1d75-47d6-9753-accda3eabcc0",
   "metadata": {},
   "outputs": [],
   "source": [
    "class FC:\n",
    "    \"\"\"\n",
    "    ノード数n_nodes1からn_nodes2への全結合層\n",
    "    Parameters\n",
    "    ----------\n",
    "    n_nodes1 : int\n",
    "      前の層のノード数\n",
    "    n_nodes2 : int\n",
    "      後の層のノード数\n",
    "    initializer : 初期化方法のインスタンス\n",
    "    optimizer : 最適化手法のインスタンス\n",
    "    \"\"\"\n",
    "    def __init__(self, n_nodes1, n_nodes2, initializer, optimizer):\n",
    "        # 初期化\n",
    "        # initializerのメソッドを使い、self.Wとself.Bを初期化する\n",
    "        self.n_nodes1 = n_nodes1\n",
    "        self.n_nodes2 = n_nodes2\n",
    "        self.optimizer = optimizer\n",
    "        #self.W = initializer.W(self.n_nodes1, self.n_nodes2)\n",
    "        #self.B = initializer.B(self.n_nodes2)\n",
    "        self.W = np.array([3,5,7]) \n",
    "        self.B = np.array([1])\n",
    "        self.P = 0\n",
    "        self.Str = 1\n",
    "        self.s = len(self.W)\n",
    "        self.a = np.array([])\n",
    "        self.dW = np.array([])\n",
    "        self.dX = np.array([])\n",
    "\n",
    "    def forward(self, X):\n",
    "        \"\"\"\n",
    "        フォワード\n",
    "        Parameters\n",
    "        ----------\n",
    "        X : 次の形のndarray, shape (batch_size, n_nodes_bf)\n",
    "            入力\n",
    "        Returns\n",
    "        ----------\n",
    "        A : 次の形のndarray, shape (batch_size, n_nodes_af)\n",
    "            出力\n",
    "        \"\"\"\n",
    "        #self.X = X\n",
    "        self.X = X\n",
    "        self.Xsize = len(self.X)\n",
    "        self._output_size()\n",
    "        \n",
    "        self.a = np.append(self.a, np.array([(self.X[i:i+self.s] @ self.W.T + self.B) for i in range(self.Nout)]))\n",
    "        return self.a\n",
    "    \n",
    "    def _output_size(self):\n",
    "        self.Nout = int((len(self.X) + 2*self.P - self.s) / self.Str + 1)       \n",
    "    \n",
    "    def backward(self, dA):\n",
    "        \"\"\"\n",
    "        バックワード\n",
    "        Parameters\n",
    "        ----------\n",
    "        dA : 次の形のndarray, shape (batch_size, n_nodes2)\n",
    "            後ろから流れてきた勾配\n",
    "        Returns\n",
    "        ----------\n",
    "        dZ : 次の形のndarray, shape (batch_size, n_nodes1)\n",
    "            前に流す勾配\n",
    "        \"\"\"\n",
    "        self.dB = np.sum(dA, axis=0)\n",
    "        self.dW = np.append(self.dW, np.array([(dA @ self.X[i:i+self.Nout].T) for i in range(self.s)]))\n",
    "\n",
    "        for j in range(len(self.X)):\n",
    "            if j-self.Nout < 0:\n",
    "                #display(j)\n",
    "                #display(np.flip(self.W[ : self.s-(self.Nout-j) ]))\n",
    "                #display(dA[:j+1])\n",
    "                self.dX = np.append(self.dX, (dA[:j+1] @ np.flip(self.W[ : self.s-(self.Nout-j) ]).T))\n",
    "                \n",
    "            elif j > len(self.X) - self.Nout:\n",
    "                #display(j)\n",
    "                #display(np.flip(dA    [-(j-(self.Xsize - self.Nout)):]))\n",
    "                #display(np.flip(self.W[-(j-(self.Xsize - self.Nout)):]))\n",
    "                self.dX = np.append(self.dX, (np.flip(dA    [-(j-(self.Xsize - self.Nout)):])) @ \n",
    "                                              np.flip(self.W[-(j-(self.Xsize - self.Nout)):]).T)\n",
    "            else:\n",
    "                #display(j)\n",
    "                #display(np.flip(self.W[ j-self.Nout+1 : j+1 ]))\n",
    "                self.dX = np.append(self.dX, (dA @ np.flip(self.W[ j-self.Nout+1 : j+1 ]).T))\n",
    "\n",
    "        # 更新\n",
    "        #self.W = self.optimizer.update(dW, self.W)\n",
    "        #self.B = self.optimizer.update(dB, self.B)\n",
    "\n",
    "        return self.dX"
   ]
  },
  {
   "cell_type": "markdown",
   "id": "71c7866e-7b60-48f0-9666-c327db7471a3",
   "metadata": {},
   "source": [
    "【問題3】小さな配列での1次元畳み込み層の実験"
   ]
  },
  {
   "cell_type": "code",
   "execution_count": 5,
   "id": "4979c59b-0fb5-43c6-9425-d9fe37e89f4c",
   "metadata": {},
   "outputs": [],
   "source": [
    "x = np.array([1,2,3,4])\n",
    "w = np.array([3, 5, 7])\n",
    "b = np.array([1])\n",
    "test = FC(1,2,3,4)"
   ]
  },
  {
   "cell_type": "code",
   "execution_count": 6,
   "id": "0a581046-84f9-47e4-b85d-32abd77dfff8",
   "metadata": {},
   "outputs": [
    {
     "data": {
      "text/plain": [
       "array([35., 50.])"
      ]
     },
     "execution_count": 6,
     "metadata": {},
     "output_type": "execute_result"
    }
   ],
   "source": [
    "test.forward(x)"
   ]
  },
  {
   "cell_type": "code",
   "execution_count": 7,
   "id": "54c3dc9d-ed22-4f20-b151-106c67e977f9",
   "metadata": {},
   "outputs": [
    {
     "data": {
      "text/plain": [
       "array([ 30., 110., 170., 140.])"
      ]
     },
     "execution_count": 7,
     "metadata": {},
     "output_type": "execute_result"
    }
   ],
   "source": [
    "elta_a = np.array([10, 20])\n",
    "test.backward(delta_a)"
   ]
  },
  {
   "cell_type": "code",
   "execution_count": 8,
   "id": "9a02d91c-0f31-4790-b34b-97191adac738",
   "metadata": {},
   "outputs": [
    {
     "data": {
      "text/plain": [
       "30"
      ]
     },
     "metadata": {},
     "output_type": "display_data"
    },
    {
     "data": {
      "text/plain": [
       "array([ 50.,  80., 110.])"
      ]
     },
     "metadata": {},
     "output_type": "display_data"
    }
   ],
   "source": [
    "display(test.dB)\n",
    "display(test.dW)"
   ]
  },
  {
   "cell_type": "code",
   "execution_count": 9,
   "id": "199d88bd-0c21-4c71-bd1b-5aec0d0dc0a1",
   "metadata": {},
   "outputs": [],
   "source": [
    "class Conv1d:\n",
    "    \"\"\"\n",
    "    ノード数n_nodes1からn_nodes2への全結合層\n",
    "    Parameters\n",
    "    ----------\n",
    "    n_nodes1 : int\n",
    "      前の層のノード数\n",
    "    n_nodes2 : int\n",
    "      後の層のノード数\n",
    "    initializer : 初期化方法のインスタンス\n",
    "    optimizer : 最適化手法のインスタンス\n",
    "    \"\"\"\n",
    "    def __init__(self, n_nodes1, n_nodes2, initializer, optimizer):\n",
    "        # 初期化\n",
    "        # initializerのメソッドを使い、self.Wとself.Bを初期化する\n",
    "        self.n_nodes1 = n_nodes1\n",
    "        self.n_nodes2 = n_nodes2\n",
    "        self.optimizer = optimizer\n",
    "        #self.W = initializer.W(self.n_nodes1, self.n_nodes2)\n",
    "        #self.B = initializer.B(self.n_nodes2)\n",
    "        self.W = np.array([3,5,7]) \n",
    "        self.B = np.array([1])\n",
    "        self.P = 0\n",
    "        self.Str = 1\n",
    "        self.s = len(self.W)\n",
    "        self.a = np.array([])\n",
    "        self.dW = np.array([])\n",
    "        self.dX = np.array([])\n",
    "\n",
    "    def forward(self, X):\n",
    "        \"\"\"\n",
    "        フォワード\n",
    "        Parameters\n",
    "        ----------\n",
    "        X : 次の形のndarray, shape (batch_size, n_nodes_bf)\n",
    "            入力\n",
    "        Returns\n",
    "        ----------\n",
    "        A : 次の形のndarray, shape (batch_size, n_nodes_af)\n",
    "            出力\n",
    "        \"\"\"\n",
    "        #self.X = X\n",
    "        self.X = X\n",
    "        self.Xsize = len(self.X)\n",
    "        self._output_size()\n",
    "        \n",
    "        self.a = np.append(self.a, np.array([(self.X[i:i+self.s] @ self.W.T + self.B) for i in range(self.Nout)]))\n",
    "        return self.a\n",
    "    \n",
    "    def _output_size(self):\n",
    "        self.Nout = int((len(self.X) + 2*self.P - self.s) / self.Str + 1)       \n",
    "    \n",
    "    def backward(self, dA):\n",
    "        \"\"\"\n",
    "        バックワード\n",
    "        Parameters\n",
    "        ----------\n",
    "        dA : 次の形のndarray, shape (batch_size, n_nodes2)\n",
    "            後ろから流れてきた勾配\n",
    "        Returns\n",
    "        ----------\n",
    "        dZ : 次の形のndarray, shape (batch_size, n_nodes1)\n",
    "            前に流す勾配\n",
    "        \"\"\"\n",
    "        self.dB = np.sum(dA, axis=0)\n",
    "        self.dW = np.append(self.dW, np.array([(dA @ self.X[i:i+self.Nout].T) for i in range(self.s)]))\n",
    "\n",
    "        for j in range(len(self.X)):\n",
    "            if j-self.Nout < 0:\n",
    "                #display(j)\n",
    "                #display(np.flip(self.W[ : self.s-(self.Nout-j) ]))\n",
    "                #display(dA[:j+1])\n",
    "                self.dX = np.append(self.dX, (dA[:j+1] @ np.flip(self.W[ : self.s-(self.Nout-j) ]).T))\n",
    "                \n",
    "            elif j > len(self.X) - self.Nout:\n",
    "                #display(j)\n",
    "                #display(np.flip(dA    [-(j-(self.Xsize - self.Nout)):]))\n",
    "                #display(np.flip(self.W[-(j-(self.Xsize - self.Nout)):]))\n",
    "                self.dX = np.append(self.dX, (np.flip(dA    [-(j-(self.Xsize - self.Nout)):])) @ \n",
    "                                              np.flip(self.W[-(j-(self.Xsize - self.Nout)):]).T)\n",
    "            else:\n",
    "                #display(j)\n",
    "                #display(np.flip(self.W[ j-self.Nout+1 : j+1 ]))\n",
    "                self.dX = np.append(self.dX, (dA @ np.flip(self.W[ j-self.Nout+1 : j+1 ]).T))\n",
    "\n",
    "        # 更新\n",
    "        #self.W = self.optimizer.update(dW, self.W)\n",
    "        #self.B = self.optimizer.update(dB, self.B)\n",
    "\n",
    "        return self.dX"
   ]
  },
  {
   "cell_type": "markdown",
   "id": "0b99aaef-6cf9-4bff-84e4-d64b0f2537d3",
   "metadata": {},
   "source": [
    "【問題4】チャンネル数を限定しない1次元畳み込み層クラスの作成"
   ]
  },
  {
   "cell_type": "code",
   "execution_count": 10,
   "id": "2870bb54-cc07-4d2f-883c-88cbc64ab97a",
   "metadata": {},
   "outputs": [],
   "source": [
    "import itertools\n",
    "import pprint"
   ]
  },
  {
   "cell_type": "code",
   "execution_count": 11,
   "id": "047c8ab9-8bf1-44ce-8b6a-219e6698e253",
   "metadata": {},
   "outputs": [],
   "source": [
    "class Conv1d:\n",
    "    \"\"\"\n",
    "    ノード数n_nodes1からn_nodes2への全結合層\n",
    "    Parameters\n",
    "    ----------\n",
    "    n_nodes1 : int\n",
    "      前の層のノード数\n",
    "    n_nodes2 : int\n",
    "      後の層のノード数\n",
    "    initializer : 初期化方法のインスタンス\n",
    "    optimizer : 最適化手法のインスタンス\n",
    "    \"\"\"\n",
    "    def __init__(self):\n",
    "        self.P = 0\n",
    "        self.Str = 1\n",
    "        self.a = np.array([])\n",
    "        self.dW = np.array([])\n",
    "        self.dX = np.array([])\n",
    "        #self.s=None\n",
    "        \n",
    "    def forward(self, X, W ,B):\n",
    "        \"\"\"\n",
    "        フォワード\n",
    "        Parameters\n",
    "        ----------\n",
    "        X : 次の形のndarray, shape (batch_size, n_nodes_bf)\n",
    "            入力\n",
    "        Returns\n",
    "        ----------\n",
    "        A : 次の形のndarray, shape (batch_size, n_nodes_af)\n",
    "            出力\n",
    "        \"\"\"\n",
    "        self.X = X\n",
    "        self.Xsize = self.X.shape[1]\n",
    "        self.W = W \n",
    "        self.B = B\n",
    "        self.s = self.W.shape[2]\n",
    "        \n",
    "        self._output_size()\n",
    "        self.a = np.append(self.a, np.array([np.sum(self.X[:, i:i+self.s] * self.W[i0,:,:]) + self.B[i0] \n",
    "                                             for i0,i in itertools.product(range(self.W.shape[0]), range(self.Nout))]))\n",
    "        self.a = self.a.reshape(self.W.shape[0], self.Nout)\n",
    "        return self.a\n",
    "    \n",
    "    def _output_size(self):\n",
    "        self.Nout = int((self.Xsize + 2*self.P - self.s) / self.Str + 1)       \n",
    "    \n",
    "    def backward(self, dA):\n",
    "        \"\"\"\n",
    "        バックワード\n",
    "        Parameters\n",
    "        ----------\n",
    "        dA : 次の形のndarray, shape (batch_size, n_nodes2)\n",
    "            後ろから流れてきた勾配\n",
    "        Returns\n",
    "        ----------\n",
    "        dZ : 次の形のndarray, shape (batch_size, n_nodes1)\n",
    "            前に流す勾配\n",
    "        \"\"\"\n",
    "        self.dB = np.sum(dA, axis=1)   \n",
    "        \n",
    "        for i0 in range(self.W.shape[0]):\n",
    "            dX_ary = np.zeros((self.W.shape[1], self.W.shape[2]))\n",
    "            for i in range(self.Nout):\n",
    "                dX_ary += dA[i0,i] * self.X[:, i:i+self.s]\n",
    "            self.dW = np.append(self.dW, dX_ary)\n",
    "        self.dW = self.dW.reshape(3,2,3)\n",
    "        \"\"\"検討中\n",
    "        self.Xp=np.array([self.X]*self.W.shape[0])\n",
    "        self.\n",
    "        self.dW= np.zeros((self.W.shape))\n",
    "        self.dW = [self.dW + (dA * self.Xp[:,:,i:i+self.s]) for i in range(self.Nout)]\n",
    "        \"\"\"\n",
    "        #self.dW = np.append(self.dW, [dX_ary + (np.ones((self.W[1].shape, self.W[2].shape))*dA[i0,i]) * self.X[:, i:i+self.Nout] \n",
    "        #                              for i in range(self.Nout)] for i0 in range(self.W.shape[0]))\n",
    "        \n",
    "        #for j in range(len(self.X)):\n",
    "        #    if j-self.Nout < 0:\n",
    "        #        self.dX = np.append(self.dX, (dA[:j+1] @ np.flip(self.W[ : self.s-(self.Nout-j) ]).T))\n",
    "        #        \n",
    "        #    elif j > len(self.X) - self.Nout:\n",
    "        #        self.dX = np.append(self.dX, (np.flip(dA    [-(j-(self.Xsize - self.Nout)):])) @ \n",
    "        #                                      np.flip(self.W[-(j-(self.Xsize - self.Nout)):]).T)\n",
    "        #    else:\n",
    "        #        self.dX = np.append(self.dX, (dA @ np.flip(self.W[ j-self.Nout+1 : j+1 ]).T))\n",
    "\n",
    "        return self.dW\n",
    "    \n",
    "    #def _naiseki_plus(self,dA):\n",
    "    #    dX_ary = np.zeros((self.W[1].shape, self.W[2].shape))\n",
    "    #    dX_ary = [dX_ary + (np.ones((self.W[1].shape, self.W[2].shape))*dA[i0,i]) * self.X[:, i:i+self.Nout] for i in range(self.Nout)]\n",
    "    #    return dX_ary"
   ]
  },
  {
   "cell_type": "code",
   "execution_count": 12,
   "id": "864dd09e-7cc7-4ee9-affe-76489cbc6b94",
   "metadata": {},
   "outputs": [],
   "source": [
    "x = np.array([[1, 2, 3, 4], [2, 3, 4, 5]]) # shape(2, 4)で、（入力チャンネル数、特徴量数）である。\n",
    "w = np.ones((3, 2, 3)) # 例の簡略化のため全て1とする。(出力チャンネル数、入力チャンネル数、フィルタサイズ)である。\n",
    "b = np.array([1, 2, 3]) # （出力チャンネル数）"
   ]
  },
  {
   "cell_type": "code",
   "execution_count": 13,
   "id": "e271444e-094f-414d-a051-784f10954b35",
   "metadata": {},
   "outputs": [
    {
     "data": {
      "text/plain": [
       "array([[16., 22.],\n",
       "       [17., 23.],\n",
       "       [18., 24.]])"
      ]
     },
     "execution_count": 13,
     "metadata": {},
     "output_type": "execute_result"
    }
   ],
   "source": [
    "test2dim = Conv1d()\n",
    "test2dim.forward(x,w,b)"
   ]
  },
  {
   "cell_type": "code",
   "execution_count": 14,
   "id": "c9817d00-473c-4be2-9e0b-a2926a64fbfd",
   "metadata": {},
   "outputs": [],
   "source": [
    "x = np.array([[2, 3, 4, 5], [1, 2, 3, 4]]) # shape(2, 4)で、（入力チャンネル数、特徴量数）である。\n",
    "#w = np.ones((3, 2, 3)) # 例の簡略化のため全て1とする。(出力チャンネル数、入力チャンネル数、フィルタサイズ)である。\n",
    "w = np.array([[[1,1,1],\n",
    "            [1,1,1]],\n",
    "            [[1,1,1],\n",
    "            [2,1,1]],\n",
    "            [[2,1,1],\n",
    "            [1,1,2]]])\n",
    "b = np.array([3, 2, 1]) # （出力チャンネル数）"
   ]
  },
  {
   "cell_type": "code",
   "execution_count": 15,
   "id": "7feb9ff4-09c6-46ab-a478-98f5e63e9850",
   "metadata": {},
   "outputs": [
    {
     "data": {
      "text/plain": [
       "array([[18., 24.],\n",
       "       [18., 25.],\n",
       "       [21., 29.]])"
      ]
     },
     "execution_count": 15,
     "metadata": {},
     "output_type": "execute_result"
    }
   ],
   "source": [
    "test2dim = Conv1d()\n",
    "test2dim.forward(x,w,b)"
   ]
  },
  {
   "cell_type": "markdown",
   "id": "c816ea4e-f0d5-4b2e-85e3-f215a3076cbe",
   "metadata": {},
   "source": [
    "バックプロパゲーションの確認"
   ]
  },
  {
   "cell_type": "code",
   "execution_count": 16,
   "id": "049a3628-0518-478c-a5c0-d647c4cc2389",
   "metadata": {},
   "outputs": [],
   "source": [
    "dA = np.array([[52,56],\n",
    "            [32,35],\n",
    "            [9,11]])\n",
    "#dA = np.array([9,11])"
   ]
  },
  {
   "cell_type": "code",
   "execution_count": 17,
   "id": "09dfb498-f537-40e2-8218-48a63eb096ae",
   "metadata": {},
   "outputs": [
    {
     "data": {
      "text/plain": [
       "array([[[52, 56],\n",
       "        [32, 35],\n",
       "        [ 9, 11]],\n",
       "\n",
       "       [[52, 56],\n",
       "        [32, 35],\n",
       "        [ 9, 11]],\n",
       "\n",
       "       [[52, 56],\n",
       "        [32, 35],\n",
       "        [ 9, 11]]])"
      ]
     },
     "execution_count": 17,
     "metadata": {},
     "output_type": "execute_result"
    }
   ],
   "source": [
    "dA3=np.array([dA]*3)\n",
    "dA3"
   ]
  },
  {
   "cell_type": "code",
   "execution_count": 18,
   "id": "33810e56-1fc8-44e4-b88c-6cec0a7f9d67",
   "metadata": {},
   "outputs": [
    {
     "data": {
      "text/plain": [
       "array([[[52, 52, 52],\n",
       "        [56, 56, 56]],\n",
       "\n",
       "       [[32, 32, 32],\n",
       "        [35, 35, 35]],\n",
       "\n",
       "       [[ 9,  9,  9],\n",
       "        [11, 11, 11]]])"
      ]
     },
     "execution_count": 18,
     "metadata": {},
     "output_type": "execute_result"
    }
   ],
   "source": [
    "dA3=dA3.transpose(1,2,0)\n",
    "dA3"
   ]
  },
  {
   "cell_type": "code",
   "execution_count": 19,
   "id": "072463cd-b086-4d47-86b8-479c04d719c7",
   "metadata": {},
   "outputs": [
    {
     "data": {
      "text/plain": [
       "array([[[272., 380., 488.],\n",
       "        [164., 272., 380.]],\n",
       "\n",
       "       [[169., 236., 303.],\n",
       "        [102., 169., 236.]],\n",
       "\n",
       "       [[ 51.,  71.,  91.],\n",
       "        [ 31.,  51.,  71.]]])"
      ]
     },
     "execution_count": 19,
     "metadata": {},
     "output_type": "execute_result"
    }
   ],
   "source": [
    "test2dim.backward(dA)"
   ]
  },
  {
   "cell_type": "markdown",
   "id": "d13655f2-4f45-4f99-a8b0-8d60a40c8f0c",
   "metadata": {},
   "source": [
    "【問題8】学習と推定"
   ]
  },
  {
   "cell_type": "code",
   "execution_count": 20,
   "id": "9b8216df-a3ba-4f6f-b395-2b78f8676bcf",
   "metadata": {},
   "outputs": [],
   "source": [
    "from keras.datasets import mnist\n",
    "from sklearn.preprocessing import OneHotEncoder\n",
    "(X_train, t_train), (X_test, t_test) = mnist.load_data()"
   ]
  },
  {
   "cell_type": "code",
   "execution_count": 21,
   "id": "3aeba46a-3616-4c64-90a6-023e7be06de9",
   "metadata": {},
   "outputs": [
    {
     "name": "stderr",
     "output_type": "stream",
     "text": [
      "/Users/shunnadamoto/.pyenv/versions/anaconda3-5.3.1/lib/python3.7/site-packages/ipykernel_launcher.py:3: DeprecationWarning: `np.float` is a deprecated alias for the builtin `float`. To silence this warning, use `float` by itself. Doing this will not modify any behavior and is safe. If you specifically wanted the numpy scalar type, use `np.float64` here.\n",
      "Deprecated in NumPy 1.20; for more details and guidance: https://numpy.org/devdocs/release/1.20.0-notes.html#deprecations\n",
      "  This is separate from the ipykernel package so we can avoid doing imports until\n",
      "/Users/shunnadamoto/.pyenv/versions/anaconda3-5.3.1/lib/python3.7/site-packages/ipykernel_launcher.py:4: DeprecationWarning: `np.float` is a deprecated alias for the builtin `float`. To silence this warning, use `float` by itself. Doing this will not modify any behavior and is safe. If you specifically wanted the numpy scalar type, use `np.float64` here.\n",
      "Deprecated in NumPy 1.20; for more details and guidance: https://numpy.org/devdocs/release/1.20.0-notes.html#deprecations\n",
      "  after removing the cwd from sys.path.\n"
     ]
    }
   ],
   "source": [
    "X_train  = X_train.reshape(-1, 784)\n",
    "X_test = X_test.reshape(-1, 784)\n",
    "X_train = X_train.astype(np.float)\n",
    "X_test = X_test.astype(np.float)\n",
    "X_train /= 255\n",
    "X_test /= 255\n",
    "enc = OneHotEncoder(handle_unknown=\"ignore\", sparse=False)\n",
    "t_train_one_hot = enc.fit_transform(t_train[:, np.newaxis])\n",
    "t_test_one_hot = enc.fit_transform(t_test[:,  np.newaxis])"
   ]
  },
  {
   "cell_type": "code",
   "execution_count": 22,
   "id": "4a95f3f1-826f-41e5-b4e5-a5c43be60c2e",
   "metadata": {},
   "outputs": [],
   "source": [
    "X_train = X_train.reshape(60000, 1, 784)\n",
    "X_test = X_test.reshape(-1, 1, 784)\n",
    "w = np.ones((3, 1, 3))\n",
    "b = np.array([1, 2, 3])"
   ]
  },
  {
   "cell_type": "code",
   "execution_count": 23,
   "id": "bb7358cb-7cbd-47c0-a350-0f9b3b26ee1c",
   "metadata": {},
   "outputs": [],
   "source": [
    "class CNN_mnist_FC:\n",
    "    \"\"\"\n",
    "    畳み込み層\n",
    "    Parameters\n",
    "    ----------\n",
    "    w:畳み込み層の重み　w.shape  (出力チャネル、入力チャネル、フィルターサイズ)\n",
    "    b:畳み込み層のバイアス　b.shape (出力チャネル, )\n",
    "    stride:ストライド数\n",
    "    padding:パディング数\n",
    "    optimizer : 最適化手法のインスタンス\n",
    "    \"\"\"\n",
    "    def __init__(self, w, b , optimizer,stride, padding):\n",
    "        self.optimizer = optimizer\n",
    "        self.W = w\n",
    "        self.B = b\n",
    "        self.stride = stride\n",
    "        self.padding = padding\n",
    "    \n",
    "    \n",
    "\n",
    "    \n",
    "    def forward(self, X):\n",
    "        \"\"\"\n",
    "        フォワード\n",
    "        Parameters\n",
    "        ----------\n",
    "        X : 次の形のndarray, shape (batch_size, n_nodes1)\n",
    "            入力\n",
    "        Returns\n",
    "        ----------\n",
    "        A : 次の形のndarray, shape (batch_size, n_nodes2)\n",
    "            出力\n",
    "        \"\"\"\n",
    "        self.A = X\n",
    "        output_size, chanel_size, filter_size = self.W.shape\n",
    "        feature_size = self.A.shape[2]\n",
    "        sample_size = self.A.shape[0]\n",
    "\n",
    "        a = np.zeros([sample_size, output_size, feature_size-2])\n",
    "        for samples in range(sample_size):\n",
    "            for output in range(output_size):\n",
    "                for j in range(filter_size - 1):\n",
    "                    sig = 0\n",
    "                    for chanel in range(chanel_size):\n",
    "                        for i in range(filter_size):\n",
    "                            sig += X[samples, chanel, i+j] * self.W[output, chanel, j]\n",
    "                    a[samples, output, j] = sig + b[output]\n",
    "        \n",
    "        return a\n",
    "\n",
    "    \n",
    "    def backward(self, dA):\n",
    "        \"\"\"\n",
    "        バックワード\n",
    "        Parameters\n",
    "        ----------\n",
    "        dA : 次の形のndarray, shape (batch_size, n_nodes2)\n",
    "            後ろから流れてきた勾配\n",
    "        Returns\n",
    "        ----------\n",
    "        dZ : 次の形のndarray, shape (batch_size, n_nodes1)\n",
    "            前に流す勾配\n",
    "        \"\"\"\n",
    "        self.n_out = N_OUT(self.stride, self.padding, self.W, self.A)\n",
    "        \n",
    "        output_size, chanel_size, filter_size = self.W.shape\n",
    "        feature_size = self.A.shape[2]\n",
    "        sample_size = self.A.shape[0]\n",
    "        \n",
    "        #LBの計算\n",
    "        self.LB = dA.sum(axis=0)\n",
    "        self.LB = self.LB.sum(axis=1)\n",
    "        \n",
    "        #LWの計算\n",
    "        self.LW = np.zeros_like(self.W)\n",
    "        for samples in range(sample_size):\n",
    "            for output in range(output_size):\n",
    "                for chanel in range(chanel_size):\n",
    "                    for i in range(filter_size):\n",
    "                        for j in range(filter_size -1):\n",
    "                            self.LW[output, chanel, i] += dA[samples, output, j]*self.A[samples, chanel, j+i]\n",
    "                        \n",
    "                        \n",
    "\n",
    "                    \n",
    "                    \n",
    "        #dZの計算\n",
    "        dZ = np.zeros_like(self.A)\n",
    "        for samples in range(sample_size):\n",
    "            for output in range(output_size):\n",
    "                for chanel in range(chanel_size):\n",
    "                    for j in range(feature_size):\n",
    "                        sigma=0\n",
    "                        for s in range(filter_size):\n",
    "                            if j - s < 0 or j - s > self.n_out -1:\n",
    "                                pass\n",
    "                            else:\n",
    "                                sigma += dA[samples, output,  j-s] * self.W[output, chanel, s]\n",
    "                        dZ[samples, chanel, j] += sigma\n",
    "\n",
    "\n",
    "        \n",
    "        \n",
    "        # 更新\n",
    "        self = self.optimizer.update(self)\n",
    "        return dZ"
   ]
  },
  {
   "cell_type": "code",
   "execution_count": 24,
   "id": "0328f262-0c68-4b5f-a675-78aea5d0c28b",
   "metadata": {},
   "outputs": [],
   "source": [
    "class Relu:\n",
    "    def forward(self, X):\n",
    "        self.A = X\n",
    "        return np.maximum(0, X)\n",
    "    \n",
    "    def backward(self, Z):\n",
    "        \n",
    "        return Z * np.maximum(np.sign(self.A), 0)\n"
   ]
  },
  {
   "cell_type": "code",
   "execution_count": 25,
   "id": "e3e2af43-9400-434c-a1bf-134e53707dd5",
   "metadata": {},
   "outputs": [],
   "source": [
    "class FC:\n",
    "    \"\"\"\n",
    "    ノード数n_nodes1からn_nodes2への全結合層\n",
    "    Parameters\n",
    "    ----------\n",
    "    n_nodes1 : int\n",
    "      前の層のノード数\n",
    "    n_nodes2 : int\n",
    "      後の層のノード数\n",
    "    initializer : 初期化方法のインスタンス\n",
    "    optimizer : 最適化手法のインスタンス\n",
    "    \"\"\"\n",
    "    def __init__(self, n_nodes1, n_nodes2, initializer, optimizer):\n",
    "        self.optimizer = optimizer\n",
    "        # 初期化\n",
    "        # initializerのメソッドを使い、self.Wとself.Bを初期化する\n",
    "        init = initializer\n",
    "        self.n_nodes1 = n_nodes1\n",
    "        self.W = init.W(n_nodes1, n_nodes2)\n",
    "        self.B = init.B(n_nodes2)\n",
    "    \n",
    "\n",
    "    \n",
    "    def forward(self, X):\n",
    "        \"\"\"\n",
    "        フォワード\n",
    "        Parameters\n",
    "        ----------\n",
    "        X : 次の形のndarray, shape (batch_size, n_nodes1)\n",
    "            入力\n",
    "        Returns\n",
    "        ----------\n",
    "        A : 次の形のndarray, shape (batch_size, n_nodes2)\n",
    "            出力\n",
    "        \"\"\"\n",
    "        self.z = X\n",
    "        self.a = X@self.W + self.B\n",
    "        \n",
    "        return self.a\n",
    "\n",
    "    \n",
    "    def backward(self, dA):\n",
    "        \"\"\"\n",
    "        バックワード\n",
    "        Parameters\n",
    "        ----------\n",
    "        dA : 次の形のndarray, shape (batch_size, n_nodes2)\n",
    "            後ろから流れてきた勾配\n",
    "        Returns\n",
    "        ----------\n",
    "        dZ : 次の形のndarray, shape (batch_size, n_nodes1)\n",
    "            前に流す勾配\n",
    "        \"\"\"\n",
    "        dZ = dA @ self.W.T\n",
    "        self.LW = self.z.T @ dA\n",
    "        self.LB = np.sum(dA, axis=0)\n",
    "        \n",
    "        \n",
    "        # 更新\n",
    "        self = self.optimizer.update(self)\n",
    "        return dZ"
   ]
  },
  {
   "cell_type": "code",
   "execution_count": 26,
   "id": "24543add-7ea2-4097-b963-d9955b4e1dd6",
   "metadata": {},
   "outputs": [],
   "source": [
    "class SimpleInitializer:\n",
    "    \"\"\"\n",
    "    ガウス分布によるシンプルな初期化\n",
    "    Parameters\n",
    "    ----------\n",
    "    sigma : float\n",
    "      ガウス分布の標準偏差\n",
    "    \"\"\"\n",
    "    def __init__(self, sigma):\n",
    "        self.sigma = sigma\n",
    "    def W(self, n_nodes1, n_nodes2):\n",
    "        \"\"\"\n",
    "        重みの初期化\n",
    "        Parameters\n",
    "        ----------\n",
    "        n_nodes1 : int\n",
    "          前の層のノード数\n",
    "        n_nodes2 : int\n",
    "          後の層のノード数\n",
    "\n",
    "        Returns\n",
    "        ----------\n",
    "        W :\n",
    "        \"\"\"\n",
    "        W = self.sigma * np.random.randn(n_nodes1, n_nodes2)\n",
    "        \n",
    "        return W\n",
    "    \n",
    "    def B(self, n_nodes2):\n",
    "        \"\"\"\n",
    "        バイアスの初期化\n",
    "        Parameters\n",
    "        ----------\n",
    "        n_nodes2 : int\n",
    "          後の層のノード数\n",
    "\n",
    "        Returns\n",
    "        ----------\n",
    "        B :\n",
    "        \"\"\"\n",
    "        B  = self.sigma * np.random.randn(n_nodes2)\n",
    "        return B"
   ]
  },
  {
   "cell_type": "code",
   "execution_count": 27,
   "id": "10b2ed2e-093e-42e9-ba82-9ec1de6559f7",
   "metadata": {},
   "outputs": [],
   "source": [
    "class Softmax:\n",
    "    def forward(self, A):\n",
    "        exp_a = np.exp(A)\n",
    "        softmax_result = np.empty((A.shape[0], A.shape[1]))\n",
    "        exp_sum = np.sum(exp_a, axis=1)\n",
    "        for i in range(A.shape[0]):\n",
    "            softmax_result[i] = exp_a[i] / exp_sum[i]\n",
    "            \n",
    "        return softmax_result\n",
    "    \n",
    "    def backward(self, Z, Y):\n",
    "        \n",
    "        L_A = Z - Y\n",
    "        self.cross_entropy = -np.average(np.sum(Y*np.log(Z), axis=1))\n",
    "        \n",
    "        \n",
    "        return L_A\n"
   ]
  },
  {
   "cell_type": "code",
   "execution_count": 28,
   "id": "7a3c06c5-8119-4f96-96b4-e51834b40b0b",
   "metadata": {},
   "outputs": [],
   "source": [
    "class SGD:\n",
    "    \"\"\"\n",
    "    確率的勾配降下法\n",
    "    Parameters\n",
    "    ----------\n",
    "    lr : 学習率\n",
    "    \"\"\"\n",
    "    def __init__(self, lr):\n",
    "        self.lr = lr\n",
    "    def update(self, layer):\n",
    "        \"\"\"\n",
    "        ある層の重みやバイアスの更新\n",
    "        Parameters\n",
    "        ----------\n",
    "        layer : 更新前の層のインスタンス\n",
    "\n",
    "        Returns\n",
    "        ----------\n",
    "        layer : 更新後の層のインスタンス\n",
    "        \"\"\"\n",
    "\n",
    "        \n",
    "        layer.W = layer.W -  self.lr * layer.LW\n",
    "        \n",
    "        layer.B = layer.B - self.lr*layer.LB\n",
    "\n",
    "        \n",
    "        \n",
    "        \n",
    "        return layer"
   ]
  },
  {
   "cell_type": "code",
   "execution_count": 29,
   "id": "e167c109-8c8b-432c-903a-065b6b3c764e",
   "metadata": {},
   "outputs": [],
   "source": [
    "def N_OUT(stride, padding, X,  W):\n",
    "    if X.ndim == 1:\n",
    "        return int((X.shape[0] + (2*padding) - len(W) / stride) + 1)\n",
    "    elif X.ndim == 3:\n",
    "        return int((X.shape[2] + (2*padding) - len(W) / stride) + 1 )\n"
   ]
  },
  {
   "cell_type": "code",
   "execution_count": 30,
   "id": "6b0a048d-837d-4ffa-84da-5b3350ffb4ad",
   "metadata": {},
   "outputs": [],
   "source": [
    "cnn_mnist = CNN_mnist_FC(w, b, SGD(0.1), 1, 0)\n",
    "A = cnn_mnist.forward(X_train)\n",
    "relu = Relu()\n",
    "A_relu = relu.forward(A)\n",
    "A_flat = A_relu.reshape(A_relu.shape[0], -1)\n",
    "FC_1 = FC(2346, 10, SimpleInitializer(0.1), SGD(0.1))\n",
    "A_FC_1 = FC_1.forward(A_flat)\n",
    "softmax = Softmax()\n",
    "A_soft = softmax.forward(A_FC_1)\n",
    "A_delta = softmax.backward(A_soft, t_train_one_hot)\n",
    "delta_Z = FC_1.backward(A_delta)\n",
    "delta_Z_reshape = delta_Z.reshape(A_relu.shape)\n",
    "delta_Z_relu = relu.backward(delta_Z_reshape)\n",
    "dZ = cnn_mnist.backward(delta_Z_relu)"
   ]
  },
  {
   "cell_type": "code",
   "execution_count": 31,
   "id": "c354baa8-0583-411a-88bd-7ec39a2cb537",
   "metadata": {},
   "outputs": [
    {
     "name": "stdout",
     "output_type": "stream",
     "text": [
      "0.098\n"
     ]
    }
   ],
   "source": [
    "X_test = X_test.reshape(-1, 1, 784)\n",
    "t_A = cnn_mnist.forward(X_test)\n",
    "t_A = relu.forward(t_A)\n",
    "t_A  = t_A.reshape(t_A.shape[0], -1)\n",
    "t_A = FC_1.forward(t_A)\n",
    "C = np.max(t_A, axis=1)\n",
    "for i in range(t_A.shape[0]):\n",
    "    t_A[i] = np.exp(t_A[i] - C[i])\n",
    "t_A = softmax.forward(t_A)\n",
    "y = np.argmax(t_A, axis=1)\n",
    "from sklearn.metrics import accuracy_score\n",
    "print(accuracy_score(t_test, y))"
   ]
  },
  {
   "cell_type": "code",
   "execution_count": null,
   "id": "33ebe01d-1950-40e2-aef9-e4cea71e1142",
   "metadata": {},
   "outputs": [],
   "source": []
  }
 ],
 "metadata": {
  "kernelspec": {
   "display_name": "Python 3",
   "language": "python",
   "name": "python3"
  },
  "language_info": {
   "codemirror_mode": {
    "name": "ipython",
    "version": 3
   },
   "file_extension": ".py",
   "mimetype": "text/x-python",
   "name": "python",
   "nbconvert_exporter": "python",
   "pygments_lexer": "ipython3",
   "version": "3.7.2"
  }
 },
 "nbformat": 4,
 "nbformat_minor": 5
}
