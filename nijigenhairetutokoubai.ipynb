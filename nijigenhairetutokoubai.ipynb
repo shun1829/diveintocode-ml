{
 "cells": [
  {
   "cell_type": "markdown",
   "metadata": {},
   "source": [
    "# 二次元配列と勾配問題"
   ]
  },
  {
   "cell_type": "markdown",
   "metadata": {},
   "source": [
    "## 【問題1】1次関数\n",
    "### xが-50から50の範囲で次の式を考えます。\n",
    "### -50から50まで0.1間隔のxを表すndarrayと、各要素に対するyを表すndarrayを作成してください。"
   ]
  },
  {
   "cell_type": "code",
   "execution_count": 56,
   "metadata": {},
   "outputs": [
    {
     "name": "stdout",
     "output_type": "stream",
     "text": [
      "[-50.  -49.9 -49.8 ...  49.8  49.9  50. ]\n"
     ]
    }
   ],
   "source": [
    "import numpy as np\n",
    "x_array_1 = np.arange(-50, 50.1, 0.1) # (1001,)\n",
    "print(x_array_1)"
   ]
  },
  {
   "cell_type": "code",
   "execution_count": 57,
   "metadata": {},
   "outputs": [],
   "source": [
    "#x = np.array([ x_array])\n",
    "y_array_1 = 1/2 * x_array_1+1 # (1, 1001)"
   ]
  },
  {
   "cell_type": "markdown",
   "metadata": {},
   "source": [
    "## 【問題2】配列の結合"
   ]
  },
  {
   "cell_type": "markdown",
   "metadata": {},
   "source": [
    "### 問題1で作成したndarrayを結合し、(1001, 2)の形の配列にしてください。0列目にx、1列目にyが来るようにします。"
   ]
  },
  {
   "cell_type": "code",
   "execution_count": 58,
   "metadata": {},
   "outputs": [],
   "source": [
    "y_1_array = y_array_1.reshape(1001,) # (1001,)"
   ]
  },
  {
   "cell_type": "code",
   "execution_count": 59,
   "metadata": {},
   "outputs": [
    {
     "name": "stdout",
     "output_type": "stream",
     "text": [
      "(1001, 2)\n"
     ]
    }
   ],
   "source": [
    "xy_array_1 = np.stack([x_array_1, y_1_array], axis=1) # (1001, 2)\n",
    "print(xy_array_1.shape)"
   ]
  },
  {
   "cell_type": "markdown",
   "metadata": {},
   "source": [
    "## 【問題3】勾配を求める\n",
    "### 各x座標における勾配を求めます。ここで勾配はyの変化量をxの変化量で割ることで計算します。"
   ]
  },
  {
   "cell_type": "code",
   "execution_count": 60,
   "metadata": {},
   "outputs": [],
   "source": [
    "#y変化量\n",
    "y_change = y_1_array[1:] - y_1_array[:-1]  # (1000,)\n",
    "\n",
    "#x変化量\n",
    "x_change = x_array_1[1:] - x_array_1[:-1] # (1000,)\n",
    "\n",
    "# 勾配\n",
    "gradient =  y_change / x_change # (1000,)"
   ]
  },
  {
   "cell_type": "markdown",
   "metadata": {},
   "source": [
    "## 【問題4】グラフを描く\n",
    "### 1次関数のグラフをMatplotlibを用いて描いてください。また、それとは別に横軸をx、縦軸を勾配としたグラフも描いてください。"
   ]
  },
  {
   "cell_type": "code",
   "execution_count": 61,
   "metadata": {},
   "outputs": [
    {
     "data": {
      "image/png": "[encoded data removed]",
      "text/plain": [
       "<Figure size 432x288 with 1 Axes>"
      ]
     },
     "metadata": {
      "needs_background": "light"
     },
     "output_type": "display_data"
    }
   ],
   "source": [
    "import matplotlib.pyplot as plt\n",
    "\n",
    "# x_array_gradient = np.arange(-49.9, 50.1, 0.1) # (1000,)\n",
    "x_array_gradient = np.arange(-50, 50, 0.1)\n",
    "plt.plot(x_array_1, y_1_array, label=\"1/2x+1\")\n",
    "plt.plot(x_array_gradient, gradient, label=\"gradient\")\n",
    "plt.legend()\n",
    "plt.show()"
   ]
  },
  {
   "cell_type": "markdown",
   "metadata": {},
   "source": [
    "## 【問題5】Pythonの関数化\n",
    "### 問題1から問題3までの範囲をまとめて行うPythonの関数を雛形を参考に作成してください。\n",
    "### そして、以下の3式の勾配を0.1間隔で求めてndarrayで出力してください。\n",
    "### また、問題4と同様にグラフを描いてください。\n",
    "### ndarrayに対して三角関数のsinの計算を行うには np.sin()を用います。"
   ]
  },
  {
   "cell_type": "markdown",
   "metadata": {},
   "source": [
    "> y = 1/2 * x + 1 ( -50 <= x 50 )"
   ]
  },
  {
   "cell_type": "code",
   "execution_count": 62,
   "metadata": {
    "scrolled": false
   },
   "outputs": [
    {
     "name": "stdout",
     "output_type": "stream",
     "text": [
      "最小値のインデックスは[0] , 最小値は-24.0\n",
      "最小のyをとる前後の勾配は　0.5\n"
     ]
    }
   ],
   "source": [
    "def compute_gradient(y_array, x_min, x_max, x_step):\n",
    "    \"\"\"\n",
    "    変化量を使い勾配を計算する。\n",
    "    Parameters\n",
    "    ----------------\n",
    "    y_array : function\n",
    "      求めたい関数、xのndarrayを入れるとyのndarrayを返すもの。\n",
    "    x_range : tuple\n",
    "      np.arange()の引数と同じ方法で範囲を指定する。\n",
    "    Returns\n",
    "    ----------------\n",
    "    array_xy : ndarray, shape(n, 2)\n",
    "      xとyを結合したもの。nはx_rangeに依存する。\n",
    "    gradient : ndarray, shape(n-1,)\n",
    "      関数の勾配。差をとるため要素は1つ減る\n",
    "    \"\"\"\n",
    "    # x_array = np.arange(x_min, (x_max+x_step), x_step)\n",
    "    # y_array = 1/2 * x_array + 1\n",
    "    # 各xに対する値算出のため\n",
    "    a = int( (x_max - x_min) / x_step + 1)\n",
    "    \n",
    "    x_array = np.arange(x_range_min, x_range_max+x_step, x_step)\n",
    "    \n",
    "    y_1_array = y_array.reshape(a,) \n",
    "    array_xy = np.stack([x_array, y_1_array], axis=1) \n",
    "    \n",
    "    #y変化量\n",
    "    y_change = y_1_array[1:] - y_1_array[:-1]  \n",
    "\n",
    "    #x変化量\n",
    "    x_change = x_array[1:] - x_array[:-1] \n",
    "\n",
    "    # 勾配\n",
    "    gradient =  y_change / x_change \n",
    "     \n",
    "    pass\n",
    "    return array_xy, gradient \n",
    "\n",
    "x_range_min = -50\n",
    "x_range_max = 50\n",
    "x_step = 0.1\n",
    "x_array = np.arange(x_range_min, (x_range_max+x_step), x_step)\n",
    "y_array = 1/2 * x_array+1\n",
    "\n",
    "array_xy, gradient = compute_gradient(y_array, x_range_min, x_range_max, x_step)\n",
    "\n",
    "array_xy_0 = array_xy[:, 1]\n",
    "min_0 = np.argmin(array_xy_0)\n",
    "print(\"最小値のインデックスは[{}] , 最小値は{}\".format(min_0, array_xy_0[min_0])) \n",
    "print(\"最小のyをとる前後の勾配は　{}\".format(gradient[min_0])) "
   ]
  },
  {
   "cell_type": "code",
   "execution_count": 63,
   "metadata": {
    "scrolled": true
   },
   "outputs": [
    {
     "data": {
      "image/png": "[encoded data removed]",
      "text/plain": [
       "<Figure size 432x288 with 1 Axes>"
      ]
     },
     "metadata": {
      "needs_background": "light"
     },
     "output_type": "display_data"
    }
   ],
   "source": [
    "plt.plot(x_array, array_xy[:, 1], label=\"1/2 * x_array+1\")\n",
    "plt.legend()\n",
    "plt.show()"
   ]
  },
  {
   "cell_type": "markdown",
   "metadata": {},
   "source": [
    "> y = x^2 ( -50 <= x 50 )"
   ]
  },
  {
   "cell_type": "code",
   "execution_count": 64,
   "metadata": {},
   "outputs": [
    {
     "name": "stdout",
     "output_type": "stream",
     "text": [
      "最小値のインデックスは[500] , 最小値は5.048709793414476e-25\n",
      "最小のyをとる前後の勾配は　0.1000000000014225\n"
     ]
    },
    {
     "data": {
      "image/png": "[encoded data removed]",
      "text/plain": [
       "<Figure size 432x288 with 1 Axes>"
      ]
     },
     "metadata": {
      "needs_background": "light"
     },
     "output_type": "display_data"
    }
   ],
   "source": [
    "def compute_gradient(y_array, x_min, x_max, x_step):\n",
    "    \"\"\"\n",
    "    変化量を使い勾配を計算する。\n",
    "    Parameters\n",
    "    ----------------\n",
    "    y_array : function\n",
    "      求めたい関数、xのndarrayを入れるとyのndarrayを返すもの。\n",
    "    x_range : tuple\n",
    "      np.arange()の引数と同じ方法で範囲を指定する。\n",
    "    Returns\n",
    "    ----------------\n",
    "    array_xy : ndarray, shape(n, 2)\n",
    "      xとyを結合したもの。nはx_rangeに依存する。\n",
    "    gradient : ndarray, shape(n-1,)\n",
    "      関数の勾配。差をとるため要素は1つ減る\n",
    "    \"\"\"\n",
    "    # x_array = np.arange(x_min, (x_max+x_step), x_step)\n",
    "    # y_array = 1/2 * x_array + 1\n",
    "    # 各xに対する値算出のため\n",
    "    a = int( (x_max - x_min) / x_step + 1)\n",
    "    \n",
    "    x_array = np.arange(x_range_min, x_range_max+x_step, x_step)\n",
    "    \n",
    "    y_1_array = y_array.reshape(a,) \n",
    "    array_xy = np.stack([x_array, y_1_array], axis=1) \n",
    "    \n",
    "    #y変化量\n",
    "    y_change = y_1_array[1:] - y_1_array[:-1]  \n",
    "\n",
    "    #x変化量\n",
    "    x_change = x_array[1:] - x_array[:-1] \n",
    "\n",
    "    # 勾配\n",
    "    gradient =  y_change / x_change \n",
    "     \n",
    "    pass\n",
    "    return array_xy, gradient \n",
    "\n",
    "x_range_min = -50\n",
    "x_range_max = 50\n",
    "x_step = 0.1\n",
    "x_array = np.arange(x_range_min, (x_range_max+x_step), x_step)\n",
    "y_array = x_array ** 2\n",
    "\n",
    "array_xy, gradient = compute_gradient(y_array, x_range_min, x_range_max, x_step)\n",
    "\n",
    "array_xy_0 = array_xy[:, 1]\n",
    "min_0 = np.argmin(array_xy_0)\n",
    "print(\"最小値のインデックスは[{}] , 最小値は{}\".format(min_0, array_xy_0[min_0])) \n",
    "print(\"最小のyをとる前後の勾配は　{}\".format(gradient[min_0])) \n",
    "\n",
    "plt.plot(x_array, array_xy[:, 1], label=\"x ** 2\")\n",
    "plt.legend()\n",
    "plt.show()"
   ]
  },
  {
   "cell_type": "markdown",
   "metadata": {},
   "source": [
    "> y = 2* x^2 + 2^x ( -50 <= x 50 )"
   ]
  },
  {
   "cell_type": "code",
   "execution_count": 65,
   "metadata": {},
   "outputs": [
    {
     "name": "stdout",
     "output_type": "stream",
     "text": [
      "最小値のインデックスは[498] , 最小値は0.9505505632959851\n",
      "最小のyをとる前後の勾配は　0.024824282409972788\n"
     ]
    },
    {
     "data": {
      "image/png": "[encoded data removed]",
      "text/plain": [
       "<Figure size 432x288 with 1 Axes>"
      ]
     },
     "metadata": {
      "needs_background": "light"
     },
     "output_type": "display_data"
    }
   ],
   "source": [
    "def compute_gradient(y_array, x_min, x_max, x_step):\n",
    "    \"\"\"\n",
    "    変化量を使い勾配を計算する。\n",
    "    Parameters\n",
    "    ----------------\n",
    "    y_array : function\n",
    "      求めたい関数、xのndarrayを入れるとyのndarrayを返すもの。\n",
    "    x_range : tuple\n",
    "      np.arange()の引数と同じ方法で範囲を指定する。\n",
    "    Returns\n",
    "    ----------------\n",
    "    array_xy : ndarray, shape(n, 2)\n",
    "      xとyを結合したもの。nはx_rangeに依存する。\n",
    "    gradient : ndarray, shape(n-1,)\n",
    "      関数の勾配。差をとるため要素は1つ減る\n",
    "    \"\"\"\n",
    "    # x_array = np.arange(x_min, (x_max+x_step), x_step)\n",
    "    # y_array = 1/2 * x_array + 1\n",
    "    # 各xに対する値算出のため\n",
    "    a = int( (x_max - x_min) / x_step + 1)\n",
    "    \n",
    "    x_array = np.arange(x_range_min, x_range_max+x_step, x_step)\n",
    "    \n",
    "    y_1_array = y_array.reshape(a,) \n",
    "    array_xy = np.stack([x_array, y_1_array], axis=1) \n",
    "    \n",
    "    #y変化量\n",
    "    y_change = y_1_array[1:] - y_1_array[:-1]  \n",
    "\n",
    "    #x変化量\n",
    "    x_change = x_array[1:] - x_array[:-1] \n",
    "\n",
    "    # 勾配\n",
    "    gradient =  y_change / x_change \n",
    "     \n",
    "    pass\n",
    "    return array_xy, gradient \n",
    "\n",
    "x_range_min = -50\n",
    "x_range_max = 50\n",
    "x_step = 0.1\n",
    "x_array = np.arange(x_range_min, (x_range_max+x_step), x_step)\n",
    "y_array = 2*x_array**2 + 2**x_array\n",
    "\n",
    "array_xy, gradient = compute_gradient(y_array, x_range_min, x_range_max, x_step)\n",
    "\n",
    "array_xy_0 = array_xy[:, 1]\n",
    "min_0 = np.argmin(array_xy_0)\n",
    "print(\"最小値のインデックスは[{}] , 最小値は{}\".format(min_0, array_xy_0[min_0])) \n",
    "print(\"最小のyをとる前後の勾配は　{}\".format(gradient[min_0])) \n",
    "\n",
    "plt.plot(x_array, array_xy[:, 1], label=\"2*x_array + 2**x_array\")\n",
    "plt.legend()\n",
    "plt.show()"
   ]
  },
  {
   "cell_type": "markdown",
   "metadata": {},
   "source": [
    "> y = sin( x^1/2 ) ( -50 <= x 50 )"
   ]
  },
  {
   "cell_type": "code",
   "execution_count": 66,
   "metadata": {},
   "outputs": [
    {
     "name": "stdout",
     "output_type": "stream",
     "text": [
      "最小値のインデックスは[343] , 最小値は-0.9999920733059178\n",
      "最小のyをとる前後の勾配は　0.014487279313259787\n"
     ]
    },
    {
     "data": {
      "image/png": "[encoded data removed]",
      "text/plain": [
       "<Figure size 432x288 with 1 Axes>"
      ]
     },
     "metadata": {
      "needs_background": "light"
     },
     "output_type": "display_data"
    }
   ],
   "source": [
    "def compute_gradient(y_array, x_min, x_max, x_step):\n",
    "    \"\"\"\n",
    "    変化量を使い勾配を計算する。\n",
    "    Parameters\n",
    "    ----------------\n",
    "    y_array : function\n",
    "      求めたい関数、xのndarrayを入れるとyのndarrayを返すもの。\n",
    "    x_range : tuple\n",
    "      np.arange()の引数と同じ方法で範囲を指定する。\n",
    "    Returns\n",
    "    ----------------\n",
    "    array_xy : ndarray, shape(n, 2)\n",
    "      xとyを結合したもの。nはx_rangeに依存する。\n",
    "    gradient : ndarray, shape(n-1,)\n",
    "      関数の勾配。差をとるため要素は1つ減る\n",
    "    \"\"\"\n",
    "    # x_array = np.arange(x_min, (x_max+x_step), x_step)\n",
    "    # y_array = 1/2 * x_array + 1\n",
    "    # 各xに対する値算出のため\n",
    "    a = int( (x_max - x_min) / x_step + 1)\n",
    "    \n",
    "    x_array = np.arange(x_range_min, x_range_max+x_step, x_step)\n",
    "    \n",
    "    y_1_array = y_array.reshape(a,) \n",
    "    array_xy = np.stack([x_array, y_1_array], axis=1) \n",
    "    \n",
    "    #y変化量\n",
    "    y_change = y_1_array[1:] - y_1_array[:-1]  \n",
    "\n",
    "    #x変化量\n",
    "    x_change = x_array[1:] - x_array[:-1] \n",
    "\n",
    "    # 勾配\n",
    "    gradient =  y_change / x_change \n",
    "     \n",
    "    pass\n",
    "    return array_xy, gradient \n",
    "\n",
    "x_range_min = -50\n",
    "x_range_max = 50\n",
    "x_step = 0.1\n",
    "x_array = np.arange(x_range_min, (x_range_max+x_step), x_step)\n",
    "# y_array = x_array ** 2\n",
    "y_array = np.sin(x_array ** 1/2)\n",
    "\n",
    "array_xy, gradient = compute_gradient(y_array, x_range_min, x_range_max, x_step)\n",
    "\n",
    "array_xy_0 = array_xy[:, 1]\n",
    "min_0 = np.argmin(array_xy_0)\n",
    "print(\"最小値のインデックスは[{}] , 最小値は{}\".format(min_0, array_xy_0[min_0])) \n",
    "print(\"最小のyをとる前後の勾配は　{}\".format(gradient[min_0])) \n",
    "\n",
    "plt.plot(x_array, array_xy[:, 1], label=\"sin(x_array ** 1/2)\")\n",
    "plt.legend()\n",
    "plt.show()"
   ]
  },
  {
   "cell_type": "markdown",
   "metadata": {},
   "source": [
    "## 【問題6】最小値を求める\n",
    "### 問題5で扱った関数のyの最小値を求めます。xの範囲も問題5と同様とします。\n",
    "### 今回は勾配降下法ではなく、ndarrayのminメソッド、argminメソッドを用いてください。minメソッドは最小値を、argminメソッドは最小値のインデックスを取得することができます。\n",
    "### また、最小のyをとる前後の勾配を表示してください。"
   ]
  },
  {
   "cell_type": "markdown",
   "metadata": {},
   "source": [
    "> y = x ^ 2 ( -50 <= x 50 )"
   ]
  },
  {
   "cell_type": "markdown",
   "metadata": {},
   "source": [
    "最小値のインデックスは[500] , 最小値は5.048709793414476e-25\n",
    "\n",
    "最小のyをとる前後の勾配は　0.1000000000014225"
   ]
  },
  {
   "cell_type": "markdown",
   "metadata": {},
   "source": [
    "> y = 2* x^2 + 2^x ( -50 <= x 50 )"
   ]
  },
  {
   "cell_type": "markdown",
   "metadata": {},
   "source": [
    "最小値のインデックスは[498] , 最小値は0.9505505632959851\n",
    "\n",
    "最小のyをとる前後の勾配は　0.024824282409972788"
   ]
  },
  {
   "cell_type": "markdown",
   "metadata": {},
   "source": [
    "> y = sin( x^1/2 ) ( -50 <= x 50 )"
   ]
  },
  {
   "cell_type": "markdown",
   "metadata": {},
   "source": [
    "最小値のインデックスは[343] , 最小値は-0.9999920733059178\n",
    "\n",
    "最小のyをとる前後の勾配は　0.014487279313259787"
   ]
  }
 ],
 "metadata": {
  "kernelspec": {
   "display_name": "Python 3",
   "language": "python",
   "name": "python3"
  },
  "language_info": {
   "codemirror_mode": {
    "name": "ipython",
    "version": 3
   },
   "file_extension": ".py",
   "mimetype": "text/x-python",
   "name": "python",
   "nbconvert_exporter": "python",
   "pygments_lexer": "ipython3",
   "version": "3.7.2"
  }
 },
 "nbformat": 4,
 "nbformat_minor": 2
}
