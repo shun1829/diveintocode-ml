{
 "cells": [
  {
   "cell_type": "markdown",
   "metadata": {},
   "source": [
    "# 富士山紙折問題"
   ]
  },
  {
   "cell_type": "markdown",
   "metadata": {},
   "source": [
    "#### 何回折ったら富士山を超えるか\n",
    "\n",
    "#### 「Pythonを使ってみよう」の課題では「1枚の紙を43回折り曲げた時の厚さを計算するプログラム」を実装し、43回折れば月に届くことを確認しました。\n",
    "\n",
    "\n",
    "#### では、「何回折ったら目的の厚さになるのか」を計算するプログラムを実装しましょう。\n",
    "\n",
    "#### 紙を折った時の厚さの数式\n",
    "#### 紙を $n$ 回折ったときの厚さを $t_{n}$ としたとき、以下のように表せます。\n",
    "\n",
    "\n",
    "#### $t_{n} = t_{0} × 2^{n}$\n",
    "#### 一般的なコピー用紙の厚さはおよそ 0.00008m なので、$t_{0} = 0.00008$ とします。"
   ]
  },
  {
   "cell_type": "markdown",
   "metadata": {},
   "source": [
    "## 【問題1】何回折ったら富士山を超えるか\n",
    "### 厚さが「富士山の高さ(3776m)」を超えるのに必要な紙を折る最小回数を計算するプログラムを作成してください。"
   ]
  },
  {
   "cell_type": "code",
   "execution_count": 3,
   "metadata": {},
   "outputs": [
    {
     "name": "stdout",
     "output_type": "stream",
     "text": [
      "富士山の高さを超えるのに必要な紙を折る最小回数は 26回。\n"
     ]
    }
   ],
   "source": [
    "# 紙を折る回数をx\n",
    "# 初期値\n",
    "x = 1\n",
    "\n",
    "# コピー用紙の厚さ(m)\n",
    "thickness = 0.00008\n",
    "\n",
    "# 富士山の高さ（m）\n",
    "fuji_height = 3776\n",
    "\n",
    "while thickness * 2 ** x < fuji_height:\n",
    "    x += 1\n",
    "    # if (thickness * 2 ** x) > fuji_height:\n",
    "        #break\n",
    "        \n",
    "#　print(x)     \n",
    "print(\"富士山の高さを超えるのに必要な紙を折る最小回数は {}回。\".format(x))"
   ]
  },
  {
   "cell_type": "markdown",
   "metadata": {},
   "source": [
    "## 【問題2】任意の厚さに対応した関数\n",
    "### 高さを入力すると、それを超えるのに必要な紙を折る最小回数を出力する関数を実装してください。引数として、折る前の厚さ $t_{0}$ も設定できるようにしましょう。"
   ]
  },
  {
   "cell_type": "code",
   "execution_count": 16,
   "metadata": {},
   "outputs": [
    {
     "name": "stdout",
     "output_type": "stream",
     "text": [
      " プロキシマ・ケンタウリ の高さ（m）に到達にするために折る必要最低回数は 69 回。\n"
     ]
    }
   ],
   "source": [
    "PAPER_THICKNESS = 0.00008\n",
    "FUJI_HEIGHT = 3776\n",
    "\n",
    "def fujisan_kamiori(width=0.00008, height=3776):\n",
    "    \"\"\"\n",
    "    高さを入力すると、それを超えるのに必要な紙を折る最小回数を出力する。\n",
    "    Parameters:\n",
    "    ------------\n",
    "    width : int　(default : 0.00008)\n",
    "        判定したい紙の折る前の厚さ。\n",
    "    height : int (default : 3776)\n",
    "        判定したい山の高さ。\n",
    "    Returns:\n",
    "    ------------\n",
    "    int\n",
    "        紙を折る必要最低回数。\n",
    "    \"\"\"\n",
    "    # 紙を折る回数をx\n",
    "    x = 1\n",
    "\n",
    "    while width * 2 ** x < height:\n",
    "        x += 1\n",
    "    return x\n",
    "\n",
    "# 名前\n",
    "something_name = \"プロキシマ・ケンタウリ\"\n",
    "# 厚さ(m)\n",
    "something_thickness = 0.00008\n",
    "# 山の高さ(m)\n",
    "something_height = 4.0175*10**16\n",
    "\n",
    "#　fujisan_kamiori(width=something_thickness, height=something_height)\n",
    "a = fujisan_kamiori(something_thickness, something_height)\n",
    "\n",
    "print(\" {} の高さ（m）に到達にするために折る必要最低回数は {} 回。\".format(something_name, a))"
   ]
  },
  {
   "cell_type": "markdown",
   "metadata": {},
   "source": [
    "### この関数を利用して、「最も近い太陽以外の恒星」に到達するには紙を何回折る必要があるか計算してください。\n",
    "「最も近い太陽以外の恒星」は「プロキシマ・ケンタウリ」で、地球からの距離はおよそ $4.0175 \\times 10^{16}$m です。"
   ]
  },
  {
   "cell_type": "markdown",
   "metadata": {},
   "source": [
    "上記関数を用いて計算。\n",
    "\n",
    "プロキシマ・ケンタウリ の高さ（m）に到達にするために折る必要最低回数は 69 回。"
   ]
  },
  {
   "cell_type": "markdown",
   "metadata": {},
   "source": [
    "## 【問題3】必要な紙の長さ\n",
    "### 実際のところ身近にある紙は43回はおろか10回も折れません。しかし、大きな紙ほどたくさん折ることができ、トイレットペーパーのような長い紙を一方向に折ることを考えた時の折れる回数を求める公式が存在します。\n",
    "\n",
    "\n",
    "### 厚さ $t_{0}$ の紙をn回折るために必要な紙の長さLは以下の公式で求まります。\n",
    "\n",
    "\n",
    " $L = \\frac{\\pi t_{0}}{6}(2^n + 4)(2^n - 1)$\n",
    " \n",
    "### この公式を利用して、実際に紙を折り任意の厚さに到達するために必要な紙の長さを求める関数を実装してください。"
   ]
  },
  {
   "cell_type": "code",
   "execution_count": 14,
   "metadata": {},
   "outputs": [
    {
     "name": "stdout",
     "output_type": "stream",
     "text": [
      "紙を折り プロキシマ・ケンタウリ の高さ（m）に到達にするために必要な紙の長さは 1.4595803601100346e+37 (m)。\n"
     ]
    }
   ],
   "source": [
    "#円周率\n",
    "import math\n",
    "\n",
    "PAPER_THICKNESS = 0.00008\n",
    "FUJI_HEIGHT = 3776\n",
    "\n",
    "def fujisan_kamiori(width=0.00008, height=3776):\n",
    "    \"\"\"高さを入力すると、それを超えるのに必要な紙の厚さを出力する。\n",
    "    Parameters:\n",
    "    ------------\n",
    "    width : int　(default : 0.00008)\n",
    "        判定したい紙の折る前の厚さ。\n",
    "    height : int (default : 3776)\n",
    "        判定したい山の高さ。\n",
    "    Returns:\n",
    "    ------------\n",
    "    int\n",
    "        紙を折る必要最低回数。\n",
    "    int\n",
    "        紙をx回折るために必要な紙の長さ。\n",
    "    L　：　something_thickness（m）をx回折るために必要な紙の長さ（m） \n",
    "    L = 1/6 * math.pi * something_thickness * (2x + 4 ) * (2x - 1) \n",
    "    \"\"\"\n",
    "    # 紙を折る回数をx\n",
    "    x = 1\n",
    "\n",
    "    while width * 2 ** x < height:\n",
    "        x += 1\n",
    "        L = 1/6 * math.pi * something_thickness * (2**x + 4 ) * (2**x - 1) \n",
    "    \n",
    "    return x, L\n",
    "\n",
    "# 名前\n",
    "something_name = \"プロキシマ・ケンタウリ\"\n",
    "# 厚さ(m)\n",
    "something_thickness = 0.00008\n",
    "# 山の高さ(m)\n",
    "something_height = 4.0175*10**16\n",
    "\n",
    "#　fujisan_kamiori(width=something_thickness, height=something_height)\n",
    "a, b = fujisan_kamiori(something_thickness, something_height)\n",
    "\n",
    "print(\"紙を折り {} の高さ（m）に到達にするために必要な紙の長さは {} (m)。\".format(something_name, b))\n"
   ]
  },
  {
   "cell_type": "markdown",
   "metadata": {},
   "source": [
    "### これを使って「月」「富士山」「最も近い太陽以外の恒星」に届くために必要な紙の長さを求めてください。"
   ]
  },
  {
   "cell_type": "markdown",
   "metadata": {},
   "source": [
    "月　 までの距離は、地球からおよそ $3.844 × 10^{8}$ m です。\n",
    "\n",
    "月　 に届くために必要な紙の長さは　 3.2409194441707807e+21  mです。\n",
    "\n",
    "\n",
    "\n",
    "富士山　 までの距離は、地球からおよそ $3776$ m です。\n",
    "\n",
    "富士山　　に届くために必要な紙の長さは　188646348487.24014  mです。\n",
    "\n",
    "\n",
    "\n",
    "「最も近い太陽以外の恒星」は「プロキシマ・ケンタウリ」で、地球からの距離はおよそ　$4.0175 × 10^{16}$ m です。\n",
    "\n",
    "プロキシマ・ケンタウリ　　に届くために必要な紙の長さは　1.4595803601100346e+37  mです。"
   ]
  }
 ],
 "metadata": {
  "kernelspec": {
   "display_name": "Python 3",
   "language": "python",
   "name": "python3"
  },
  "language_info": {
   "codemirror_mode": {
    "name": "ipython",
    "version": 3
   },
   "file_extension": ".py",
   "mimetype": "text/x-python",
   "name": "python",
   "nbconvert_exporter": "python",
   "pygments_lexer": "ipython3",
   "version": "3.7.2"
  }
 },
 "nbformat": 4,
 "nbformat_minor": 2
}
