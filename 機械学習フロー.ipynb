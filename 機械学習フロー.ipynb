{
 "cells": [
  {
   "cell_type": "markdown",
   "id": "f634a240-f709-4a36-ad8b-637924761920",
   "metadata": {},
   "source": [
    "## **【問題1】クロスバリデーション**"
   ]
  },
  {
   "cell_type": "code",
   "execution_count": 2,
   "id": "2bc639cb-328a-42d3-a708-c4d408cfd577",
   "metadata": {},
   "outputs": [
    {
     "name": "stdout",
     "output_type": "stream",
     "text": [
      "\n",
      "pd.read_csv()を使用して、変数に格納\n",
      "\n"
     ]
    }
   ],
   "source": [
    "import pandas as pd\n",
    "\n",
    "print(\"\")\n",
    "print(\"pd.read_csv()を使用して、変数に格納\")\n",
    "print(\"\")\n",
    "application_train = pd.read_csv('application_train.csv')"
   ]
  },
  {
   "cell_type": "code",
   "execution_count": 3,
   "id": "ff6466c3-1a31-4a9f-97f6-83b4e6ff9f00",
   "metadata": {},
   "outputs": [],
   "source": [
    "# 列抽出　特徴量　DAYS_BIRTH, DAYS_EMPLOYED\n",
    "df_selected = application_train.query(\"TARGET in [0, 1]\").loc[:, [\"DAYS_BIRTH\", \"DAYS_EMPLOYED\", \"TARGET\"]]\n",
    "\n",
    "# absで絶対値、日数/３６５で年に換算\n",
    "series_selected_0 = abs(df_selected.iloc[:,0]/365)\n",
    "series_selected_1 = abs(df_selected.iloc[:,1]/365)\n",
    "series_selected_2 = df_selected.iloc[:,2]\n",
    "# 列結合\n",
    "df_selected = pd.concat([series_selected_0, series_selected_1, series_selected_2],axis=1)\n",
    "\n",
    "# DataFrameをndarrayへ変換\n",
    "df_selected_array = df_selected.values\n",
    "# 特徴量（説明変数）をX_ndarray、正解（目的変数）をy_ndarrayというndarrayに格納\n",
    "X_array = df_selected_array[ : , 0:2] # (307511, 2)\n",
    "y_array = df_selected_array[ : , 2] # y_array.shape (307511,)"
   ]
  },
  {
   "cell_type": "code",
   "execution_count": 4,
   "id": "189e9724-f38d-4dad-8475-9a05339aa93e",
   "metadata": {},
   "outputs": [
    {
     "name": "stdout",
     "output_type": "stream",
     "text": [
      "train_index: [ 61503  61504  61505 ... 307508 307509 307510]\n",
      "test_index: [    0     1     2 ... 61500 61501 61502]\n",
      "\n",
      "train_index: [     0      1      2 ... 307508 307509 307510]\n",
      "test_index: [ 61503  61504  61505 ... 123002 123003 123004]\n",
      "\n",
      "train_index: [     0      1      2 ... 307508 307509 307510]\n",
      "test_index: [123005 123006 123007 ... 184504 184505 184506]\n",
      "\n",
      "train_index: [     0      1      2 ... 307508 307509 307510]\n",
      "test_index: [184507 184508 184509 ... 246006 246007 246008]\n",
      "\n",
      "train_index: [     0      1      2 ... 246006 246007 246008]\n",
      "test_index: [246009 246010 246011 ... 307508 307509 307510]\n",
      "\n"
     ]
    }
   ],
   "source": [
    "# KFold（K-分割交差検証）\n",
    "import numpy as np\n",
    "from sklearn.model_selection import KFold\n",
    "\n",
    "#KFoldのインスタンスを作成\n",
    "kf = KFold(n_splits=5, random_state=None, shuffle=False)\n",
    "# 分割\n",
    "for train_index, test_index in kf.split(X_array):\n",
    "    print(\"train_index:\", train_index)\n",
    "    print(\"test_index:\", test_index)\n",
    "    print()  # 1行開ける\n",
    "    \n",
    "    X_train, X_test = X_array[train_index], X_array[test_index]\n",
    "    # X_train.shape (246009, 2) X_test.shape (61502, 2)\n",
    "    # 61502 /2 46009 = 0.2499989837770163\n",
    "    y_train, y_test = y_array[train_index], y_array[test_index]\n",
    "    # y_train.shape (246009,) y_test.shape (61502,)"
   ]
  },
  {
   "cell_type": "markdown",
   "id": "e70e221a-3b41-464e-91a9-42420b8de0da",
   "metadata": {},
   "source": [
    "## **【問題2】グリッドサーチ**"
   ]
  },
  {
   "cell_type": "raw",
   "id": "61c63690-1199-4348-833d-f588f2cfbb6d",
   "metadata": {},
   "source": [
    "scikit-learnのGridSearchCVを使い、グリッドサーチを行うコードを作成してください。"
   ]
  },
  {
   "cell_type": "markdown",
   "id": "6ccd497f-b2b9-4d3f-824e-74a6b54f4ee0",
   "metadata": {},
   "source": [
    "そして、ベースラインモデルに対して何らかしらのパラメータチューニングを行なってください。\n",
    "どのパラメータをチューニングするかは、使用した手法の公式ドキュメントを参考にしてください。"
   ]
  },
  {
   "cell_type": "markdown",
   "id": "eb7f9565-c5df-4b50-bc94-ca7b77b8d0ca",
   "metadata": {},
   "source": [
    "GridSearchCVクラスには引数としてモデル、探索範囲、さらにクロスバリデーションを何分割で行うかを与えます。\n",
    "クロスバリデーションの機能も含まれているため、これを使用する場合はKFoldクラスを利用する必要はありません。"
   ]
  },
  {
   "cell_type": "code",
   "execution_count": 6,
   "id": "abd884cd-8eb5-4dc3-86df-009fa78e77a9",
   "metadata": {},
   "outputs": [
    {
     "name": "stdout",
     "output_type": "stream",
     "text": [
      "0.9192049707149706\n",
      "{'max_depth': 1, 'min_samples_leaf': 1, 'min_samples_split': 2}\n"
     ]
    }
   ],
   "source": [
    "from sklearn import datasets\n",
    "from sklearn.model_selection import GridSearchCV, train_test_split\n",
    "from sklearn import tree\n",
    "import pandas as pd\n",
    "\n",
    "# 列抽出　特徴量　DAYS_BIRTH, DAYS_EMPLOYED\n",
    "df_selected = application_train.query(\"TARGET in [0, 1]\").loc[:, [\"DAYS_BIRTH\", \"DAYS_EMPLOYED\", \"TARGET\"]]\n",
    "\n",
    "\n",
    "# absで絶対値、日数/３６５で年に換算\n",
    "series_selected_0 = abs(df_selected.iloc[:,0]/365)\n",
    "series_selected_1 = abs(df_selected.iloc[:,1]/365)\n",
    "series_selected_2 = df_selected.iloc[:,2]\n",
    "# 列結合\n",
    "df_selected = pd.concat([series_selected_0, series_selected_1, series_selected_2],axis=1)\n",
    "\n",
    "\n",
    "# DataFrameをndarrayへ変換\n",
    "df_selected_array = df_selected.values\n",
    "# 特徴量（説明変数）をX_ndarray、正解（目的変数）をy_ndarrayというndarrayに格納\n",
    "X_ndarray = df_selected_array[ : , 0:2]\n",
    "y_ndarray = df_selected_array[ : , 2]\n",
    " \n",
    "train_X, test_X, train_Y, test_Y = train_test_split(X_ndarray, y_ndarray, # 訓練データとテストデータに分割する\n",
    "                                                    test_size=0.25,       # テストデータの割合\n",
    "                                                     random_state=42)      # 乱数シードを固定する\n",
    " \n",
    "# グリッドサーチ用のパラメータを辞書型で設定\n",
    "param = {'max_depth':[1, 2, 3, 4, 5],\n",
    "         'min_samples_leaf':[1, 2, 3, 4, 5, 6, 7, 8, 9, 10],\n",
    "         'min_samples_split':[2, 3, 4, 5]}\n",
    " \n",
    "# 決定木による学習\n",
    "clf = GridSearchCV(tree.DecisionTreeClassifier(),   # グリッドサーチで決定木を定義\n",
    "                   param, cv=5)\n",
    "clf.fit(train_X, train_Y)                           # フィッティング\n",
    "\n",
    "print(clf.best_score_)  # 最も良かったスコア\n",
    "print(clf.best_params_)  # 上記を記録したパラメータの組み合わせ\n",
    "   \n",
    "\n",
    "# スコアとパラメータの組み合わせ\n",
    "# scores = clf.cv_results_['mean_test_score']\n",
    "# params = clf.cv_results_['params']\n",
    " \n",
    "# # 結果の確認\n",
    "# best_clf = clf.best_estimator_\n",
    "# print('最良条件:\\n', best_clf)\n",
    "# print('訓練スコア:\\n', best_clf.score(train_X, train_Y))\n",
    "# print('テストスコア:\\n', best_clf.score(test_X, test_Y))\n",
    "# for i in range(len(scores)):\n",
    "#     print(scores[i], params[i])"
   ]
  },
  {
   "cell_type": "markdown",
   "id": "2b4b4414-ed0b-4037-8280-94b7795ac12d",
   "metadata": {},
   "source": [
    "## **【問題3】Kaggle Notebooksからの調査**"
   ]
  },
  {
   "cell_type": "markdown",
   "id": "43ef7b6f-cd56-418a-b70e-777b2b31ab84",
   "metadata": {},
   "source": [
    "K-Foldクロスバリデーションを用いて、オーバーフィッティングを回避している。\n",
    "明らかにデータセットが不均衡であることがわかる。最終的なモデル化のためのアプローチとして、層別Kフォールドクロスバリデーションを用いることで、より良い方法でデフォルトローンを識別できるモデルになることが期待される。\n",
    "上記の roc_auc_score は、良いテストセットがたまたま選択されたことによるものと思われる。上記のroc_auc_scoreは、たまたま良いテストセットが選択されたためと考えられる。"
   ]
  },
  {
   "cell_type": "markdown",
   "id": "320630e4-290c-485c-a0c8-e9b081eb794e",
   "metadata": {},
   "source": [
    "## **【問題4】高い汎化性能のモデル作成**"
   ]
  },
  {
   "cell_type": "code",
   "execution_count": 7,
   "id": "3080878b-2bb4-45f8-8039-866330703246",
   "metadata": {},
   "outputs": [],
   "source": [
    "df = application_train[0:10000]"
   ]
  },
  {
   "cell_type": "code",
   "execution_count": 8,
   "id": "eaeb6de1-4192-4efb-b2f4-b813b32ba91c",
   "metadata": {},
   "outputs": [],
   "source": [
    "y = df['TARGET'].copy()\n",
    "x = df[['CODE_GENDER', 'NAME_FAMILY_STATUS', 'AMT_CREDIT', 'DAYS_BIRTH']].copy()\n",
    "df_test = df[['TARGET', 'CODE_GENDER', 'NAME_FAMILY_STATUS', 'AMT_CREDIT',\n",
    "              'DAYS_BIRTH']].copy()"
   ]
  },
  {
   "cell_type": "code",
   "execution_count": 9,
   "id": "514805cc-e6db-4778-9d15-f9af2342531e",
   "metadata": {},
   "outputs": [],
   "source": [
    "x['CODE_GENDER'] \n",
    "x['CODE_GENDER'] = x['CODE_GENDER'].map({'M' : 0, 'F' : 1}).astype(int) # 性別のダミー変数"
   ]
  },
  {
   "cell_type": "code",
   "execution_count": 10,
   "id": "a2b02bee-f142-4b9b-b580-41e89878c911",
   "metadata": {},
   "outputs": [],
   "source": [
    "x['NAME_FAMILY_STATUS'] = x['NAME_FAMILY_STATUS'].map({'Civil marriage' : 0,\n",
    "                'Married' : 1, 'Separated' : 2, 'Single / not married' : 3,\n",
    "                'Widow' : 4}).astype(int) # 性別のダミー変数"
   ]
  },
  {
   "cell_type": "code",
   "execution_count": 11,
   "id": "bddf939f-78e8-40ec-a234-2d600c02dd72",
   "metadata": {},
   "outputs": [],
   "source": [
    "from sklearn.model_selection import train_test_split\n",
    "x_train, x_test = train_test_split(x.values, random_state=0).copy()\n",
    "y_train, y_true = train_test_split(y.values, random_state=0).copy()"
   ]
  },
  {
   "cell_type": "code",
   "execution_count": 12,
   "id": "f15d6bd5-2981-4542-99d1-a0705668c8c9",
   "metadata": {},
   "outputs": [
    {
     "name": "stdout",
     "output_type": "stream",
     "text": [
      "[[2306    0]\n",
      " [ 194    0]]\n",
      "              precision    recall  f1-score   support\n",
      "\n",
      "           0       0.92      1.00      0.96      2306\n",
      "           1       0.00      0.00      0.00       194\n",
      "\n",
      "    accuracy                           0.92      2500\n",
      "   macro avg       0.46      0.50      0.48      2500\n",
      "weighted avg       0.85      0.92      0.89      2500\n",
      "\n"
     ]
    },
    {
     "name": "stderr",
     "output_type": "stream",
     "text": [
      "/Users/shunnadamoto/.pyenv/versions/anaconda3-5.3.1/lib/python3.7/site-packages/sklearn/metrics/_classification.py:1248: UndefinedMetricWarning: Precision and F-score are ill-defined and being set to 0.0 in labels with no predicted samples. Use `zero_division` parameter to control this behavior.\n",
      "  _warn_prf(average, modifier, msg_start, len(result))\n",
      "/Users/shunnadamoto/.pyenv/versions/anaconda3-5.3.1/lib/python3.7/site-packages/sklearn/metrics/_classification.py:1248: UndefinedMetricWarning: Precision and F-score are ill-defined and being set to 0.0 in labels with no predicted samples. Use `zero_division` parameter to control this behavior.\n",
      "  _warn_prf(average, modifier, msg_start, len(result))\n",
      "/Users/shunnadamoto/.pyenv/versions/anaconda3-5.3.1/lib/python3.7/site-packages/sklearn/metrics/_classification.py:1248: UndefinedMetricWarning: Precision and F-score are ill-defined and being set to 0.0 in labels with no predicted samples. Use `zero_division` parameter to control this behavior.\n",
      "  _warn_prf(average, modifier, msg_start, len(result))\n"
     ]
    }
   ],
   "source": [
    "from sklearn.linear_model import LogisticRegression\n",
    "import sklearn.metrics as me\n",
    "from sklearn.metrics import classification_report\n",
    "\n",
    "logi = LogisticRegression()\n",
    "logi.fit(x_train, y_train)\n",
    "logi_pred = logi.predict(x_test)\n",
    "logi_confusion = me.confusion_matrix(y_true, logi_pred) \n",
    "print(logi_confusion) # 混同行列\n",
    "print(classification_report(y_true, logi_pred))"
   ]
  },
  {
   "cell_type": "code",
   "execution_count": 13,
   "id": "1a809bb2-8d16-4126-aa9e-52ea4edd2784",
   "metadata": {},
   "outputs": [
    {
     "data": {
      "text/html": [
       "<div>\n",
       "<style scoped>\n",
       "    .dataframe tbody tr th:only-of-type {\n",
       "        vertical-align: middle;\n",
       "    }\n",
       "\n",
       "    .dataframe tbody tr th {\n",
       "        vertical-align: top;\n",
       "    }\n",
       "\n",
       "    .dataframe thead th {\n",
       "        text-align: right;\n",
       "    }\n",
       "</style>\n",
       "<table border=\"1\" class=\"dataframe\">\n",
       "  <thead>\n",
       "    <tr style=\"text-align: right;\">\n",
       "      <th></th>\n",
       "      <th>th_all</th>\n",
       "      <th>tpr_all</th>\n",
       "      <th>fpr_all</th>\n",
       "    </tr>\n",
       "  </thead>\n",
       "  <tbody>\n",
       "    <tr>\n",
       "      <th>0</th>\n",
       "      <td>1.232335</td>\n",
       "      <td>0.000000</td>\n",
       "      <td>0.000000</td>\n",
       "    </tr>\n",
       "    <tr>\n",
       "      <th>1</th>\n",
       "      <td>0.232335</td>\n",
       "      <td>0.000000</td>\n",
       "      <td>0.000434</td>\n",
       "    </tr>\n",
       "    <tr>\n",
       "      <th>2</th>\n",
       "      <td>0.230754</td>\n",
       "      <td>0.000000</td>\n",
       "      <td>0.001301</td>\n",
       "    </tr>\n",
       "    <tr>\n",
       "      <th>3</th>\n",
       "      <td>0.229561</td>\n",
       "      <td>0.005155</td>\n",
       "      <td>0.001301</td>\n",
       "    </tr>\n",
       "    <tr>\n",
       "      <th>4</th>\n",
       "      <td>0.210383</td>\n",
       "      <td>0.005155</td>\n",
       "      <td>0.012142</td>\n",
       "    </tr>\n",
       "    <tr>\n",
       "      <th>...</th>\n",
       "      <td>...</td>\n",
       "      <td>...</td>\n",
       "      <td>...</td>\n",
       "    </tr>\n",
       "    <tr>\n",
       "      <th>353</th>\n",
       "      <td>0.023893</td>\n",
       "      <td>0.989691</td>\n",
       "      <td>0.969644</td>\n",
       "    </tr>\n",
       "    <tr>\n",
       "      <th>354</th>\n",
       "      <td>0.017928</td>\n",
       "      <td>0.989691</td>\n",
       "      <td>0.996964</td>\n",
       "    </tr>\n",
       "    <tr>\n",
       "      <th>355</th>\n",
       "      <td>0.017884</td>\n",
       "      <td>0.994845</td>\n",
       "      <td>0.996964</td>\n",
       "    </tr>\n",
       "    <tr>\n",
       "      <th>356</th>\n",
       "      <td>0.014933</td>\n",
       "      <td>0.994845</td>\n",
       "      <td>1.000000</td>\n",
       "    </tr>\n",
       "    <tr>\n",
       "      <th>357</th>\n",
       "      <td>0.009563</td>\n",
       "      <td>1.000000</td>\n",
       "      <td>1.000000</td>\n",
       "    </tr>\n",
       "  </tbody>\n",
       "</table>\n",
       "<p>358 rows × 3 columns</p>\n",
       "</div>"
      ],
      "text/plain": [
       "       th_all   tpr_all   fpr_all\n",
       "0    1.232335  0.000000  0.000000\n",
       "1    0.232335  0.000000  0.000434\n",
       "2    0.230754  0.000000  0.001301\n",
       "3    0.229561  0.005155  0.001301\n",
       "4    0.210383  0.005155  0.012142\n",
       "..        ...       ...       ...\n",
       "353  0.023893  0.989691  0.969644\n",
       "354  0.017928  0.989691  0.996964\n",
       "355  0.017884  0.994845  0.996964\n",
       "356  0.014933  0.994845  1.000000\n",
       "357  0.009563  1.000000  1.000000\n",
       "\n",
       "[358 rows x 3 columns]"
      ]
     },
     "metadata": {},
     "output_type": "display_data"
    },
    {
     "name": "stdout",
     "output_type": "stream",
     "text": [
      "AUC : 0.6148863118176697\n"
     ]
    },
    {
     "data": {
      "image/png": "[encoded data removed]",
      "text/plain": [
       "<Figure size 432x288 with 1 Axes>"
      ]
     },
     "metadata": {
      "needs_background": "light"
     },
     "output_type": "display_data"
    }
   ],
   "source": [
    "import matplotlib.pyplot as plt\n",
    "from sklearn.metrics import roc_auc_score\n",
    "# predict_probaは、それぞれのターゲットが予測されたクラスに属する確率を0～1の実数で表す。\n",
    "# fpr, tpr, thresholdsで、それぞれFPR（偽陽性率）、TPR（真陽性率）、閾値。\n",
    "fpr_all, tpr_all, th_all  = me.roc_curve(y_true, logi.predict_proba(x_test)[:, 1], pos_label=1)# 正解ラベル１を1に設定、なのでみるべきなのは0を取る時の確率密度\n",
    "df_roc = pd.DataFrame({'th_all': th_all, 'tpr_all': tpr_all, 'fpr_all': fpr_all}) # 閾値、再現率(recall)、陰性を間違えて陽性と判断した場合\n",
    "# fprを横軸、tprを縦軸にプロットしたものをROC曲線\n",
    "plt.plot(fpr_all, tpr_all, marker='o')\n",
    "plt.xlabel('FPR: False positive rate')\n",
    "plt.ylabel('TPR: True positive rate')\n",
    "plt.grid()\n",
    "display(df_roc)\n",
    "print('AUC : {}'.format(roc_auc_score(y_true, logi.predict_proba(x_test)[:, 1])))"
   ]
  },
  {
   "cell_type": "code",
   "execution_count": 14,
   "id": "c368ad0c-4706-46d4-bdd5-857f9945fe7d",
   "metadata": {},
   "outputs": [],
   "source": [
    "application_test = pd.read_csv('application_test.csv')"
   ]
  },
  {
   "cell_type": "code",
   "execution_count": 15,
   "id": "50f07d6c-c507-40d7-828c-396a3e1c938a",
   "metadata": {},
   "outputs": [],
   "source": [
    "# データの読み込み\n",
    "x_testdata = application_test[['CODE_GENDER', 'NAME_FAMILY_STATUS',\n",
    "                'AMT_CREDIT', 'DAYS_BIRTH', 'DAYS_REGISTRATION']].copy() "
   ]
  },
  {
   "cell_type": "code",
   "execution_count": 16,
   "id": "01651b3f-1e2d-4eec-8363-77449599c6d4",
   "metadata": {},
   "outputs": [],
   "source": [
    "x_testdata['CODE_GENDER'] = x_testdata['CODE_GENDER'].map({'M' : 0, 'F' : 1, 'XNA' : 2}).astype(int) # 性別のダミー変数\n",
    "x_testdata['NAME_FAMILY_STATUS'] = x_testdata['NAME_FAMILY_STATUS'].map({'Civil marriage' : 0, 'Married' : 1, 'Separated' : 2, 'Single / not married' : 3,\n",
    "                                                                         'Widow' : 4, 'Unknown' : 5}).astype(int) # 性別のダミー変数"
   ]
  },
  {
   "cell_type": "code",
   "execution_count": 17,
   "id": "1ac2be33-10e8-46ea-a1dd-726a6400f399",
   "metadata": {},
   "outputs": [],
   "source": [
    "# logi_pred_testdata = logi.predict(x_testdata.values) # 結果の出力"
   ]
  },
  {
   "cell_type": "code",
   "execution_count": 50,
   "id": "3e23d69f-fa01-4687-922a-b4f3434b9c04",
   "metadata": {},
   "outputs": [],
   "source": [
    "df_test = application_test\n",
    "sk_id = df_test['SK_ID_CURR']"
   ]
  },
  {
   "cell_type": "code",
   "execution_count": 51,
   "id": "c29bc7cf-2390-43a7-afd5-2a4e0571efa9",
   "metadata": {},
   "outputs": [],
   "source": [
    "x = df_test[['CODE_GENDER', 'NAME_FAMILY_STATUS', 'AMT_CREDIT', 'DAYS_BIRTH']].copy()"
   ]
  },
  {
   "cell_type": "code",
   "execution_count": 52,
   "id": "643cdaf5-b85f-40e1-a4e9-dc5bc7179e9a",
   "metadata": {},
   "outputs": [],
   "source": [
    "x['CODE_GENDER'] \n",
    "x['CODE_GENDER'] = x['CODE_GENDER'].map({'M' : 0, 'F' : 1}).astype(int) # 性別のダミー変数"
   ]
  },
  {
   "cell_type": "code",
   "execution_count": 53,
   "id": "8346ad2a-9434-4902-850a-2bd23f1a00ce",
   "metadata": {},
   "outputs": [],
   "source": [
    "x['NAME_FAMILY_STATUS'] = x['NAME_FAMILY_STATUS'].map({'Civil marriage' : 0,\n",
    "                'Married' : 1, 'Separated' : 2, 'Single / not married' : 3,\n",
    "                'Widow' : 4}).astype(int) # 性別のダミー変数"
   ]
  },
  {
   "cell_type": "code",
   "execution_count": 54,
   "id": "81a174b1-6c0e-49d2-b9c8-afc63d39bb25",
   "metadata": {},
   "outputs": [],
   "source": [
    "logi_pred_testdata = logi.predict(x.values) # 結果の出力"
   ]
  },
  {
   "cell_type": "code",
   "execution_count": 55,
   "id": "15d8149a-183e-484f-b475-4bbf8937e0c0",
   "metadata": {},
   "outputs": [
    {
     "data": {
      "text/plain": [
       "numpy.ndarray"
      ]
     },
     "execution_count": 55,
     "metadata": {},
     "output_type": "execute_result"
    }
   ],
   "source": [
    "type(logi_pred_testdata)"
   ]
  },
  {
   "cell_type": "code",
   "execution_count": 56,
   "id": "68bd8a42-d31a-45c4-b32c-21c0301fe020",
   "metadata": {},
   "outputs": [],
   "source": [
    "homecredit_submission = pd.DataFrame({ 'SK_ID_CURR': sk_id,'TARGET': logi_pred_testdata})\n",
    "# homecredit_submission.to_csv(\"drive/My Drive/Sprint1/homecredit_submission.csv\", index=False)"
   ]
  },
  {
   "cell_type": "code",
   "execution_count": 60,
   "id": "4de20f5b-86f0-4883-a7e0-07063fa31c21",
   "metadata": {},
   "outputs": [],
   "source": [
    "homecredit_submission.to_csv(\"homecredit_submission.csv\", index = False)"
   ]
  },
  {
   "cell_type": "code",
   "execution_count": 58,
   "id": "93f279f3-553b-4f26-a616-9c18cd33af00",
   "metadata": {},
   "outputs": [
    {
     "data": {
      "text/plain": [
       "array([0, 0, 0, ..., 0, 0, 0])"
      ]
     },
     "execution_count": 58,
     "metadata": {},
     "output_type": "execute_result"
    }
   ],
   "source": [
    "logi_pred_testdata"
   ]
  },
  {
   "cell_type": "code",
   "execution_count": 59,
   "id": "23b2aad8-6022-4255-aeeb-f715aa254ec3",
   "metadata": {},
   "outputs": [
    {
     "data": {
      "text/html": [
       "<div>\n",
       "<style scoped>\n",
       "    .dataframe tbody tr th:only-of-type {\n",
       "        vertical-align: middle;\n",
       "    }\n",
       "\n",
       "    .dataframe tbody tr th {\n",
       "        vertical-align: top;\n",
       "    }\n",
       "\n",
       "    .dataframe thead th {\n",
       "        text-align: right;\n",
       "    }\n",
       "</style>\n",
       "<table border=\"1\" class=\"dataframe\">\n",
       "  <thead>\n",
       "    <tr style=\"text-align: right;\">\n",
       "      <th></th>\n",
       "      <th>SK_ID_CURR</th>\n",
       "      <th>TARGET</th>\n",
       "    </tr>\n",
       "  </thead>\n",
       "  <tbody>\n",
       "    <tr>\n",
       "      <th>0</th>\n",
       "      <td>100001</td>\n",
       "      <td>0</td>\n",
       "    </tr>\n",
       "    <tr>\n",
       "      <th>1</th>\n",
       "      <td>100005</td>\n",
       "      <td>0</td>\n",
       "    </tr>\n",
       "    <tr>\n",
       "      <th>2</th>\n",
       "      <td>100013</td>\n",
       "      <td>0</td>\n",
       "    </tr>\n",
       "    <tr>\n",
       "      <th>3</th>\n",
       "      <td>100028</td>\n",
       "      <td>0</td>\n",
       "    </tr>\n",
       "    <tr>\n",
       "      <th>4</th>\n",
       "      <td>100038</td>\n",
       "      <td>0</td>\n",
       "    </tr>\n",
       "    <tr>\n",
       "      <th>...</th>\n",
       "      <td>...</td>\n",
       "      <td>...</td>\n",
       "    </tr>\n",
       "    <tr>\n",
       "      <th>48739</th>\n",
       "      <td>456221</td>\n",
       "      <td>0</td>\n",
       "    </tr>\n",
       "    <tr>\n",
       "      <th>48740</th>\n",
       "      <td>456222</td>\n",
       "      <td>0</td>\n",
       "    </tr>\n",
       "    <tr>\n",
       "      <th>48741</th>\n",
       "      <td>456223</td>\n",
       "      <td>0</td>\n",
       "    </tr>\n",
       "    <tr>\n",
       "      <th>48742</th>\n",
       "      <td>456224</td>\n",
       "      <td>0</td>\n",
       "    </tr>\n",
       "    <tr>\n",
       "      <th>48743</th>\n",
       "      <td>456250</td>\n",
       "      <td>0</td>\n",
       "    </tr>\n",
       "  </tbody>\n",
       "</table>\n",
       "<p>48744 rows × 2 columns</p>\n",
       "</div>"
      ],
      "text/plain": [
       "       SK_ID_CURR  TARGET\n",
       "0          100001       0\n",
       "1          100005       0\n",
       "2          100013       0\n",
       "3          100028       0\n",
       "4          100038       0\n",
       "...           ...     ...\n",
       "48739      456221       0\n",
       "48740      456222       0\n",
       "48741      456223       0\n",
       "48742      456224       0\n",
       "48743      456250       0\n",
       "\n",
       "[48744 rows x 2 columns]"
      ]
     },
     "execution_count": 59,
     "metadata": {},
     "output_type": "execute_result"
    }
   ],
   "source": [
    "homecredit_submission"
   ]
  },
  {
   "cell_type": "markdown",
   "id": "49231edf-2de1-4b2e-9b6b-3c217703b7ee",
   "metadata": {},
   "source": [
    "## **【問題5】最終的なモデルの選定**"
   ]
  },
  {
   "cell_type": "markdown",
   "id": "b633c702-0451-4cff-9c5f-67ffd427524a",
   "metadata": {},
   "source": [
    "homecredit_submission.csv\n",
    "a minute ago\n",
    "1 seconds\n",
    "1 seconds\n",
    "0.50000"
   ]
  },
  {
   "cell_type": "markdown",
   "id": "feaa5347-047e-4e63-b097-850bf448dae5",
   "metadata": {},
   "source": [
    "kaggleから参考コードを持ってきてトライしたがスコアが出ず。特徴量の選択によりAUCスコアが良くなっているように思えた。"
   ]
  },
  {
   "cell_type": "code",
   "execution_count": null,
   "id": "3dddef0b-603d-4b43-8a84-3748b74ebb52",
   "metadata": {},
   "outputs": [],
   "source": []
  }
 ],
 "metadata": {
  "kernelspec": {
   "display_name": "Python 3",
   "language": "python",
   "name": "python3"
  },
  "language_info": {
   "codemirror_mode": {
    "name": "ipython",
    "version": 3
   },
   "file_extension": ".py",
   "mimetype": "text/x-python",
   "name": "python",
   "nbconvert_exporter": "python",
   "pygments_lexer": "ipython3",
   "version": "3.7.2"
  }
 },
 "nbformat": 4,
 "nbformat_minor": 5
}
