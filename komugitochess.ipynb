{
 "cells": [
  {
   "cell_type": "markdown",
   "metadata": {},
   "source": [
    "# 小麦とチェス盤問題\n"
   ]
  },
  {
   "cell_type": "markdown",
   "metadata": {},
   "source": [
    "## 【問題1】2×2マスのチェス盤の小麦の数\n",
    "\n",
    "### 2×2マスのチェス盤をndarrayによって表現し、各マスの小麦の数を計算してください。左上のマスに小麦を1つ置いた後、その右が2つ、左下が4つ、右下が8つという風に進みます。\n",
    "\n",
    "\n",
    "### サンプルコードで作成したndarrayのshapeの変形を行ってください。"
   ]
  },
  {
   "cell_type": "markdown",
   "metadata": {},
   "source": [
    "Numpyで配列を作成する際にはnp.array()を使用する。\n",
    "引数としてリストを渡す。\n",
    "\n",
    "Numpyの配列をndarrayと呼ぶ。"
   ]
  },
  {
   "cell_type": "code",
   "execution_count": 147,
   "metadata": {},
   "outputs": [
    {
     "name": "stdout",
     "output_type": "stream",
     "text": [
      "[1, 2, 4, 8]\n",
      "[1 2 4 8]\n",
      "(4,)\n",
      "[[1 2]\n",
      " [4 8]]\n",
      "(2, 2)\n"
     ]
    }
   ],
   "source": [
    "n_squares = 4\n",
    "a_board_list = [1]\n",
    "\n",
    "for _ in range(n_squares - 1):\n",
    "    a_board_list.append(2*a_board_list[-1])\n",
    "    \n",
    "print(a_board_list)\n",
    "\n",
    "a_board_ndarray = np.array(a_board_list)\n",
    "print(a_board_ndarray)\n",
    "print(a_board_ndarray.shape)\n",
    "\n",
    "b_board_ndarray = a_board_ndarray.reshape(2, 2)\n",
    "print(b_board_ndarray)\n",
    "print(b_board_ndarray.shape)"
   ]
  },
  {
   "cell_type": "markdown",
   "metadata": {},
   "source": [
    "## 【問題2】n×mマスへの拡張\n",
    "\n",
    "### n×mマスのチェス盤の小麦の数を記したndarrayを返す関数を作成してください。そして、この関数を使い8×8マスのチェス盤の小麦の数を求めてください。"
   ]
  },
  {
   "cell_type": "code",
   "execution_count": 96,
   "metadata": {},
   "outputs": [
    {
     "name": "stdout",
     "output_type": "stream",
     "text": [
      "[[1.00000000e+00 2.00000000e+00 4.00000000e+00 8.00000000e+00\n",
      "  1.60000000e+01 3.20000000e+01 6.40000000e+01 1.28000000e+02]\n",
      " [2.56000000e+02 5.12000000e+02 1.02400000e+03 2.04800000e+03\n",
      "  4.09600000e+03 8.19200000e+03 1.63840000e+04 3.27680000e+04]\n",
      " [6.55360000e+04 1.31072000e+05 2.62144000e+05 5.24288000e+05\n",
      "  1.04857600e+06 2.09715200e+06 4.19430400e+06 8.38860800e+06]\n",
      " [1.67772160e+07 3.35544320e+07 6.71088640e+07 1.34217728e+08\n",
      "  2.68435456e+08 5.36870912e+08 1.07374182e+09 2.14748365e+09]\n",
      " [4.29496730e+09 8.58993459e+09 1.71798692e+10 3.43597384e+10\n",
      "  6.87194767e+10 1.37438953e+11 2.74877907e+11 5.49755814e+11]\n",
      " [1.09951163e+12 2.19902326e+12 4.39804651e+12 8.79609302e+12\n",
      "  1.75921860e+13 3.51843721e+13 7.03687442e+13 1.40737488e+14]\n",
      " [2.81474977e+14 5.62949953e+14 1.12589991e+15 2.25179981e+15\n",
      "  4.50359963e+15 9.00719925e+15 1.80143985e+16 3.60287970e+16]\n",
      " [7.20575940e+16 1.44115188e+17 2.88230376e+17 5.76460752e+17\n",
      "  1.15292150e+18 2.30584301e+18 4.61168602e+18 9.22337204e+18]]\n",
      "9.223372036854776e+18\n"
     ]
    }
   ],
   "source": [
    "def komugi_chess(n=2, m=2):\n",
    "    \n",
    "    \"\"\" n行(row)×m列(column)マスのチェス盤の小麦の数を記したndarrayを返す関数。\n",
    "    Parameteres\n",
    "    -----------\n",
    "    n　: int\n",
    "        n行 (default : 2)\n",
    "    m : int\n",
    "        m列 (default : 2)\n",
    "    Returns\n",
    "    -------\n",
    "    b_board_ndarray : \n",
    "        n×mマスのチェス盤の小麦の数を記したndarray \n",
    "    \"\"\"\n",
    "    n_squares = n*m\n",
    "    a_board_list = [1]\n",
    "    for _ in range(n_squares - 1):\n",
    "        a_board_list.append(2*a_board_list[-1])\n",
    "    \n",
    "    # np.array()\n",
    "    a_board_ndarray = np.array(a_board_list)\n",
    "    # reshape\n",
    "    b_board_ndarray = a_board_ndarray.reshape(n, m)\n",
    "    \n",
    "    return b_board_ndarray\n",
    "\n",
    "row = 8\n",
    "column = 8\n",
    "\n",
    "c = komugi_chess(n=row, m=column)\n",
    "print(c)\n",
    "# 8×8マスのチェス盤の小麦の数\n",
    "print(c[-1, -1])"
   ]
  },
  {
   "cell_type": "markdown",
   "metadata": {},
   "source": [
    "## 【問題3】小麦の数の合計\n",
    "\n",
    "### 8×8マスのチェス盤の小麦の数の合計を求めてください。また、各列の平均を求め、それを棒グラフで可視化してください。"
   ]
  },
  {
   "cell_type": "markdown",
   "metadata": {},
   "source": [
    "8×8マスのチェス盤の小麦の数の合計(row = 8, column = 8)\n",
    "\n",
    "print(c.sum())\n",
    "\n",
    "1.8446744073709552e+19\n",
    "\n"
   ]
  },
  {
   "cell_type": "code",
   "execution_count": 102,
   "metadata": {
    "scrolled": true
   },
   "outputs": [
    {
     "name": "stdout",
     "output_type": "stream",
     "text": [
      "[9.04252160e+15 1.80850432e+16 3.61700864e+16 7.23401728e+16\n",
      " 1.44680346e+17 2.89360691e+17 5.78721383e+17 1.15744277e+18]\n"
     ]
    },
    {
     "data": {
      "image/png": "[encoded data removed]",
      "text/plain": [
       "<Figure size 432x288 with 1 Axes>"
      ]
     },
     "metadata": {
      "needs_background": "light"
     },
     "output_type": "display_data"
    }
   ],
   "source": [
    "# 各列の平均\n",
    "print(c.mean(axis=0))\n",
    "\n",
    "import matplotlib.pyplot as plt\n",
    "%matplotlib inline\n",
    "plt.xlabel(\"column\")\n",
    "plt.ylabel(\"mean\")\n",
    "plt.title(\"mean of columns\")\n",
    "plt.bar(np.arange(1,9), c.mean(axis=0))\n",
    "plt.show()"
   ]
  },
  {
   "cell_type": "markdown",
   "metadata": {},
   "source": [
    "## 【問題4】小麦の数のヒートマップ\n",
    "### 8×8マスのチェス盤の小麦の数をヒートマップとして可視化してください。"
   ]
  },
  {
   "cell_type": "code",
   "execution_count": 103,
   "metadata": {},
   "outputs": [
    {
     "data": {
      "image/png": "[encoded data removed]",
      "text/plain": [
       "<Figure size 432x288 with 1 Axes>"
      ]
     },
     "metadata": {
      "needs_background": "light"
     },
     "output_type": "display_data"
    }
   ],
   "source": [
    "plt.xlabel(\"column\")\n",
    "plt.ylabel(\"row\")\n",
    "plt.title(\"heatmap\")\n",
    "plt.pcolor(c)\n",
    "plt.show()"
   ]
  },
  {
   "cell_type": "markdown",
   "metadata": {},
   "source": [
    "## 【問題5】後半は前半の何倍か\n",
    "### チェス盤の後半にある小麦の数は前半にある小麦の数の何倍かを求めてください。前半とは配列の0から3行目、後半は4から7行目です。"
   ]
  },
  {
   "cell_type": "code",
   "execution_count": 126,
   "metadata": {},
   "outputs": [
    {
     "name": "stdout",
     "output_type": "stream",
     "text": [
      "チェス盤の後半にある小麦の数は前半にある小麦の数の4294967296.0倍\n"
     ]
    }
   ],
   "source": [
    "# 行ごとの合計\n",
    "d = c.mean(axis=1)\n",
    "# print(d)\n",
    "\n",
    "#  チェス盤の前半にある小麦\n",
    "first_sum = d[:4].sum()\n",
    "# print(\"1番目の軸方向の0から3行目の合計は{}\".format(first_sum))\n",
    "\n",
    "# チェス盤の後半にある小麦\n",
    "second_sum = d[4:].sum()\n",
    "# print(\"1番目の軸方向の4から7行目の合計は{}\".format(second_sum))\n",
    "\n",
    "# チェス盤の後半にある小麦の数は前半にある小麦の数の何倍か\n",
    "e = second_sum / first_sum\n",
    "print(\"チェス盤の後半にある小麦の数は前半にある小麦の数の{}倍\".format(e))"
   ]
  },
  {
   "cell_type": "markdown",
   "metadata": {},
   "source": [
    "## 【問題6】他の計算方法によるn×mマスへの拡張\n",
    "### 問題2と同様の「n×mマスのチェス盤の小麦の数を記したndarrayを返す関数」を、np.append()を使ったものと、ブロードキャストを使ったもので新たに作成してください。\n",
    "### それらの関数を使い8×8マスのチェス盤の小麦の数を再び求めてください。"
   ]
  },
  {
   "cell_type": "markdown",
   "metadata": {},
   "source": [
    ">「n×mマスのチェス盤の小麦の数を記したndarrayを返す関数」\n",
    "\n",
    ">np.append()を使ったもの "
   ]
  },
  {
   "cell_type": "code",
   "execution_count": 149,
   "metadata": {},
   "outputs": [
    {
     "name": "stdout",
     "output_type": "stream",
     "text": [
      "8×8マスのチェス盤の小麦の数は9.223372036854776e+18個\n"
     ]
    }
   ],
   "source": [
    "def komugi_chess_second(n=2, m=2):\n",
    "    \n",
    "    \"\"\" np.append()\n",
    "    n行(row)×m列(column)マスのチェス盤の小麦の数を記したndarrayを返す関数。\n",
    "    Parameteres\n",
    "    -----------\n",
    "    n　: int\n",
    "        n行 (default : 2)\n",
    "    m : int\n",
    "        m列 (default : 2)\n",
    "    Returns\n",
    "    -------\n",
    "    f_board_ndarray : \n",
    "        n×mマスのチェス盤の小麦の数を記したndarray\n",
    "    \"\"\"\n",
    "    n_squares = n*m\n",
    "    # astypeメソッドを使ってndarrayをuint64型\n",
    "    f_board_ndarray = np.array([1]).astype(np.uint64)\n",
    "    \n",
    "    for _ in range(n_squares - 1):\n",
    "        f_board_ndarray = np.append(f_board_ndarray, 2*f_board_ndarray[-1])\n",
    "    \n",
    "    return f_board_ndarray\n",
    "\n",
    "row_second = 8\n",
    "column_second = 8\n",
    "\n",
    "g = komugi_chess_second(n=row_second, m=column_second)\n",
    "# 8×8マスのチェス盤の小麦の数\n",
    "print(\"8×8マスのチェス盤の小麦の数は{}個\".format(g[-1]))"
   ]
  },
  {
   "cell_type": "markdown",
   "metadata": {},
   "source": [
    ">「n×mマスのチェス盤の小麦の数を記したndarrayを返す関数」\n",
    "\n",
    ">ブロードキャストを使ったもの "
   ]
  },
  {
   "cell_type": "code",
   "execution_count": 152,
   "metadata": {},
   "outputs": [
    {
     "name": "stdout",
     "output_type": "stream",
     "text": [
      "8×8マスのチェス盤の小麦の数は9223372036854775808個\n"
     ]
    }
   ],
   "source": [
    "def komugi_chess_third(n=2, m=2):\n",
    "    \n",
    "    \"\"\" ブロードキャスト\n",
    "    n行(row)×m列(column)マスのチェス盤の小麦の数を記したndarrayを返す関数。\n",
    "    Parameteres\n",
    "    -----------\n",
    "    n　: int\n",
    "        n行 (default : 2)\n",
    "    m : int\n",
    "        m列 (default : 2)\n",
    "    Returns\n",
    "    -------\n",
    "    i_board_ndarray : \n",
    "        n×mマスのチェス盤の小麦の数を記したndarray\n",
    "    \"\"\"\n",
    "    n_squares = n*m\n",
    "    # astypeメソッドを使ってndarrayをuint64型\n",
    "    h_board_ndarray = np.arange(n_squares).astype(np.uint64)\n",
    "    i_board_ndarray = 2**h_board_ndarray\n",
    "    \n",
    "    return i_board_ndarray\n",
    "\n",
    "row_third = 8\n",
    "column_third = 8\n",
    "\n",
    "j = komugi_chess_third(n=row_third, m=column_third)\n",
    "# 8×8マスのチェス盤の小麦の数\n",
    "print(\"8×8マスのチェス盤の小麦の数は{}個\".format(j[-1]))"
   ]
  },
  {
   "cell_type": "markdown",
   "metadata": {},
   "source": [
    ">for文を使った方法"
   ]
  },
  {
   "cell_type": "code",
   "execution_count": 169,
   "metadata": {},
   "outputs": [
    {
     "name": "stdout",
     "output_type": "stream",
     "text": [
      "21.2 µs ± 1.24 µs per loop (mean ± std. dev. of 7 runs, 100000 loops each)\n"
     ]
    }
   ],
   "source": [
    "%%timeit\n",
    "n_squares = 8*8\n",
    "a_board_list = [1]\n",
    "for _ in range(n_squares - 1):\n",
    "    a_board_list.append(2*a_board_list[-1])\n",
    "\n",
    "# np.array()\n",
    "a_board_ndarray = np.array(a_board_list).astype(np.uint64)"
   ]
  },
  {
   "cell_type": "markdown",
   "metadata": {},
   "source": [
    ">np.append()を使った方法"
   ]
  },
  {
   "cell_type": "code",
   "execution_count": 170,
   "metadata": {},
   "outputs": [
    {
     "name": "stdout",
     "output_type": "stream",
     "text": [
      "339 µs ± 35.8 µs per loop (mean ± std. dev. of 7 runs, 1000 loops each)\n"
     ]
    }
   ],
   "source": [
    "%%timeit\n",
    "n_squares = 8*8\n",
    "# astypeメソッドを使ってndarrayをuint64型\n",
    "f_board_ndarray = np.array([1]).astype(np.uint64)\n",
    "\n",
    "for _ in range(n_squares - 1):\n",
    "    f_board_ndarray = np.append(f_board_ndarray, 2*f_board_ndarray[-1])"
   ]
  },
  {
   "cell_type": "markdown",
   "metadata": {},
   "source": [
    ">ブロードキャストを使った方法"
   ]
  },
  {
   "cell_type": "code",
   "execution_count": 168,
   "metadata": {},
   "outputs": [
    {
     "name": "stdout",
     "output_type": "stream",
     "text": [
      "3.49 µs ± 426 ns per loop (mean ± std. dev. of 7 runs, 100000 loops each)\n"
     ]
    }
   ],
   "source": [
    "%%timeit\n",
    "n_squares = 8*8\n",
    "# astypeメソッドを使ってndarrayをuint64型\n",
    "h_board_ndarray = np.arange(n_squares).astype(np.uint64)\n",
    "i_board_ndarray = 2**h_board_ndarray"
   ]
  },
  {
   "cell_type": "markdown",
   "metadata": {},
   "source": [
    "##### 結果\n",
    "21.2 µs ± 1.24 µs per loop　( for文を使った方法 )\n",
    "339 µs ± 35.8 µs per loop ( np.append()を使った方法 )\n",
    "3.49 µs ± 426 ns per loop ( ブロードキャストを使った方法 )\n",
    "\n",
    "早い順に、ブロードキャスト、for文、np.append()\n",
    "\n",
    "##### 考察\n",
    "\n",
    "* ブロードキャストを使用\n",
    "\n",
    "①扱う数値が-9,223,372,036,854,775,808 ~ 9,223,372,036,854,775,807 の範囲の整数値。この値は -2の64乗から2の64乗-1 です。\n",
    "②扱う数値が 0 ~ 18,446,744,073,709,551,615 の範囲の正の値のみ。\n",
    "\n",
    "* for文を使用\n",
    "\n",
    "ブロードキャストの扱える範囲外の数値を扱う場合。"
   ]
  }
 ],
 "metadata": {
  "kernelspec": {
   "display_name": "Python 3",
   "language": "python",
   "name": "python3"
  },
  "language_info": {
   "codemirror_mode": {
    "name": "ipython",
    "version": 3
   },
   "file_extension": ".py",
   "mimetype": "text/x-python",
   "name": "python",
   "nbconvert_exporter": "python",
   "pygments_lexer": "ipython3",
   "version": "3.7.2"
  }
 },
 "nbformat": 4,
 "nbformat_minor": 2
}
