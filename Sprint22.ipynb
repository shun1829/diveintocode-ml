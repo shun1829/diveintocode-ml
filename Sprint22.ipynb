{
 "cells": [
  {
   "cell_type": "code",
   "execution_count": null,
   "id": "439cb8e9-e9fe-494c-9d2b-41d877826bc2",
   "metadata": {},
   "outputs": [],
   "source": [
    "#%% md\n",
    "\n",
    "# Sprint22 リカレントニューラルネットワーク\n",
    "\n",
    "#%% md\n",
    "\n",
    "# ライブラリのimport\n",
    "\n",
    "#%%\n",
    "\n",
    "import numpy as np\n",
    "\n",
    "#%% md\n",
    "\n",
    "# 問題1　SimpleRNNのフォワードプロパゲーション実装\n",
    "\n",
    "#%%\n",
    "\n",
    "def forward(x,h):\n",
    "    \"\"\"RNNの順伝播\n",
    "    Parameters\n",
    "    -----------\n",
    "    x : 時刻tの入力\n",
    "    h : 時刻t-1の状態\n",
    "    \"\"\"\n",
    "    for n in range(n_sequences):\n",
    "        h = np.tanh(x[:, n, :] @ w_x + h @ w_h + b)\n",
    "    return h\n",
    "\n",
    "#%% md\n",
    "\n",
    "# 問題2　小さな配列でのフォワードプロパゲーションの実験\n",
    "\n",
    "#%%\n",
    "\n",
    "x = np.array([[[1, 2], [2, 3], [3, 4]]])/100 # (batch_size, n_sequences, n_features)\n",
    "w_x = np.array([[1, 3, 5, 7], [3, 5, 7, 8]])/100 # (n_features, n_nodes)\n",
    "w_h = np.array([[1, 3, 5, 7], [2, 4, 6, 8], [3, 5, 7, 8], [4, 6, 8, 10]])/100 # (n_nodes, n_nodes)\n",
    "batch_size = x.shape[0] # 1\n",
    "n_sequences = x.shape[1] # 3\n",
    "n_features = x.shape[2] # 2\n",
    "n_nodes = w_x.shape[1] # 4\n",
    "h = np.zeros((batch_size, n_nodes)) # (batch_size, n_nodes)\n",
    "b = np.array([1, 1, 1, 1]) # (n_nodes,)\n",
    "\n",
    "#%%\n",
    "\n",
    "forward(x,h)\n"
   ]
  }
 ],
 "metadata": {
  "kernelspec": {
   "display_name": "Python 3",
   "language": "python",
   "name": "python3"
  },
  "language_info": {
   "codemirror_mode": {
    "name": "ipython",
    "version": 3
   },
   "file_extension": ".py",
   "mimetype": "text/x-python",
   "name": "python",
   "nbconvert_exporter": "python",
   "pygments_lexer": "ipython3",
   "version": "3.7.2"
  }
 },
 "nbformat": 4,
 "nbformat_minor": 5
}
