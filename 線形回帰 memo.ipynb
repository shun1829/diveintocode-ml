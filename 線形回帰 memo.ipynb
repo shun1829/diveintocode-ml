{
 "cells": [
  {
   "cell_type": "code",
   "execution_count": 14,
   "id": "7182c8e9-44af-47e8-a420-9922bf7df65d",
   "metadata": {},
   "outputs": [
    {
     "name": "stdout",
     "output_type": "stream",
     "text": [
      "1\n"
     ]
    },
    {
     "data": {
      "text/plain": [
       "1"
      ]
     },
     "execution_count": 14,
     "metadata": {},
     "output_type": "execute_result"
    }
   ],
   "source": [
    "import numpy as np\n",
    "class A():\n",
    "    \n",
    "\n",
    "    def predict(self):\n",
    "        \"\"\"\n",
    "        線形回帰での推定\n",
    "        \"\"\"\n",
    "        self.prediction = 1\n",
    "        \n",
    "        alkj = 1\n",
    "        return alkj\n",
    "\n",
    "\n",
    "a = A()\n",
    "a.predict()\n",
    "print(a.prediction)\n",
    "\n",
    "c = a.predict()\n",
    "c "
   ]
  },
  {
   "cell_type": "code",
   "execution_count": 17,
   "id": "4cfb7b71-bce0-43cb-a92a-4efbeebabbff",
   "metadata": {},
   "outputs": [
    {
     "name": "stdout",
     "output_type": "stream",
     "text": [
      "クラスの持ち物です\n"
     ]
    }
   ],
   "source": [
    "class Test():\n",
    "    def func():\n",
    "        print(\"クラスの持ち物です\")\n",
    "\n",
    "Test.func()"
   ]
  },
  {
   "cell_type": "code",
   "execution_count": 18,
   "id": "296761d2-549b-4bf9-ae25-3b594d66a9f8",
   "metadata": {},
   "outputs": [
    {
     "name": "stdout",
     "output_type": "stream",
     "text": [
      "call method\n",
      "100\n"
     ]
    }
   ],
   "source": [
    "class Spam:\n",
    "    val = 100\n",
    "    def ham(self):\n",
    "        self.egg('call method')\n",
    "\n",
    "    def egg(self,msg):\n",
    "        print(\"{0}\".format(msg))\n",
    "        print((\"{0}\".format(self.val)))\n",
    "\n",
    "spam = Spam()\n",
    "spam.ham()"
   ]
  },
  {
   "cell_type": "code",
   "execution_count": 19,
   "id": "afe13c67-a1ae-4163-8dcd-45a4bd578ffa",
   "metadata": {},
   "outputs": [
    {
     "ename": "NameError",
     "evalue": "name 'X_train' is not defined",
     "output_type": "error",
     "traceback": [
      "\u001b[0;31m---------------------------------------------------------------------------\u001b[0m",
      "\u001b[0;31mNameError\u001b[0m                                 Traceback (most recent call last)",
      "\u001b[0;32m<ipython-input-19-a485d0e7920f>\u001b[0m in \u001b[0;36m<module>\u001b[0;34m\u001b[0m\n\u001b[0;32m----> 1\u001b[0;31m \u001b[0mtheta\u001b[0m \u001b[0;34m=\u001b[0m \u001b[0mnp\u001b[0m\u001b[0;34m.\u001b[0m\u001b[0mones\u001b[0m\u001b[0;34m(\u001b[0m\u001b[0;34m(\u001b[0m\u001b[0mX_train\u001b[0m\u001b[0;34m.\u001b[0m\u001b[0mshape\u001b[0m\u001b[0;34m[\u001b[0m\u001b[0;36m1\u001b[0m\u001b[0;34m]\u001b[0m\u001b[0;34m+\u001b[0m\u001b[0;36m1\u001b[0m\u001b[0;34m,\u001b[0m \u001b[0;36m1\u001b[0m\u001b[0;34m)\u001b[0m\u001b[0;34m)\u001b[0m\u001b[0;34m\u001b[0m\u001b[0;34m\u001b[0m\u001b[0m\n\u001b[0m\u001b[1;32m      2\u001b[0m \u001b[0mtheta\u001b[0m\u001b[0;34m.\u001b[0m\u001b[0mshape\u001b[0m\u001b[0;34m\u001b[0m\u001b[0;34m\u001b[0m\u001b[0m\n",
      "\u001b[0;31mNameError\u001b[0m: name 'X_train' is not defined"
     ]
    }
   ],
   "source": [
    "theta = np.ones((X_train.shape[1]+1, 1))\n",
    "theta.shape\n",
    "\n",
    "one_array = np.ones((X_train.shape[0], 1))\n",
    "one_X = np.concatenate([one_array, X_train], axis=1)\n",
    "one_X.shape"
   ]
  },
  {
   "cell_type": "code",
   "execution_count": 20,
   "id": "6d449cb2-e2ee-4e6e-ba2b-860061c2a069",
   "metadata": {},
   "outputs": [],
   "source": [
    "noise = np.random.rand(200, 1)\n",
    "# print(noise)"
   ]
  },
  {
   "cell_type": "code",
   "execution_count": null,
   "id": "ad681543-9d4a-4305-a29e-75f5f126e886",
   "metadata": {},
   "outputs": [],
   "source": [
    "class LinearModel():\n",
    "\n",
    "    def __init__(self, features, target):\n",
    "        self.X = features\n",
    "        self.y = target\n",
    "\n",
    "    def GradDesc(self, parameters, learningRate, cost):\n",
    "        self.a = learningRate\n",
    "        self.c = cost\n",
    "        self.p = parameters\n",
    "        return self.a, self.Cost(self.c), self.p\n",
    "\n",
    "\n",
    "    def Cost(self,c):\n",
    "        if c =='RMSE':\n",
    "            return self.y\n",
    "        elif c == 'MSE':\n",
    "            return self.X\n",
    "\n",
    "\n",
    "X=1\n",
    "y=0\n",
    "a = LinearModel(5,4)\n",
    "print(a.GradDesc(2,0.01,'MSE'))\n",
    "print(a.Cost('RMSE'))\n",
    "print(a.Cost('MSE'))"
   ]
  }
 ],
 "metadata": {
  "kernelspec": {
   "display_name": "Python 3",
   "language": "python",
   "name": "python3"
  },
  "language_info": {
   "codemirror_mode": {
    "name": "ipython",
    "version": 3
   },
   "file_extension": ".py",
   "mimetype": "text/x-python",
   "name": "python",
   "nbconvert_exporter": "python",
   "pygments_lexer": "ipython3",
   "version": "3.7.2"
  }
 },
 "nbformat": 4,
 "nbformat_minor": 5
}
