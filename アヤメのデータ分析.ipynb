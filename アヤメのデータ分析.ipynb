{
 "cells": [
  {
   "cell_type": "markdown",
   "id": "e29e62e6",
   "metadata": {},
   "source": [
    "# アヤメの分析"
   ]
  },
  {
   "cell_type": "markdown",
   "id": "1b1a3c1f",
   "metadata": {},
   "source": [
    "### フィッシャーのアヤメ\n",
    "#### 「フィッシャーのアヤメ」という機械学習やデータ分析の世界で有名なデータセットを使い、基本的なデータの扱い方を学んでいきます。\n",
    "#### これはカナダのガスペ半島のある牧草地で同じ日に採取された以下の3種類のアヤメ、合計150本のデータです。\n",
    "* Iris setosa - Wikipedia\n",
    "* Iris virgicolor - Wikipedia\n",
    "* Iris virginica - Wikipedia\n",
    "\n",
    "#### setosa、virgiclor、virginicaはここで *目的変数* や *ラベル* と呼ばれるものに当たります。\n",
    "#### 1本ごとにsepal_length（がく片の長さ）, sepal_width（がく片の幅）, petal_length（花弁の長さ）, petal_width（花弁の幅）の4種類の情報が記録されています。この4種類を *特徴量* と呼びます。"
   ]
  },
  {
   "cell_type": "markdown",
   "id": "d2aa611d",
   "metadata": {},
   "source": [
    "### データセットの準備\n",
    "#### scikit-learnという機械学習ライブラリにはirisデータセットが用意されているため、これを使用します。"
   ]
  },
  {
   "cell_type": "markdown",
   "id": "c31ad4a6",
   "metadata": {},
   "source": [
    "## 【問題1】データの取得\n",
    "#### 以下のドキュメントを参考にしながら、irisデータセット読み込みましょう。\n",
    "#### sklearn.datasets.load_iris — scikit-learn 0.20.2 documentation\n",
    "#### データが読み込めたら、説明変数を下のようなPandasのDataFrame型変数Xに格納してください。列の名前も以下を参考にしてください。"
   ]
  },
  {
   "cell_type": "markdown",
   "id": "3d1258d5",
   "metadata": {},
   "source": [
    "iris.data・・・行列データ（分類するための情報）=説明変数\n",
    "\n",
    "iris.target・・・分類対象=目的変数"
   ]
  },
  {
   "cell_type": "code",
   "execution_count": 6,
   "id": "20ffb9bb",
   "metadata": {},
   "outputs": [
    {
     "ename": "ModuleNotFoundError",
     "evalue": "No module named 'pandas'",
     "output_type": "error",
     "traceback": [
      "\u001B[0;31m---------------------------------------------------------------------------\u001B[0m",
      "\u001B[0;31mModuleNotFoundError\u001B[0m                       Traceback (most recent call last)",
      "\u001B[0;32m/var/folders/n8/3bm0jm7d6b95884qf10202ph0000gn/T/ipykernel_5076/1893541412.py\u001B[0m in \u001B[0;36m<module>\u001B[0;34m\u001B[0m\n\u001B[1;32m      1\u001B[0m \u001B[0;32mfrom\u001B[0m \u001B[0msklearn\u001B[0m\u001B[0;34m.\u001B[0m\u001B[0mdatasets\u001B[0m \u001B[0;32mimport\u001B[0m \u001B[0mload_iris\u001B[0m\u001B[0;34m\u001B[0m\u001B[0;34m\u001B[0m\u001B[0m\n\u001B[0;32m----> 2\u001B[0;31m \u001B[0;32mimport\u001B[0m \u001B[0mpandas\u001B[0m \u001B[0;32mas\u001B[0m \u001B[0mpd\u001B[0m\u001B[0;34m\u001B[0m\u001B[0;34m\u001B[0m\u001B[0m\n\u001B[0m\u001B[1;32m      3\u001B[0m \u001B[0;32mimport\u001B[0m \u001B[0mnumpy\u001B[0m \u001B[0;32mas\u001B[0m \u001B[0mnp\u001B[0m\u001B[0;34m\u001B[0m\u001B[0;34m\u001B[0m\u001B[0m\n\u001B[1;32m      4\u001B[0m \u001B[0;34m\u001B[0m\u001B[0m\n",
      "\u001B[0;31mModuleNotFoundError\u001B[0m: No module named 'pandas'"
     ]
    }
   ],
   "source": [
    "from sklearn.datasets import load_iris\n",
    "import pandas as pd\n",
    "import numpy as np"
   ]
  },
  {
   "cell_type": "code",
   "execution_count": null,
   "id": "6d41a882",
   "metadata": {},
   "outputs": [],
   "source": [
    "# irisデータセットをirisに格納\n",
    "iris = load_iris()\n",
    "\n",
    "# irisデータセットをDataFrameに変換\n",
    "# df = pd.DataFrame(iris.data, columns=iris.feature_names)\n",
    "X = pd.DataFrame(iris.data, columns=iris.feature_names)\n",
    "# df.head()\n",
    "X"
   ]
  },
  {
   "cell_type": "code",
   "execution_count": null,
   "id": "dbf9c192",
   "metadata": {},
   "outputs": [],
   "source": [
    "# iris = datasets.load_iris()\n",
    "# iris_df = pd.DataFrame(iris.data, columns = iris.feature_names)\n",
    "# iris_df['Species'] = iris.target_names[iris.target]\n",
    "# iris_df"
   ]
  },
  {
   "cell_type": "code",
   "execution_count": null,
   "id": "fdf03ad4",
   "metadata": {},
   "outputs": [],
   "source": [
    "# iris.target・・・分類対象=目的変数\n",
    "# iris_target = pd.DataFrame(iris.target, columns =['Species'])\n",
    "y = pd.DataFrame(iris.target, columns =['Species'])\n",
    "# iris_target\n",
    "y"
   ]
  },
  {
   "cell_type": "markdown",
   "id": "5777d0f8",
   "metadata": {},
   "source": [
    "## 【問題2】データの結合\n",
    "#### 問題1で準備したX,yを結合させたDataFrame型変数dfを作成してください。結合することで扱いやすくなります。これ以降はこのdfを使っていきます。"
   ]
  },
  {
   "cell_type": "code",
   "execution_count": null,
   "id": "09e4b7c7",
   "metadata": {},
   "outputs": [],
   "source": [
    "df = pd.concat([X, y], axis=1)\n",
    "df"
   ]
  },
  {
   "cell_type": "markdown",
   "id": "f772635e",
   "metadata": {},
   "source": [
    "## 【問題3】データの確認\n",
    "#### 今回扱うデータがどのようなものなのかを確認します。以下の4つを行ってください。\n",
    "①先頭から4番目までのサンプルを表示させ、各特徴量がどういったものかを見る。（数値データか文字データかなど）<br>\n",
    "②ラベルごとのサンプル数の合計を出力する。<br>\n",
    "③特徴量に欠損値があるかを確認する。<br>\n",
    "④特徴量の平均値と標準偏差、四分位数を一度に表示させる。\n",
    "\n",
    "#### DataFrameのメソッドである.head(),.info(),.describe(),.isnull(),.sum()や、Seriesのメソッドである.value_countsなどを使ってみましょう。"
   ]
  },
  {
   "cell_type": "code",
   "execution_count": null,
   "id": "55e5921f",
   "metadata": {},
   "outputs": [],
   "source": [
    "print(\"\")\n",
    "print(\"①各特徴量がどういったものかを見る。（数値データか文字データかなど）\")\n",
    "print(\"\")\n",
    "df.info()\n",
    "# DataFrameの行数、列数、各列の列名、各列に格納されるデータの型、メモリ使用量"
   ]
  },
  {
   "cell_type": "code",
   "execution_count": null,
   "id": "edb69ac4",
   "metadata": {},
   "outputs": [],
   "source": [
    "# df['sepal length (cm)'].value_counts()\n",
    "print(\"\")\n",
    "print(\"②ラベルごとのサンプル数の合計を出力する。\")\n",
    "print(\"\")\n",
    "df['Species'].value_counts()"
   ]
  },
  {
   "cell_type": "code",
   "execution_count": null,
   "id": "c009c7fd",
   "metadata": {
    "scrolled": true
   },
   "outputs": [],
   "source": [
    "print(\"\")\n",
    "print(\"③特徴量に欠損値があるかを確認する。\")\n",
    "print(\"\")\n",
    "# 各要素に対して判定を行い、欠損値NaNであればTrue、欠損値でなければFalseとする。\n",
    "df.isnull().head(4)"
   ]
  },
  {
   "cell_type": "markdown",
   "id": "0776d834",
   "metadata": {},
   "source": [
    "上からデータ数（count）、平均値（mean）、標準偏差（std）、最小値（min）、第一四分位数（25%）、中央値（50%）、第三四分位数（75%）、最大値（max）です。Ageのcountが行数891に一致しない理由は、欠損値が含まれるためです。"
   ]
  },
  {
   "cell_type": "code",
   "execution_count": null,
   "id": "175c56ef",
   "metadata": {},
   "outputs": [],
   "source": [
    "print(\"\")\n",
    "print(\"④特徴量の平均値と標準偏差、四分位数を一度に表示させる。\")\n",
    "print(\"\")\n",
    "# df.describe().head(4)\n",
    "df.describe()"
   ]
  },
  {
   "cell_type": "code",
   "execution_count": null,
   "id": "f3e7fddb",
   "metadata": {},
   "outputs": [],
   "source": [
    "df.isnull().any()"
   ]
  },
  {
   "cell_type": "code",
   "execution_count": null,
   "id": "4bbd46a0",
   "metadata": {},
   "outputs": [],
   "source": [
    "df['sepal length (cm)'].sum()"
   ]
  },
  {
   "cell_type": "markdown",
   "id": "6f08a1f4",
   "metadata": {},
   "source": [
    "## 【問題4】irisデータセット自体の調査\n",
    "#### ページのはじめで「カナダのガスペ半島のある牧草地で」と書きましたが、データセット自体についてもう少し調査しておきましょう。データセットを見る上で、そのデータセット自体について知っておくことも大切です。"
   ]
  },
  {
   "cell_type": "markdown",
   "id": "53c3b5c9",
   "metadata": {},
   "source": [
    "Irisデータセットはアヤメの種類と特徴量に関するデータセット。\n",
    "3種類のアヤメの花弁と萼(がく)に関する特徴量について多数のデータ\n",
    "アヤメの3つの種類の種類名。\n",
    "setosaは「ヒオウギアヤメ」といって少し大人締めの色形だが、versicolorとvirginicaは素人にはその違いがよく分からない。\n",
    "\n",
    "* 'data'～特徴量データセット\n",
    "* 'target'～アヤメの種類に対応したコード\n",
    "* 'target_names'～アヤメの種類名\n",
    "* 'feature_names'～特徴名"
   ]
  },
  {
   "cell_type": "markdown",
   "id": "5ad8a1c5",
   "metadata": {},
   "source": [
    "### 特徴量についての探索\n",
    "#### 各特徴量や特徴量同士の関係を見ていきます。"
   ]
  },
  {
   "cell_type": "markdown",
   "id": "25543d8b",
   "metadata": {},
   "source": [
    "## 【問題5】必要なデータを抽出\n",
    "#### DataFrameから必要なデータを抽出する方法を確認していきます。以下を行ってください。\n",
    "* ①sepal_widthの列を３つの異なる方法で抽出する<br>\n",
    "* ②50番目から99番目までのデータを抽出する<br>\n",
    "* ③petal_lengthの列の50番目から99番目までのデータを抽出する<br>\n",
    "* ④petal_widthの値が0.2のデータを抽出する<br>\n",
    "\n",
    "#### .locや.ilocを使うことになります。この２つはどう違うのかについて説明してください。"
   ]
  },
  {
   "cell_type": "code",
   "execution_count": null,
   "id": "ef60dd1c",
   "metadata": {},
   "outputs": [],
   "source": [
    "# df['sepal width (cm)']\n",
    "# df[df.columns[1]]\n",
    "# df.iloc[: , 1]\n",
    "print(\"\")\n",
    "print(\"①sepal_widthの列を３つの異なる方法で抽出する\")\n",
    "print(\"\")\n",
    "df.loc[: , 'sepal width (cm)']\n",
    "df.iloc[: , 1]\n",
    "df[df.columns[1]]"
   ]
  },
  {
   "cell_type": "code",
   "execution_count": null,
   "id": "9fcdfb69",
   "metadata": {},
   "outputs": [],
   "source": [
    "print(\"\")\n",
    "print(\"②50番目から99番目までのデータを抽出する\")\n",
    "print(\"\")\n",
    "# df.iloc[50 : 100, :]\n",
    "display(df[50:100])"
   ]
  },
  {
   "cell_type": "code",
   "execution_count": null,
   "id": "b8c56331",
   "metadata": {},
   "outputs": [],
   "source": [
    "print(\"\")\n",
    "print(\"③petal_lengthの列の50番目から99番目までのデータを抽出する\")\n",
    "print(\"\")\n",
    "df.loc[50 : 100, ['petal length (cm)']]"
   ]
  },
  {
   "cell_type": "markdown",
   "id": "bd9977eb",
   "metadata": {},
   "source": [
    "* petal_widthの値が0.2のデータを抽出する"
   ]
  },
  {
   "cell_type": "code",
   "execution_count": null,
   "id": "58aaf2dc",
   "metadata": {},
   "outputs": [],
   "source": [
    "print(\"\")\n",
    "print(\"④petal_widthの値が0.2のデータを抽出する\")\n",
    "print(\"\")\n",
    "\n",
    "\n",
    "# df.df[\"petal width (cm)\"] == 0.2\n",
    "# display(df.query(\"petal_width == 0.2\"))"
   ]
  },
  {
   "cell_type": "markdown",
   "id": "92b55c55",
   "metadata": {},
   "source": [
    "### .locや.ilocを使うことになります。この２つはどう違うのかについて説明してください。\n",
    "\n",
    "#### 位置の指定方法\n",
    "\n",
    "* at, loc : 行名（行ラベル）、列名（列ラベル)\n",
    "* iat, iloc : 行番号、列番号\n",
    "* ix : 行ラベル、列ラベル または 行の番号(0 ~ )、列の番号(0 ~ )\n",
    "\n",
    "#### 使い分け\n",
    "ilocを使うとき\n",
    "* データ全体が見渡せる程度のデータ量のとき\n",
    "* スライスで特定の範囲を抽出したい時\n",
    "locを使うとき\n",
    "* 名前で抽出したいとき\n",
    "* ソースコードの可読性を求める時"
   ]
  },
  {
   "cell_type": "markdown",
   "id": "b9dfb7c4",
   "metadata": {},
   "source": [
    "## 【問題6】図の作成\n",
    "#### データは可視化して確認することが大切です。次の3つを行ってください。作図のライブラリはMatplotlibの他seabornもよく使われます。\n",
    "\n",
    "\n",
    "* ①ラベルごとのサンプル数を円グラフにする（パーセンテージまで表示する）<br>\n",
    "* ②特徴量を一つずつ選び、箱ひげ図を使ってラベルごとのデータの分布を可視化する<br>\n",
    "* ③特徴量を一つずつ選び、バイオリン図を使ってラベルごとのデータの分布を可視化する<br>\n",
    "\n",
    "#### 箱ひげ図とバイオリン図は似た図を表示します。これらはどう違い、それぞれどのような利点があるのかについて説明してください。"
   ]
  },
  {
   "cell_type": "markdown",
   "id": "0ff4dd07",
   "metadata": {},
   "source": [
    "* ラベルごとのサンプル数を円グラフにする（パーセンテージまで表示する）"
   ]
  },
  {
   "cell_type": "code",
   "execution_count": null,
   "id": "833d9e38",
   "metadata": {},
   "outputs": [],
   "source": [
    "import pandas as pd\n",
    "import matplotlib.pyplot as plt\n",
    "import seaborn as sns\n",
    "print(\"\")\n",
    "print(\"①ラベルごとのサンプル数を円グラフにする（パーセンテージまで表示する）\")\n",
    "print(\"\")\n",
    "iris = sns.load_dataset('iris')\n",
    "iris['species'].value_counts().plot.pie(figsize=(7, 7), autopct='%1.1f%%')\n",
    "\n",
    "# iris = datasets.load_iris().target\n",
    "# crosstab = pd.crosstab(iris, columns=\"Target\")\n",
    "# dict = crosstab['Target'].to_dict()\n",
    "# values = list(dict.values())\n",
    "# labels = list(dict.keys())\n",
    "# plt.pie(values, labels = labels)\n",
    "# plt.show()"
   ]
  },
  {
   "cell_type": "code",
   "execution_count": null,
   "id": "9e9ba755",
   "metadata": {},
   "outputs": [],
   "source": [
    "print(\"\")\n",
    "print(\"②特徴量を一つずつ選び、箱ひげ図を使ってラベルごとのデータの分布を可視化する\")\n",
    "print(\"\")\n",
    "#sns.set(style=\"ticks\") \n",
    "plt.figure(figsize=(12,10))\n",
    "plt.subplot(2,2,1)\n",
    "sns.boxplot(x='species',y='sepal_length',data=iris)\n",
    "plt.subplot(2,2,2)\n",
    "sns.boxplot(x='species',y='sepal_width',data=iris)\n",
    "plt.subplot(2,2,3)\n",
    "sns.boxplot(x='species',y='petal_length',data=iris)\n",
    "plt.subplot(2,2,4)\n",
    "sns.boxplot(x='species',y='petal_width',data=iris)\n",
    "plt.show()"
   ]
  },
  {
   "cell_type": "code",
   "execution_count": null,
   "id": "6405a4e4",
   "metadata": {},
   "outputs": [],
   "source": [
    "print(\"\")\n",
    "print(\"③特徴量を一つずつ選び、バイオリン図を使ってラベルごとのデータの分布を可視化する\")\n",
    "print(\"\")\n",
    "sns.set(style=\"darkgrid\")\n",
    "#sns.set(style=\"ticks\") \n",
    "plt.figure(figsize=(12,10))\n",
    "plt.subplot(2,2,1)\n",
    "sns.violinplot(x='species',y='sepal_length',data=iris)\n",
    "plt.subplot(2,2,2)\n",
    "sns.violinplot(x='species',y='sepal_width',data=iris)\n",
    "plt.subplot(2,2,3)\n",
    "sns.violinplot(x='species',y='petal_length',data=iris)\n",
    "plt.subplot(2,2,4)\n",
    "sns.violinplot(x='species',y='petal_width',data=iris)\n",
    "plt.show()"
   ]
  },
  {
   "cell_type": "markdown",
   "id": "cb8725b3",
   "metadata": {},
   "source": [
    "箱ひげ図とバイオリン図は似た図を表示します。これらはどう違い、それぞれどのような利点があるのかについて説明してください。\n",
    "\n",
    "# 箱ひげ図（box plot; box-and-whisker plot）\n",
    "データの要約統計量を示しつつ、同時に分布を表せる\n",
    "箱ひげ図は、五数要約と呼ばれる統計量を表すグラフです。\n",
    "\n",
    "五数要約とは、\n",
    "\n",
    "Q0/4：最小値\n",
    "Q1/4：第1四分位点\n",
    "Q2/4：中央値\n",
    "Q3/4：第3四分位点\n",
    "Q4/4：最大値\n",
    "# バイオリンプロット\n",
    "分布の形状が箱ひげ図よりも直観的にわかるようになる\n",
    "バイオリンプロットのメリットとして、確率密度がわかるという点が挙げられます。確率密度はヒストグラムをイメージするといいと思いますが、ざっくりデータの分布にことだと思ってください。\n",
    "この特徴から、バイオリンプロットは箱ひげ図とヒストグラムの特徴を組みあわせたようなグラフと言えます。\n",
    "確率密度がわかることで、データの分布に複数の山があるときには特に有用です。箱ひげ図では、データの分布の山が複数あってもわかりません。\n",
    "バイオリン図の欠点\n",
    "バイオリン図の欠点について考えてみます。\n",
    "\n",
    "データ分布はカーネル密度推定プロットによって滑らかに描画されるため、実際にはデータが存在しない範囲にもあたかもデータが存在しているかのように見えることがある。\n",
    "ひとつのバイオリン図内にある各カーネル密度推定プロットの面積は同一ではない。値が取りうる範囲が大きかったりデータが一様に分布していると、描画されるカーネル密度推定プロットの面積が大きくなるため錯覚が起こる可能性がある。\n",
    "知名度が低い（Wikipedia談）。しかし割と直感的に分かりやすい図法ではあると思われるので、知名度が低くても人から理解されにくいということはなさそう？\n",
    "\n",
    "\n",
    "# 両方\n",
    "\n",
    "数値データの分布を可視化・比較したい場合は、バイオリン図を使ってみましょう。単峰性のデータかつ四分位数や外れ値が重要な場合は箱ひげ図でもいいかもしれませんが、単峰性データの歪み具合を見たい程度であればバイオリン図にしてしまってもいいのではないかと思います。\n",
    "\n",
    "> データ数（count）、平均値（mean）、標準偏差（std）、最小値（min）、第一四分位数（25%）、中央値（50%）、第三四分位数（75%）、最大値（max）です。Ageのcountが行数891に一致しない理由は、欠損値が含まれるためです。"
   ]
  },
  {
   "attachments": {
    "7b4b41c4b0bc45051960d3b6b19757bf.png": {
     "image/png": "[encoded data removed]"
    }
   },
   "cell_type": "markdown",
   "id": "e4476be9",
   "metadata": {},
   "source": [
    "## 【問題7】特徴量間の関係の確認\n",
    "#### 特徴量間の関係を見ていきます。次の4つを行ってください。\n",
    "* ４つの特徴量から２つ選ぶようなすべての組み合わせ（６つ）の散布図を種類ごとに色分けして作る。以下の図はそのうち一つの例です。\n",
    "![7b4b41c4b0bc45051960d3b6b19757bf.png](attachment:7b4b41c4b0bc45051960d3b6b19757bf.png)\n",
    "#### 特徴量すべてを組み合わせを一度に表示させた、散布図行列を作る。\n",
    "* seaborn.pairplot - seaborn 0.11.1 documentation<br>\n",
    "４つの特徴量に関する相関係数行列を作る\n",
    "#### 相関係数行列はDataFrameのcorr()メソッドを使うことで求められます\n",
    "* pandas.DataFrame.corr — pandas 0.24.2 documentation\n",
    "#### 相関係数行列のヒートマップを作る(１つ)\n",
    "* seaborn.heatmap - seaborn 0.11.1 documentation"
   ]
  },
  {
   "cell_type": "code",
   "execution_count": null,
   "id": "03bc87fd-65ab-4f7a-b85e-12b29552ab1b",
   "metadata": {},
   "outputs": [],
   "source": [
    "print(\"\")\n",
    "print(\"①４つの特徴量から２つ選ぶようなすべての組み合わせ（６つ）の散布図を種類ごとに色分けして作る。以下の図はそのうち一つの例です。\")\n",
    "print(\"\")\n",
    "\n",
    "x_0 = df[df.Species==0].iloc[:, 0]\n",
    "x_1 = df[df.Species==1].iloc[:, 0]\n",
    "x_2 = df[df.Species==2].iloc[:, 0]\n",
    "\n",
    "y_0 = df[df.Species==0].iloc[:, 1]\n",
    "y_1 = df[df.Species==1].iloc[:, 1]\n",
    "y_2 = df[df.Species==2].iloc[:, 1]\n",
    "\n",
    "plt.title(\"This is a ilrs\")\n",
    "plt.xlabel(\"sepal length\")\n",
    "plt.ylabel(\"sepal width\")\n",
    "plt.scatter(x_0, y_0, c='red')\n",
    "plt.scatter(x_1, y_1, c='blue')\n",
    "plt.scatter(x_2, y_2, c='green')"
   ]
  },
  {
   "cell_type": "code",
   "execution_count": null,
   "id": "292689b5",
   "metadata": {
    "scrolled": false
   },
   "outputs": [],
   "source": [
    "print(\"\")\n",
    "print(\"②すべての特徴量の組み合わせを一度に表示させた、散布図行列を作る。\")\n",
    "print(\"\")\n",
    "\n",
    "# カテゴリデータに従って色分け: 引数 hue\n",
    "sns.pairplot(iris, hue='species') "
   ]
  },
  {
   "cell_type": "code",
   "execution_count": null,
   "id": "f528a07f",
   "metadata": {},
   "outputs": [],
   "source": [
    "print(\"\")\n",
    "print(\"③４つの特徴量に関する相関係数行列を作る\")\n",
    "print(\"\")\n",
    "\n",
    "#df.corr(method='pearson')\n",
    "# df.corr(df.iloc[ : , 0: 4])\n",
    "df.iloc[ : , 0: 4].corr()"
   ]
  },
  {
   "cell_type": "code",
   "execution_count": null,
   "id": "695ff4b0",
   "metadata": {},
   "outputs": [],
   "source": [
    "print(\"\")\n",
    "print(\"④相関係数行列のヒートマップを作る(１つ)\")\n",
    "print(\"\")\n",
    "print(\"相関係数は、x と y の間の直線的な関係性の強さを表す指標\")\n",
    "print(\"\")\n",
    "\n",
    "# sns.heatmap(df, annot=True)\n",
    "plt.figure(figsize=(8, 6))\n",
    "# plt.figure(figsize=(10, 10))\n",
    "\n",
    "# annot=Trueを指定すると、セル内に値が表示\n",
    "sns.heatmap(df.iloc[ : , 0: 4].corr(), annot=True)\n",
    "plt.show()"
   ]
  },
  {
   "cell_type": "markdown",
   "id": "9c8072c5",
   "metadata": {},
   "source": [
    "## 【問題8】可視化したグラフや表の結果の説明\n",
    "#### データを探索した時には、結果を述べる（+考察する）ことが大切です。ここまでで作成した表や図から読み取れることや気づきを説明してください。\n",
    "#### 例えば、散布図行列を見ながら、3種類のアヤメにはどのような違いがあるかを説明してください。"
   ]
  },
  {
   "cell_type": "markdown",
   "id": "ece7e709",
   "metadata": {},
   "source": [
    "---------------------------------------------------------------------------------------------<br>\n",
    "視覚的には散布図を一覧に並べて比べる方法がわかりやすい。<br>\n",
    "\n",
    "すべての特徴量の組み合わせを一度に表示させた、散布図行列から<br>\n",
    "sepal_length, sepal_width, petal_length, petal_widthの相関においてvirgiclor、virginicaが近い分布を示し、setosaと区別しやすい。<br>\n",
    "\n",
    "相関行列、ヒートマップからpetal_lengthとpetal_widthの相関が強いことがわかる。<br>\n",
    "\n",
    "sepal_lengthとpetal_length及びpetal_widthが負の相関関係にあるためがく片の幅と花弁には成長に相関があるかもしれない。<br>\n",
    "\n",
    "---------------------------------------------------------------------------------------------<br>"
   ]
  },
  {
   "attachments": {
    "soukan-table.png": {
     "image/png": "[encoded data removed]"
    }
   },
   "cell_type": "markdown",
   "id": "7e595fe9",
   "metadata": {},
   "source": [
    "![soukan-table.png](attachment:soukan-table.png)"
   ]
  },
  {
   "cell_type": "code",
   "source": [],
   "metadata": {
    "collapsed": false,
    "pycharm": {
     "name": "#%% print(3)\n"
    }
   },
   "execution_count": null,
   "outputs": []
  },
  {
   "cell_type": "code",
   "execution_count": null,
   "outputs": [],
   "source": [],
   "metadata": {
    "collapsed": false,
    "pycharm": {
     "name": "#%%\n"
    }
   }
  },
  {
   "cell_type": "code",
   "execution_count": null,
   "outputs": [],
   "source": [
    "print(1)\n",
    "\n"
   ],
   "metadata": {
    "collapsed": false,
    "pycharm": {
     "name": "#%%\n"
    }
   }
  },
  {
   "cell_type": "code",
   "execution_count": null,
   "outputs": [],
   "source": [],
   "metadata": {
    "collapsed": false,
    "pycharm": {
     "name": "#%%\n"
    }
   }
  }
 ],
 "metadata": {
  "kernelspec": {
   "display_name": "Python 3",
   "language": "python",
   "name": "python3"
  },
  "language_info": {
   "codemirror_mode": {
    "name": "ipython",
    "version": 3
   },
   "file_extension": ".py",
   "mimetype": "text/x-python",
   "name": "python",
   "nbconvert_exporter": "python",
   "pygments_lexer": "ipython3",
   "version": "3.7.2"
  }
 },
 "nbformat": 4,
 "nbformat_minor": 5
}