{
 "cells": [
  {
   "cell_type": "code",
   "execution_count": 24,
   "outputs": [
    {
     "ename": "NameError",
     "evalue": "name 'func' is not defined",
     "output_type": "error",
     "traceback": [
      "\u001B[0;31m---------------------------------------------------------------------------\u001B[0m",
      "\u001B[0;31mNameError\u001B[0m                                 Traceback (most recent call last)",
      "\u001B[0;32m/var/folders/n8/3bm0jm7d6b95884qf10202ph0000gn/T/ipykernel_2690/2301498645.py\u001B[0m in \u001B[0;36m<module>\u001B[0;34m\u001B[0m\n\u001B[1;32m      3\u001B[0m         \u001B[0mprint\u001B[0m\u001B[0;34m(\u001B[0m\u001B[0;34m\"クラスの持ち物です1\"\u001B[0m\u001B[0;34m)\u001B[0m\u001B[0;34m\u001B[0m\u001B[0;34m\u001B[0m\u001B[0m\n\u001B[1;32m      4\u001B[0m \u001B[0;31m#これは呼び出せない\u001B[0m\u001B[0;34m\u001B[0m\u001B[0;34m\u001B[0m\u001B[0;34m\u001B[0m\u001B[0m\n\u001B[0;32m----> 5\u001B[0;31m \u001B[0mfunc\u001B[0m\u001B[0;34m(\u001B[0m\u001B[0;34m)\u001B[0m\u001B[0;34m\u001B[0m\u001B[0;34m\u001B[0m\u001B[0m\n\u001B[0m",
      "\u001B[0;31mNameError\u001B[0m: name 'func' is not defined"
     ]
    }
   ],
   "source": [
    "class Test():\n",
    "    def func():\n",
    "        print(\"クラスの持ち物です1\")\n",
    "#これは呼び出せない\n",
    "func()"
   ],
   "metadata": {
    "collapsed": false,
    "pycharm": {
     "name": "#%%\n"
    }
   }
  },
  {
   "cell_type": "code",
   "execution_count": 25,
   "outputs": [
    {
     "name": "stdout",
     "output_type": "stream",
     "text": [
      "クラスの持ち物です2\n"
     ]
    }
   ],
   "source": [
    "class Test():\n",
    "    def func():\n",
    "        print(\"クラスの持ち物です2\")\n",
    "Test.func()"
   ],
   "metadata": {
    "collapsed": false,
    "pycharm": {
     "name": "#%%\n"
    }
   }
  },
  {
   "cell_type": "code",
   "execution_count": 28,
   "outputs": [
    {
     "ename": "TypeError",
     "evalue": "func() takes 0 positional arguments but 1 was given",
     "output_type": "error",
     "traceback": [
      "\u001B[0;31m---------------------------------------------------------------------------\u001B[0m",
      "\u001B[0;31mTypeError\u001B[0m                                 Traceback (most recent call last)",
      "\u001B[0;32m/var/folders/n8/3bm0jm7d6b95884qf10202ph0000gn/T/ipykernel_2690/2297813107.py\u001B[0m in \u001B[0;36m<module>\u001B[0;34m\u001B[0m\n\u001B[1;32m      3\u001B[0m         \u001B[0mprint\u001B[0m\u001B[0;34m(\u001B[0m\u001B[0;34m\"クラスの持ち物です3\"\u001B[0m\u001B[0;34m)\u001B[0m\u001B[0;34m\u001B[0m\u001B[0;34m\u001B[0m\u001B[0m\n\u001B[1;32m      4\u001B[0m \u001B[0mtest_instance\u001B[0m \u001B[0;34m=\u001B[0m \u001B[0mTest\u001B[0m\u001B[0;34m(\u001B[0m\u001B[0;34m)\u001B[0m\u001B[0;34m\u001B[0m\u001B[0;34m\u001B[0m\u001B[0m\n\u001B[0;32m----> 5\u001B[0;31m \u001B[0mtest_instance\u001B[0m\u001B[0;34m.\u001B[0m\u001B[0mfunc\u001B[0m\u001B[0;34m(\u001B[0m\u001B[0;34m)\u001B[0m\u001B[0;34m\u001B[0m\u001B[0;34m\u001B[0m\u001B[0m\n\u001B[0m",
      "\u001B[0;31mTypeError\u001B[0m: func() takes 0 positional arguments but 1 was given"
     ]
    }
   ],
   "source": [
    "class Test():\n",
    "    def func():\n",
    "        print(\"クラスの持ち物です3\")\n",
    "test_instance = Test()\n",
    "test_instance.func()"
   ],
   "metadata": {
    "collapsed": false,
    "pycharm": {
     "name": "#%%\n"
    }
   }
  },
  {
   "cell_type": "code",
   "execution_count": 29,
   "outputs": [
    {
     "name": "stdout",
     "output_type": "stream",
     "text": [
      "クラスの持ち物です4\n"
     ]
    }
   ],
   "source": [
    "class Test():\n",
    "    def func(self):\n",
    "        print(\"クラスの持ち物です4\")\n",
    "test_instance = Test()\n",
    "test_instance.func()"
   ],
   "metadata": {
    "collapsed": false,
    "pycharm": {
     "name": "#%%\n"
    }
   }
  },
  {
   "cell_type": "code",
   "execution_count": 13,
   "outputs": [
    {
     "name": "stdout",
     "output_type": "stream",
     "text": [
      "クラス変数\n"
     ]
    }
   ],
   "source": [
    "class A():\n",
    "    class_var = \"クラス変数1\"\n",
    "print(A.class_var)"
   ],
   "metadata": {
    "collapsed": false,
    "pycharm": {
     "name": "#%%\n"
    }
   }
  },
  {
   "cell_type": "code",
   "execution_count": 33,
   "outputs": [
    {
     "name": "stdout",
     "output_type": "stream",
     "text": [
      "クラス変数変更\n"
     ]
    }
   ],
   "source": [
    "class A():\n",
    "    class_var = \"クラス変数1\"\n",
    "\n",
    "A.class_var = \"クラス変数変更\"\n",
    "print(A.class_var)"
   ],
   "metadata": {
    "collapsed": false,
    "pycharm": {
     "name": "#%%\n"
    }
   }
  },
  {
   "cell_type": "code",
   "execution_count": 25,
   "outputs": [
    {
     "name": "stdout",
     "output_type": "stream",
     "text": [
      "投票する\n",
      "1\n"
     ]
    }
   ],
   "source": [
    "class Person():\n",
    "    def __init__(self, age, gender):\n",
    "        self.age = age\n",
    "        self.gender = gender\n",
    "\n",
    "    def vote(self):\n",
    "        if self.age >= 18:\n",
    "            return \"投票する\"\n",
    "        else:\n",
    "            return \"投票しない\"\n",
    "\n",
    "Tom = Person(48, 5)\n",
    "print(Tom.vote())\n",
    "\n",
    "\n",
    "Sala = Person(1, 5)\n",
    "print(Sala.age)"
   ],
   "metadata": {
    "collapsed": false,
    "pycharm": {
     "name": "#%%\n"
    }
   }
  },
  {
   "cell_type": "code",
   "execution_count": 27,
   "outputs": [
    {
     "name": "stdout",
     "output_type": "stream",
     "text": [
      "1\n",
      "10000000000000\n"
     ]
    }
   ],
   "source": [
    "class Test():\n",
    "    def __init__(self,var):\n",
    "        self.var=var\n",
    "\n",
    "test_instance=Test(\"1\")\n",
    "print(test_instance.var)\n",
    "test_instance.var=\"10000000000000\"\n",
    "print(test_instance.var)"
   ],
   "metadata": {
    "collapsed": false,
    "pycharm": {
     "name": "#%%\n"
    }
   }
  },
  {
   "cell_type": "code",
   "execution_count": 40,
   "outputs": [
    {
     "name": "stdout",
     "output_type": "stream",
     "text": [
      "6 female\n",
      "female\n",
      "50 male\n",
      "male\n"
     ]
    }
   ],
   "source": [
    "class Test():\n",
    "    def __init__(self, age, gender):\n",
    "        self.age = age\n",
    "        self.gender = gender\n",
    "\n",
    "    def func(self):\n",
    "        print(self.age, self.gender)\n",
    "        print(self.gender)\n",
    "\n",
    "Sala = Test(\"6\", \"female\")\n",
    "Sala.func()\n",
    "\n",
    "Tom = Test(50, \"male\")\n",
    "Tom.func()"
   ],
   "metadata": {
    "collapsed": false,
    "pycharm": {
     "name": "#%%\n"
    }
   }
  },
  {
   "cell_type": "code",
   "execution_count": null,
   "outputs": [],
   "source": [
    "type(Sala.age)"
   ],
   "metadata": {
    "collapsed": false,
    "pycharm": {
     "name": "#%%\n"
    }
   }
  },
  {
   "cell_type": "code",
   "execution_count": 43,
   "outputs": [
    {
     "name": "stdout",
     "output_type": "stream",
     "text": [
      "200\n",
      "20\n",
      "blue\n"
     ]
    },
    {
     "data": {
      "text/plain": "200"
     },
     "execution_count": 43,
     "metadata": {},
     "output_type": "execute_result"
    }
   ],
   "source": [
    "class Punty():\n",
    "    height = 200\n",
    "    size = 20\n",
    "    def __init__(self, color):\n",
    "        self.color = color\n",
    "\n",
    "    def out(self):\n",
    "        print(Punty.height)\n",
    "        print(Punty.size)\n",
    "        print(self.color)\n",
    "\n",
    "Tom = Punty(\"blue\")\n",
    "Tom.out()\n",
    "\n",
    "Punty.height"
   ],
   "metadata": {
    "collapsed": false,
    "pycharm": {
     "name": "#%%\n"
    }
   }
  },
  {
   "cell_type": "code",
   "execution_count": null,
   "outputs": [],
   "source": [],
   "metadata": {
    "collapsed": false,
    "pycharm": {
     "name": "#%%\n"
    }
   }
  }
 ],
 "metadata": {
  "kernelspec": {
   "display_name": "Python 3",
   "language": "python",
   "name": "python3"
  },
  "language_info": {
   "codemirror_mode": {
    "name": "ipython",
    "version": 3
   },
   "file_extension": ".py",
   "mimetype": "text/x-python",
   "name": "python",
   "nbconvert_exporter": "python",
   "pygments_lexer": "ipython3",
   "version": "3.7.2"
  }
 },
 "nbformat": 4,
 "nbformat_minor": 5
}