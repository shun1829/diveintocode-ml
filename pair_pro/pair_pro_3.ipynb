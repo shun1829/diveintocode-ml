{
 "cells": [
  {
   "cell_type": "code",
   "execution_count": 15,
   "metadata": {},
   "outputs": [
    {
     "name": "stdout",
     "output_type": "stream",
     "text": [
      "1305\n"
     ]
    }
   ],
   "source": [
    "\"\"\"\n",
    "栗まんじゅう１個の大きさを 10**-4 (m**3) とする。 \n",
    "宇宙の体積を　3*10**80　(m**3) とする。\n",
    "\n",
    "x分後の栗まんじゅうの体積\n",
    "(2 ** (0.2*x)) * (10** -4)\n",
    "100**3/10000\n",
    "\"\"\"\n",
    "\n",
    "# 経過時間\n",
    "x = 0\n",
    "UNIVERSE = 3*10**80\n",
    "volume = 100**3/10000\n",
    "\n",
    "while  volume < UNIVERSE:\n",
    "    x += 1\n",
    "    if x%5 == 0:\n",
    "        volume *= 2\n",
    "        \n",
    "    elif volume >= UNIVERSE:\n",
    "        False\n",
    "\n",
    "print(x)"
   ]
  },
  {
   "cell_type": "markdown",
   "metadata": {},
   "source": [
    "行列積\n",
    "問題３"
   ]
  },
  {
   "cell_type": "code",
   "execution_count": 16,
   "metadata": {},
   "outputs": [
    {
     "name": "stdout",
     "output_type": "stream",
     "text": [
      "6\n"
     ]
    }
   ],
   "source": [
    "import numpy as np\n",
    "a_ndarray = np.array([[-1, 2, 3], [4, -5, 6], [7, 8, -9]])\n",
    "b_ndarray = np.array([[0, 2, 1], [0, 2, -8], [2, 9, -1]])\n",
    "\n",
    "ans_element = (a_ndarray[0, :]*b_ndarray[:, 0]).sum()\n",
    "print(ans_element)"
   ]
  },
  {
   "cell_type": "code",
   "execution_count": 17,
   "metadata": {},
   "outputs": [],
   "source": [
    "def matrix_product(a, b):\n",
    "    \n",
    "    \n",
    "    ans = np.zeros((a.shape))\n",
    "    \n",
    "    for i in range(a.shape[0]):\n",
    "        for j in range(b.shape[1]):\n",
    "            ans[i, j] = (a[i, :]*b[:, j]).sum()\n",
    "            \n",
    "    # 整数変換して出力\n",
    "    return ans.astype(np.int64)"
   ]
  },
  {
   "cell_type": "code",
   "execution_count": 18,
   "metadata": {},
   "outputs": [
    {
     "data": {
      "text/plain": [
       "array([[  6,  29, -20],\n",
       "       [ 12,  52,  38],\n",
       "       [-18, -51, -48]])"
      ]
     },
     "execution_count": 18,
     "metadata": {},
     "output_type": "execute_result"
    }
   ],
   "source": [
    "matrix_product(a_ndarray, b_ndarray)"
   ]
  },
  {
   "cell_type": "code",
   "execution_count": null,
   "metadata": {},
   "outputs": [],
   "source": [
    ":\n",
    "# 入力に問題がある場合の例\n",
    "d = np.array([[-1, 2, 3], [4, -5, 6]])\n",
    "e = np.array([[-9, 8, 7], [6, -5, 4]])\n",
    "matrix_product_fix(d, e)"
   ]
  }
 ],
 "metadata": {
  "kernelspec": {
   "display_name": "Python 3",
   "language": "python",
   "name": "python3"
  },
  "language_info": {
   "codemirror_mode": {
    "name": "ipython",
    "version": 3
   },
   "file_extension": ".py",
   "mimetype": "text/x-python",
   "name": "python",
   "nbconvert_exporter": "python",
   "pygments_lexer": "ipython3",
   "version": "3.7.2"
  }
 },
 "nbformat": 4,
 "nbformat_minor": 2
}
