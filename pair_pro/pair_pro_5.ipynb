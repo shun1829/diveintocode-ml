{
 "cells": [
  {
   "cell_type": "markdown",
   "metadata": {},
   "source": [
    "【問題1】何回折ったら富士山を超えるか"
   ]
  },
  {
   "cell_type": "markdown",
   "metadata": {},
   "source": [
    "厚さが「富士山の高さ(3776m)」を超えるのに必要な紙を折る最小回数を計算するプログラムを作成してください。"
   ]
  },
  {
   "cell_type": "code",
   "execution_count": 9,
   "metadata": {},
   "outputs": [
    {
     "ename": "SyntaxError",
     "evalue": "invalid character in identifier (<ipython-input-9-522dd0b569a4>, line 7)",
     "output_type": "error",
     "traceback": [
      "\u001b[0;36m  File \u001b[0;32m\"<ipython-input-9-522dd0b569a4>\"\u001b[0;36m, line \u001b[0;32m7\u001b[0m\n\u001b[0;31m    while a <=　fuji_height:\u001b[0m\n\u001b[0m              　          ^\u001b[0m\n\u001b[0;31mSyntaxError\u001b[0m\u001b[0;31m:\u001b[0m invalid character in identifier\n"
     ]
    }
   ],
   "source": [
    "# 回数\n",
    "x = 1\n",
    "thickness = 0.00008\n",
    "fuji_height= 3776\n",
    "a = thickness * 2 ** x\n",
    "\n",
    "while a <=　fuji_height:\n",
    "    \n",
    "    x += 1\n",
    "    \n",
    "print(\"最小回数は{}{}　\".format(x, a))"
   ]
  },
  {
   "cell_type": "code",
   "execution_count": 2,
   "metadata": {},
   "outputs": [
    {
     "name": "stdout",
     "output_type": "stream",
     "text": [
      "厚さ5368.70912, 回数26\n"
     ]
    }
   ],
   "source": [
    "thickness = 0.00008\n",
    "fuji = 3776\n",
    "num = 0\n",
    "\n",
    "while thickness <= fuji:\n",
    "    thickness = 2 * thickness\n",
    "    num = num + 1\n",
    "print(\"厚さ{}, 回数{}\".format(thickness, num))    "
   ]
  }
 ],
 "metadata": {
  "kernelspec": {
   "display_name": "Python 3",
   "language": "python",
   "name": "python3"
  },
  "language_info": {
   "codemirror_mode": {
    "name": "ipython",
    "version": 3
   },
   "file_extension": ".py",
   "mimetype": "text/x-python",
   "name": "python",
   "nbconvert_exporter": "python",
   "pygments_lexer": "ipython3",
   "version": "3.7.2"
  }
 },
 "nbformat": 4,
 "nbformat_minor": 2
}
