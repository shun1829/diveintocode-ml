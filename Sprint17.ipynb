{
 "cells": [
  {
   "cell_type": "markdown",
   "id": "236aab88-afe1-4ffa-9be3-ec7a2862adc8",
   "metadata": {},
   "source": [
    "【問題1】学習と推定"
   ]
  },
  {
   "cell_type": "markdown",
   "id": "f32a06f7-d971-4b24-a1e0-7266240eb93a",
   "metadata": {},
   "source": [
    "【問題2】コードリーディング"
   ]
  },
  {
   "cell_type": "markdown",
   "id": "90ddbf49-149d-4168-bc50-f287b8364753",
   "metadata": {},
   "source": [
    "#%% md\n",
    "\n",
    "# Sprint17 Faster R-CNNとyolo-V3\n",
    "\n",
    "#%% md\n",
    "\n",
    "# Faster R-CNN\n",
    "\n",
    "#%% md\n",
    "\n",
    "# 問題1\n",
    "\n",
    "## プログラム準備\n",
    "\n",
    "https://github.com/duckrabbits/ObjectDetection/tree/master\n",
    "\n",
    "上記で取得してきたフォルダの中に、このSprint17-rcnn.ipynbを配置します。\n",
    "\n",
    "## データ準備\n",
    "+ Kaggleからダウンロードしたthe-simpsons-characters-dataset.zipを解凍します。\n",
    "+ simpsons_dataset.zipを解凍します。\n",
    "+ 解凍したsimpsons_datasetフォルダをプロジェクトフォルダ配下に格納します。\n",
    "+ annotation.txtもプロジェクトフォルダ配下に格納します。 （kaggleからダウンロードしたannotation.txtではなく、ここにあるannotation.txtを使いましょう）\n",
    "\n",
    "## データ確認\n",
    "\n",
    "このSprint17-rcnn.ipynbがあるフォルダ内は下記のようになっていると思います。\n",
    "\n",
    "- kaggle_simpson_testset /（ディレクトリ）\n",
    "- simpsons_dataset /（ディレクトリ）\n",
    "- model /（ディレクトリ）\n",
    "- README.md（ファイル）\n",
    "- annotation.txt（ファイル）\n",
    "- predict.py（ファイル）\n",
    "- train.py（ファイル）\n",
    "- Sprint17-rcnn.ipynb（ファイル）\n",
    "\n",
    "#%% md\n",
    "\n",
    "## 学習\n",
    "\n",
    "train.py内の流れとしては、modelフォルダ内の各種プログラムを参照し、モデルを構築し、annotation.txt内の記述に従って、学習用データを取得し学習を実行している\n",
    "\n",
    "#%%\n",
    "\n",
    "!python train.py -p annotation.txt\n",
    "\n",
    "#%% md\n",
    "\n",
    "## 推測\n",
    "\n",
    "`-c`のオプションのファイル名は自身の学習実行時に保存されたファイル名を指定してやる必要があります。\n",
    "\n",
    "#%%\n",
    "\n",
    "!python predict.py -i kaggle_simpson_testset/kaggle_simpson_testset -c ./save/train_20210830-170538_config.pickle"
   ]
  },
  {
   "cell_type": "code",
   "execution_count": 2,
   "id": "85c2be75-c861-492b-a697-77b14d7dde64",
   "metadata": {},
   "outputs": [
    {
     "ename": "SyntaxError",
     "evalue": "invalid syntax (<ipython-input-2-a88aa3fba454>, line 1)",
     "output_type": "error",
     "traceback": [
      "\u001b[0;36m  File \u001b[0;32m\"<ipython-input-2-a88aa3fba454>\"\u001b[0;36m, line \u001b[0;32m1\u001b[0m\n\u001b[0;31m    python train.py -p annotation.txt\u001b[0m\n\u001b[0m               ^\u001b[0m\n\u001b[0;31mSyntaxError\u001b[0m\u001b[0;31m:\u001b[0m invalid syntax\n"
     ]
    }
   ],
   "source": [
    "python train.py -p annotation.txt"
   ]
  },
  {
   "cell_type": "code",
   "execution_count": null,
   "id": "4332c052-934c-4712-b325-fca1ed96f40c",
   "metadata": {},
   "outputs": [],
   "source": [
    "#%% md\n",
    "\n",
    "# 問題2\n",
    "\n",
    "下記一例です。。。。\n",
    "\n",
    "### RPNは、`resnet.py`の下記で実装されている。\n",
    "\n",
    "```def rpn(base_layers,num_anchors)```\n",
    "\n",
    "### ROIプーリングは、`RoiPoolingConv.py`の下記で実装されている。\n",
    "\n",
    "```class RoiPoolingConv(Layer)```\n",
    "\n",
    "### 各種損失計算は、`losses.py`の下記で実装されている。\n",
    "\n",
    "```\n",
    "def rpn_loss_regr(num_anchors)\n",
    "def rpn_loss_cls(num_anchors)\n",
    "def class_loss_regr(num_classes)\n",
    "def class_loss_cls(y_true, y_pred)\n",
    "```"
   ]
  },
  {
   "cell_type": "code",
   "execution_count": null,
   "id": "996afa59-2301-496b-8ae4-aebdc305db2c",
   "metadata": {},
   "outputs": [],
   "source": [
    "## プログラム準備\n",
    "https://github.com/qqwweee/keras-yolo3\n",
    "\n",
    "上記で取得してきたフォルダの中に、このSprint17-yolo.ipynbを配置します。\n",
    "\n",
    "## データ準備\n",
    "faster r cnn で取得してきたデータをこのSprint17-yolo.ipynbと同階層に設置します。\n",
    "\n",
    "## 学習済みモデルの取得\n",
    "\n",
    "下記にアクセスし、学習済みモデルを取得してきます。\n",
    "\n",
    "https://pjreddie.com/media/files/yolov3.weights\n",
    "\n",
    "## データ確認\n",
    "\n",
    "このSprint17-yolo.ipynbがあるフォルダ内は下記のようになっていると思います。\n",
    "\n",
    "- 上記リポジトリのファイルやディレクトリ群（ファイルやディレクトリ）\n",
    "- kaggle_simpson_testset /（ディレクトリ）\n",
    "- simpsons_dataset /（ディレクトリ）\n",
    "- Sprint17-rcnn.ipynb（ファイル）\n",
    "- yolov3.weights\n",
    "\n",
    "#%% md\n",
    "\n",
    "## モデル形式の変更\n",
    "\n",
    "#%%\n",
    "\n",
    "!python convert.py yolov3.cfg yolov3.weights model_data/yolo_weights.h5"
   ]
  },
  {
   "cell_type": "code",
   "execution_count": 1,
   "id": "bc44a274-c88d-4a84-b445-2aa450f8a7f0",
   "metadata": {},
   "outputs": [
    {
     "ename": "Exception",
     "evalue": "File `'train.py'` not found.",
     "output_type": "error",
     "traceback": [
      "\u001b[0;31m---------------------------------------------------------------------------\u001b[0m",
      "\u001b[0;31mOSError\u001b[0m                                   Traceback (most recent call last)",
      "\u001b[0;32m~/.pyenv/versions/anaconda3-5.3.1/lib/python3.7/site-packages/IPython/core/magics/execution.py\u001b[0m in \u001b[0;36mrun\u001b[0;34m(self, parameter_s, runner, file_finder)\u001b[0m\n\u001b[1;32m    702\u001b[0m             \u001b[0mfpath\u001b[0m \u001b[0;34m=\u001b[0m \u001b[0marg_lst\u001b[0m\u001b[0;34m[\u001b[0m\u001b[0;36m0\u001b[0m\u001b[0;34m]\u001b[0m\u001b[0;34m\u001b[0m\u001b[0;34m\u001b[0m\u001b[0m\n\u001b[0;32m--> 703\u001b[0;31m             \u001b[0mfilename\u001b[0m \u001b[0;34m=\u001b[0m \u001b[0mfile_finder\u001b[0m\u001b[0;34m(\u001b[0m\u001b[0mfpath\u001b[0m\u001b[0;34m)\u001b[0m\u001b[0;34m\u001b[0m\u001b[0;34m\u001b[0m\u001b[0m\n\u001b[0m\u001b[1;32m    704\u001b[0m         \u001b[0;32mexcept\u001b[0m \u001b[0mIndexError\u001b[0m\u001b[0;34m:\u001b[0m\u001b[0;34m\u001b[0m\u001b[0;34m\u001b[0m\u001b[0m\n",
      "\u001b[0;32m~/.pyenv/versions/anaconda3-5.3.1/lib/python3.7/site-packages/IPython/utils/path.py\u001b[0m in \u001b[0;36mget_py_filename\u001b[0;34m(name, force_win32)\u001b[0m\n\u001b[1;32m    108\u001b[0m     \u001b[0;32melse\u001b[0m\u001b[0;34m:\u001b[0m\u001b[0;34m\u001b[0m\u001b[0;34m\u001b[0m\u001b[0m\n\u001b[0;32m--> 109\u001b[0;31m         \u001b[0;32mraise\u001b[0m \u001b[0mIOError\u001b[0m\u001b[0;34m(\u001b[0m\u001b[0;34m'File `%r` not found.'\u001b[0m \u001b[0;34m%\u001b[0m \u001b[0mname\u001b[0m\u001b[0;34m)\u001b[0m\u001b[0;34m\u001b[0m\u001b[0;34m\u001b[0m\u001b[0m\n\u001b[0m\u001b[1;32m    110\u001b[0m \u001b[0;34m\u001b[0m\u001b[0m\n",
      "\u001b[0;31mOSError\u001b[0m: File `'train.py'` not found.",
      "\nDuring handling of the above exception, another exception occurred:\n",
      "\u001b[0;31mException\u001b[0m                                 Traceback (most recent call last)",
      "\u001b[0;32m<ipython-input-1-0be0d7c9556a>\u001b[0m in \u001b[0;36m<module>\u001b[0;34m\u001b[0m\n\u001b[1;32m      1\u001b[0m \u001b[0;31m#学習\u001b[0m\u001b[0;34m\u001b[0m\u001b[0;34m\u001b[0m\u001b[0;34m\u001b[0m\u001b[0m\n\u001b[0;32m----> 2\u001b[0;31m \u001b[0mget_ipython\u001b[0m\u001b[0;34m(\u001b[0m\u001b[0;34m)\u001b[0m\u001b[0;34m.\u001b[0m\u001b[0mrun_line_magic\u001b[0m\u001b[0;34m(\u001b[0m\u001b[0;34m'run'\u001b[0m\u001b[0;34m,\u001b[0m \u001b[0;34m'train.py -p annotation.txt'\u001b[0m\u001b[0;34m)\u001b[0m\u001b[0;34m\u001b[0m\u001b[0;34m\u001b[0m\u001b[0m\n\u001b[0m",
      "\u001b[0;32m~/.pyenv/versions/anaconda3-5.3.1/lib/python3.7/site-packages/IPython/core/interactiveshell.py\u001b[0m in \u001b[0;36mrun_line_magic\u001b[0;34m(self, magic_name, line, _stack_depth)\u001b[0m\n\u001b[1;32m   2342\u001b[0m                 \u001b[0mkwargs\u001b[0m\u001b[0;34m[\u001b[0m\u001b[0;34m'local_ns'\u001b[0m\u001b[0;34m]\u001b[0m \u001b[0;34m=\u001b[0m \u001b[0mself\u001b[0m\u001b[0;34m.\u001b[0m\u001b[0mget_local_scope\u001b[0m\u001b[0;34m(\u001b[0m\u001b[0mstack_depth\u001b[0m\u001b[0;34m)\u001b[0m\u001b[0;34m\u001b[0m\u001b[0;34m\u001b[0m\u001b[0m\n\u001b[1;32m   2343\u001b[0m             \u001b[0;32mwith\u001b[0m \u001b[0mself\u001b[0m\u001b[0;34m.\u001b[0m\u001b[0mbuiltin_trap\u001b[0m\u001b[0;34m:\u001b[0m\u001b[0;34m\u001b[0m\u001b[0;34m\u001b[0m\u001b[0m\n\u001b[0;32m-> 2344\u001b[0;31m                 \u001b[0mresult\u001b[0m \u001b[0;34m=\u001b[0m \u001b[0mfn\u001b[0m\u001b[0;34m(\u001b[0m\u001b[0;34m*\u001b[0m\u001b[0margs\u001b[0m\u001b[0;34m,\u001b[0m \u001b[0;34m**\u001b[0m\u001b[0mkwargs\u001b[0m\u001b[0;34m)\u001b[0m\u001b[0;34m\u001b[0m\u001b[0;34m\u001b[0m\u001b[0m\n\u001b[0m\u001b[1;32m   2345\u001b[0m             \u001b[0;32mreturn\u001b[0m \u001b[0mresult\u001b[0m\u001b[0;34m\u001b[0m\u001b[0;34m\u001b[0m\u001b[0m\n\u001b[1;32m   2346\u001b[0m \u001b[0;34m\u001b[0m\u001b[0m\n",
      "\u001b[0;32m~/.pyenv/versions/anaconda3-5.3.1/lib/python3.7/site-packages/decorator.py\u001b[0m in \u001b[0;36mfun\u001b[0;34m(*args, **kw)\u001b[0m\n\u001b[1;32m    230\u001b[0m             \u001b[0;32mif\u001b[0m \u001b[0;32mnot\u001b[0m \u001b[0mkwsyntax\u001b[0m\u001b[0;34m:\u001b[0m\u001b[0;34m\u001b[0m\u001b[0;34m\u001b[0m\u001b[0m\n\u001b[1;32m    231\u001b[0m                 \u001b[0margs\u001b[0m\u001b[0;34m,\u001b[0m \u001b[0mkw\u001b[0m \u001b[0;34m=\u001b[0m \u001b[0mfix\u001b[0m\u001b[0;34m(\u001b[0m\u001b[0margs\u001b[0m\u001b[0;34m,\u001b[0m \u001b[0mkw\u001b[0m\u001b[0;34m,\u001b[0m \u001b[0msig\u001b[0m\u001b[0;34m)\u001b[0m\u001b[0;34m\u001b[0m\u001b[0;34m\u001b[0m\u001b[0m\n\u001b[0;32m--> 232\u001b[0;31m             \u001b[0;32mreturn\u001b[0m \u001b[0mcaller\u001b[0m\u001b[0;34m(\u001b[0m\u001b[0mfunc\u001b[0m\u001b[0;34m,\u001b[0m \u001b[0;34m*\u001b[0m\u001b[0;34m(\u001b[0m\u001b[0mextras\u001b[0m \u001b[0;34m+\u001b[0m \u001b[0margs\u001b[0m\u001b[0;34m)\u001b[0m\u001b[0;34m,\u001b[0m \u001b[0;34m**\u001b[0m\u001b[0mkw\u001b[0m\u001b[0;34m)\u001b[0m\u001b[0;34m\u001b[0m\u001b[0;34m\u001b[0m\u001b[0m\n\u001b[0m\u001b[1;32m    233\u001b[0m     \u001b[0mfun\u001b[0m\u001b[0;34m.\u001b[0m\u001b[0m__name__\u001b[0m \u001b[0;34m=\u001b[0m \u001b[0mfunc\u001b[0m\u001b[0;34m.\u001b[0m\u001b[0m__name__\u001b[0m\u001b[0;34m\u001b[0m\u001b[0;34m\u001b[0m\u001b[0m\n\u001b[1;32m    234\u001b[0m     \u001b[0mfun\u001b[0m\u001b[0;34m.\u001b[0m\u001b[0m__doc__\u001b[0m \u001b[0;34m=\u001b[0m \u001b[0mfunc\u001b[0m\u001b[0;34m.\u001b[0m\u001b[0m__doc__\u001b[0m\u001b[0;34m\u001b[0m\u001b[0;34m\u001b[0m\u001b[0m\n",
      "\u001b[0;32m~/.pyenv/versions/anaconda3-5.3.1/lib/python3.7/site-packages/IPython/core/magic.py\u001b[0m in \u001b[0;36m<lambda>\u001b[0;34m(f, *a, **k)\u001b[0m\n\u001b[1;32m    185\u001b[0m     \u001b[0;31m# but it's overkill for just that one bit of state.\u001b[0m\u001b[0;34m\u001b[0m\u001b[0;34m\u001b[0m\u001b[0;34m\u001b[0m\u001b[0m\n\u001b[1;32m    186\u001b[0m     \u001b[0;32mdef\u001b[0m \u001b[0mmagic_deco\u001b[0m\u001b[0;34m(\u001b[0m\u001b[0marg\u001b[0m\u001b[0;34m)\u001b[0m\u001b[0;34m:\u001b[0m\u001b[0;34m\u001b[0m\u001b[0;34m\u001b[0m\u001b[0m\n\u001b[0;32m--> 187\u001b[0;31m         \u001b[0mcall\u001b[0m \u001b[0;34m=\u001b[0m \u001b[0;32mlambda\u001b[0m \u001b[0mf\u001b[0m\u001b[0;34m,\u001b[0m \u001b[0;34m*\u001b[0m\u001b[0ma\u001b[0m\u001b[0;34m,\u001b[0m \u001b[0;34m**\u001b[0m\u001b[0mk\u001b[0m\u001b[0;34m:\u001b[0m \u001b[0mf\u001b[0m\u001b[0;34m(\u001b[0m\u001b[0;34m*\u001b[0m\u001b[0ma\u001b[0m\u001b[0;34m,\u001b[0m \u001b[0;34m**\u001b[0m\u001b[0mk\u001b[0m\u001b[0;34m)\u001b[0m\u001b[0;34m\u001b[0m\u001b[0;34m\u001b[0m\u001b[0m\n\u001b[0m\u001b[1;32m    188\u001b[0m \u001b[0;34m\u001b[0m\u001b[0m\n\u001b[1;32m    189\u001b[0m         \u001b[0;32mif\u001b[0m \u001b[0mcallable\u001b[0m\u001b[0;34m(\u001b[0m\u001b[0marg\u001b[0m\u001b[0;34m)\u001b[0m\u001b[0;34m:\u001b[0m\u001b[0;34m\u001b[0m\u001b[0;34m\u001b[0m\u001b[0m\n",
      "\u001b[0;32m~/.pyenv/versions/anaconda3-5.3.1/lib/python3.7/site-packages/IPython/core/magics/execution.py\u001b[0m in \u001b[0;36mrun\u001b[0;34m(self, parameter_s, runner, file_finder)\u001b[0m\n\u001b[1;32m    712\u001b[0m             \u001b[0;32mif\u001b[0m \u001b[0mos\u001b[0m\u001b[0;34m.\u001b[0m\u001b[0mname\u001b[0m \u001b[0;34m==\u001b[0m \u001b[0;34m'nt'\u001b[0m \u001b[0;32mand\u001b[0m \u001b[0mre\u001b[0m\u001b[0;34m.\u001b[0m\u001b[0mmatch\u001b[0m\u001b[0;34m(\u001b[0m\u001b[0;34mr\"^'.*'$\"\u001b[0m\u001b[0;34m,\u001b[0m\u001b[0mfpath\u001b[0m\u001b[0;34m)\u001b[0m\u001b[0;34m:\u001b[0m\u001b[0;34m\u001b[0m\u001b[0;34m\u001b[0m\u001b[0m\n\u001b[1;32m    713\u001b[0m                 \u001b[0mwarn\u001b[0m\u001b[0;34m(\u001b[0m\u001b[0;34m'For Windows, use double quotes to wrap a filename: %run \"mypath\\\\myfile.py\"'\u001b[0m\u001b[0;34m)\u001b[0m\u001b[0;34m\u001b[0m\u001b[0;34m\u001b[0m\u001b[0m\n\u001b[0;32m--> 714\u001b[0;31m             \u001b[0;32mraise\u001b[0m \u001b[0mException\u001b[0m\u001b[0;34m(\u001b[0m\u001b[0mmsg\u001b[0m\u001b[0;34m)\u001b[0m\u001b[0;34m\u001b[0m\u001b[0;34m\u001b[0m\u001b[0m\n\u001b[0m\u001b[1;32m    715\u001b[0m         \u001b[0;32mexcept\u001b[0m \u001b[0mTypeError\u001b[0m\u001b[0;34m:\u001b[0m\u001b[0;34m\u001b[0m\u001b[0;34m\u001b[0m\u001b[0m\n\u001b[1;32m    716\u001b[0m             \u001b[0;32mif\u001b[0m \u001b[0mfpath\u001b[0m \u001b[0;32min\u001b[0m \u001b[0msys\u001b[0m\u001b[0;34m.\u001b[0m\u001b[0mmeta_path\u001b[0m\u001b[0;34m:\u001b[0m\u001b[0;34m\u001b[0m\u001b[0;34m\u001b[0m\u001b[0m\n",
      "\u001b[0;31mException\u001b[0m: File `'train.py'` not found."
     ]
    }
   ],
   "source": [
    "#学習\n",
    "%run train.py -p annotation.txt"
   ]
  },
  {
   "cell_type": "code",
   "execution_count": null,
   "id": "198006e3-1d02-4620-b196-50b8c3e27cce",
   "metadata": {},
   "outputs": [],
   "source": [
    "#%% md\n",
    "\n",
    "# 問題3　学習済みの重みによる推定\n",
    "\n",
    "#%%\n",
    "\n",
    "!python yolo_video.py --image"
   ]
  },
  {
   "cell_type": "code",
   "execution_count": null,
   "id": "1b3735e7-78d3-40d6-af7f-be120861beb9",
   "metadata": {},
   "outputs": [],
   "source": [
    "#%% md\n",
    "\n",
    "# 問題4　学習のためのファイルを作成\n",
    "\n",
    "annotation.txtのファイル形式がfaster-rcnnの形式と違うため、変更したものを作成する\n",
    "\n",
    "rcnnの際に使ったannotation.txtをこのフォルダにコピーし、annotation_rcnn.txtとrenameしてください。\n",
    "\n",
    "#%%\n",
    "\n",
    "# ライブラリのimport\n",
    "import pandas as pd\n",
    "from sklearn.preprocessing import LabelEncoder\n",
    "\n",
    "#%%\n",
    "\n",
    "# 読み込みと確認\n",
    "annotation_df = pd.read_csv('annotation_rcnn.txt',header=None)\n",
    "n_sample, n_col = annotation_df.shape\n",
    "annotation_df.head()\n",
    "\n",
    "#%%\n",
    "\n",
    "# キャラクター名を数値（クラス・ラベル）に変更する\n",
    "le = LabelEncoder()\n",
    "annotation_df.iloc[:,5] = le.fit_transform(annotation_df.iloc[:,5])\n",
    "annotation_df.head()\n",
    "\n",
    "#%%\n",
    "\n",
    "rcnn_path = 'annotation_rcnn.txt'\n",
    "yolo_path = 'annotation.txt'\n",
    "\n",
    "# rcnnの方のannotation.txtを開く\n",
    "with open(rcnn_path) as f:\n",
    "    # データを読み込む\n",
    "    lines = f.readline() \n",
    "    # データ数（行数）でループ\n",
    "    for i in range(n_sample):\n",
    "        # カンマ区切りのデータをリストに変換\n",
    "        split_line = lines.split(',') \n",
    "        # 画像のパスは一番前に格納されているので取得\n",
    "        image_path = split_line[0]\n",
    "        # パス変更\n",
    "        split_line[0] = './' + image_path\n",
    "        # 末尾をキャラクター名から数値（クラス・ラベル）に変更→改行コード加える\n",
    "        split_line[-1] = str(annotation_df.iloc[i,5]) + '\\n'  \n",
    "        # yoloの方のannotation.txtを開き保存\n",
    "        with open(yolo_path, mode='a') as out_f:\n",
    "            join_line = ','.join(split_line)  \n",
    "            join_line = join_line.replace('.jpg,','.jpg ')  \n",
    "            out_f.write(join_line)"
   ]
  },
  {
   "cell_type": "code",
   "execution_count": null,
   "id": "40040b62-3a23-43da-a112-3508e08a4bb5",
   "metadata": {},
   "outputs": [],
   "source": [
    "#%% md\n",
    "\n",
    "# 問題5　学習が行えることの確認\n",
    "\n",
    "\n",
    "問題4で作成したファイルを使用して学習してください。実行環境で学習に時間がかかる場合は、学習が行えることを確認するのみで終えて構いません。\n",
    "\n",
    "\n",
    "このサンプルコードのやり方でいくと、train.py 17行目 `annotation_path = 'train.txt'`を`annotation_path = 'annotation.txt'`に変えてやる必要があります。\n",
    "\n",
    "#%%\n",
    "\n",
    "!python train.py"
   ]
  }
 ],
 "metadata": {
  "kernelspec": {
   "display_name": "Python 3",
   "language": "python",
   "name": "python3"
  },
  "language_info": {
   "codemirror_mode": {
    "name": "ipython",
    "version": 3
   },
   "file_extension": ".py",
   "mimetype": "text/x-python",
   "name": "python",
   "nbconvert_exporter": "python",
   "pygments_lexer": "ipython3",
   "version": "3.7.2"
  }
 },
 "nbformat": 4,
 "nbformat_minor": 5
}
