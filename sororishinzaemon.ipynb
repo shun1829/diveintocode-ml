{
 "cells": [
  {
   "cell_type": "markdown",
   "metadata": {},
   "source": [
    "# 曽呂利新左衛門問題"
   ]
  },
  {
   "cell_type": "markdown",
   "metadata": {},
   "source": [
    "## 【問題1】100日目の米粒の数"
   ]
  },
  {
   "cell_type": "markdown",
   "metadata": {},
   "source": [
    "### 100日目には合計で米粒をいくつもらっているのかを計算するコードを作成し、答えを出力してください。"
   ]
  },
  {
   "cell_type": "code",
   "execution_count": 2,
   "metadata": {},
   "outputs": [
    {
     "name": "stdout",
     "output_type": "stream",
     "text": [
      "100日目にもらう米粒は1267650600228229401496703205375粒である。\n"
     ]
    }
   ],
   "source": [
    "# 初日の米の数\n",
    "today = 1\n",
    "# 初日の累計\n",
    "amount = 1\n",
    "\n",
    "# その日にもらう米の数\n",
    "list_n_grains = []\n",
    "list_n_grains.append(today)\n",
    "\n",
    "# その日までに累計でもらう米の数\n",
    "list_total_grains = []\n",
    "list_total_grains.append(amount)\n",
    "\n",
    "for _ in range(1, 100):\n",
    "    today *= 2\n",
    "    list_n_grains.append(today)\n",
    "    amount +=  today\n",
    "    list_total_grains.append(amount)\n",
    "    \n",
    "# print(list_n_grains)\n",
    "# print(len(list_n_grains))\n",
    "# print(list_total_grains)\n",
    "# print(len(list_total_grains))\n",
    "\n",
    "print(\"100日目にもらう米粒は{}粒である。\".format(list_total_grains[-1]))"
   ]
  },
  {
   "cell_type": "markdown",
   "metadata": {},
   "source": [
    "### 1日目から100日目までの「その日にもらう米の数」と「その日までに累計で貰う米の数」の推移を折れ線グラフで表現してください。（縦軸が米の数、横軸が日数）"
   ]
  },
  {
   "cell_type": "code",
   "execution_count": 132,
   "metadata": {},
   "outputs": [
    {
     "data": {
      "image/png": "[encoded data removed]",
      "text/plain": [
       "<Figure size 432x288 with 1 Axes>"
      ]
     },
     "metadata": {
      "needs_background": "light"
     },
     "output_type": "display_data"
    }
   ],
   "source": [
    "import matplotlib.pyplot as plt\n",
    "%matplotlib inline\n",
    "\n",
    "# グラフを表示する。タイトルと軸ラベル名付き。\n",
    "plt.title(\"amount of rice\")\n",
    "plt.xlabel(\"day\")\n",
    "plt.ylabel(\"count\")\n",
    "plt.plot(list_n_grains, label=\"today_grains\")  # 「リスト名」のところにリストの変数名を入れる\n",
    "plt.plot(list_total_grains, label=\"total_grains\")  # 「リスト名」のところにリストの変数名を入れる\n",
    "plt.legend()\n",
    "plt.show()"
   ]
  },
  {
   "cell_type": "markdown",
   "metadata": {},
   "source": [
    "## 【問題2】100日目以外の米粒の数"
   ]
  },
  {
   "cell_type": "markdown",
   "metadata": {},
   "source": [
    "### この逸話は30日だったり81日だったりと日数が曖昧です。どの話にも対応できるように日数を引数とした 関数 を作成しましょう。\n",
    "#### 以下の雛形には関数としての枠組みだけではなく、引数や戻り値についてのコメントも記載してあります。参考にして、自分なりにも分かりやすくコメントを書き換えてください。"
   ]
  },
  {
   "cell_type": "code",
   "execution_count": 42,
   "metadata": {},
   "outputs": [],
   "source": [
    "def compute_sorori_shinzaemon(n_days=100):\n",
    "   #　曽呂利新左衛門の米の逸話における、日にちごとの米の粒の数を計算する関数。 \n",
    "\n",
    "    today = 1\n",
    "    amount = 1\n",
    "\n",
    "    list_n_grains = []\n",
    "    list_n_grains.append(today)\n",
    "\n",
    "    list_total_grains = []\n",
    "    list_total_grains.append(amount)\n",
    "\n",
    "    for i in range(1, n_days):\n",
    "        today *= 2\n",
    "        list_n_grains.append(today)\n",
    "        amount +=  today\n",
    "        list_total_grains.append(amount)\n",
    "    \n",
    "    # ここにコードを書く。passは何もしないことを意味する命令である。\n",
    "    pass\n",
    "    return list_n_grains, list_total_grains\n",
    "\n",
    "# コース受講日数\n",
    "target = 120\n",
    "\n",
    "list_n_grains, list_total_grains = compute_sorori_shinzaemon(n_days=target)"
   ]
  },
  {
   "cell_type": "markdown",
   "metadata": {},
   "source": [
    "### 関数を作成した上で、コース受講日数でいくつ米粒をもらえるかを答えてください。問題1と同様に折れ線グラフも出力してください。"
   ]
  },
  {
   "cell_type": "code",
   "execution_count": 43,
   "metadata": {},
   "outputs": [
    {
     "name": "stdout",
     "output_type": "stream",
     "text": [
      "120日目にもらう米粒は1329227995784915872903807060280344575粒である。\n"
     ]
    },
    {
     "data": {
      "image/png": "[encoded data removed]",
      "text/plain": [
       "<Figure size 432x288 with 1 Axes>"
      ]
     },
     "metadata": {
      "needs_background": "light"
     },
     "output_type": "display_data"
    }
   ],
   "source": [
    "print(\"{}日目にもらう米粒は{}粒である。\".format(target, list_total_grains[-1]))\n",
    "\n",
    "import matplotlib.pyplot as plt\n",
    "%matplotlib inline\n",
    "# グラフを表示する。タイトルと軸ラベル名付き。\n",
    "plt.title(\"amount of rice\")\n",
    "plt.xlabel(\"day\")\n",
    "plt.ylabel(\"count\")\n",
    "plt.plot(list_n_grains, label=\"today_grains\")  # 「リスト名」のところにリストの変数名を入れる\n",
    "plt.plot(list_total_grains, label=\"total_grains\") \n",
    "plt.legend()\n",
    "plt.show()"
   ]
  },
  {
   "cell_type": "markdown",
   "metadata": {},
   "source": [
    "## 【問題3】貰える米で何人が何日生活できるか"
   ]
  },
  {
   "cell_type": "markdown",
   "metadata": {},
   "source": [
    "### この米があれば何人が何日生活できるか計算する関数を作成してください。コースを受講する期間に貰える米粒で、このクラスにいる人数であれば、何日間生活できるかを出力してみましょう。\n",
    "\n",
    "\n",
    "#### 関数の最低限の入力は 米粒の数(int) と 人数(int) 、出力は 生活できる日数(int) です。関数名やコメントなどは分かりやすく考えて作成してください。\n",
    "\n",
    "\n",
    "#### ここでは1日に必要な米粒の数は提示しません。自分なりに調べて、計算式に落とし込んでください。どう調べ、何を根拠にしたかもコメントを残しておいてください。"
   ]
  },
  {
   "cell_type": "markdown",
   "metadata": {},
   "source": [
    "農林水産省\n",
    "URL：https://www.maff.go.jp/j/heya/sodan/1806/03.html\n",
    "\n",
    "子どもから、「茶碗1杯のごはんはお米何粒？また、稲だと何株？」と質問されました。目安を教えてください。\n",
    "品種や炊き方により違いはありますが、茶碗1杯（中盛り）のごはんの重さは約150gで、お米（精米）だと約65gです。\n",
    "これは、お米は炊くと一緒に入れた水を吸って膨らむため、ごはんの重さはお米の重さの約2．3倍になるからです。\n",
    "茶椀1杯のお米の粒（約65g）を数えると、約3，250粒あります。"
   ]
  },
  {
   "cell_type": "markdown",
   "metadata": {},
   "source": [
    "公益社団法人　米殻安定供給確保支援機構\n",
    "URL:https://www.komenet.jp/sedai02/95.html\n",
    "体内のエネルギー代謝を正常にするためには、最低でも1日に100～150gの炭水化物が必要です。ごはんに換算すると、ごはん茶碗約2杯です。しかし、あくまでも必要な最低量なので、普通に生活している人は、1日にお茶碗3～4杯分は摂るようにしましょう。体内に貯めることができる炭水化物の量はわずかですので、1日の食事で常に適量を摂る必要があります。"
   ]
  },
  {
   "cell_type": "code",
   "execution_count": 47,
   "metadata": {},
   "outputs": [
    {
     "name": "stdout",
     "output_type": "stream",
     "text": [
      "120日間もらって、14人が生活できるのは14606901052581492645803614797824日である。\n"
     ]
    }
   ],
   "source": [
    "# mathモジュールインポート\n",
    "import math\n",
    "\n",
    "\"\"\"\n",
    "仮定\n",
    "米1日必要最低限量で計算する\n",
    "１人1日最低必要量　：　茶碗２杯　× 3,250粒　= 6,500粒\n",
    "\"\"\"\n",
    "\n",
    "def able_suvive(people):\n",
    "    \n",
    "    # １人1日最低必要量の米粒数\n",
    "    day_need_amount = 6500\n",
    "    \n",
    "   # 生活できる日数 = もらった米粒総数　/ １人1日最低必要量の米粒数　/ 受講生数\n",
    "    survive_day = list_total_grains[-1] / day_need_amount / people\n",
    "    \n",
    "    return survive_day\n",
    "\n",
    "# 受講生数\n",
    "student = 14\n",
    "# 小数点切り捨て\n",
    "survive_day = math.floor(able_suvive(people=student))\n",
    "\n",
    "print(\"{}日間もらって、{}人が生活できるのは{}日である。\".format(target, student, survive_day))"
   ]
  }
 ],
 "metadata": {
  "kernelspec": {
   "display_name": "Python 3",
   "language": "python",
   "name": "python3"
  },
  "language_info": {
   "codemirror_mode": {
    "name": "ipython",
    "version": 3
   },
   "file_extension": ".py",
   "mimetype": "text/x-python",
   "name": "python",
   "nbconvert_exporter": "python",
   "pygments_lexer": "ipython3",
   "version": "3.7.2"
  }
 },
 "nbformat": 4,
 "nbformat_minor": 2
}
