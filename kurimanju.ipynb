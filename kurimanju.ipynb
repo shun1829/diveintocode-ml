{
 "cells": [
  {
   "cell_type": "markdown",
   "metadata": {},
   "source": [
    "# 【問題】栗まんじゅうが太陽系を覆う日"
   ]
  },
  {
   "cell_type": "markdown",
   "metadata": {},
   "source": [
    "## 1個の栗まんじゅうにバイバインを振りかけた場合、太陽系が栗まんじゅうで覆われるのは何分後でしょうか。これを計算するプログラムを作成してください。\n",
    "#### 栗まんじゅうや太陽系の体積を調査した上で仮定して計算してください。栗まんじゅうの隙間や重力などは考えず、問題を単純化して構いません。"
   ]
  },
  {
   "cell_type": "code",
   "execution_count": 137,
   "metadata": {
    "scrolled": false
   },
   "outputs": [
    {
     "name": "stdout",
     "output_type": "stream",
     "text": [
      "太陽系が栗まんじゅうで覆われるのは 1404 分後。\n"
     ]
    }
   ],
   "source": [
    "\"\"\"\n",
    "栗まんじゅう１個の大きさを 10**-4 (m**3) とする。 \n",
    "地球の体積を　3*10**80　(m**3) とする。\n",
    "\n",
    "x分後の栗まんじゅうの体積\n",
    "(2 ** (0.2*x)) * (10** -4)\n",
    "\"\"\"\n",
    "# 経過時間\n",
    "x =0 \n",
    "\n",
    "while (2 ** (0.2*x)) * (10 ** -4) < (3*10**80):\n",
    "    # ５分進める\n",
    "    # x += 5\n",
    "    \n",
    "    x +=1\n",
    "    \n",
    "print(\"太陽系が栗まんじゅうで覆われるのは {} 分後。\".format(x)) "
   ]
  },
  {
   "cell_type": "markdown",
   "metadata": {},
   "source": [
    "## ボールにバイバインを振りかけた時、東京ドームが一杯になる時間など他の状況にも適用できるような汎用的なプログラムを作成してください。"
   ]
  },
  {
   "cell_type": "code",
   "execution_count": 155,
   "metadata": {},
   "outputs": [
    {
     "name": "stdout",
     "output_type": "stream",
     "text": [
      "東京ドームが米で覆われるのは 200 分後である。\n"
     ]
    }
   ],
   "source": [
    "# 宇宙の体積(m**3)\n",
    "UNIVERSE_VOLUME = 3*10**80\n",
    "# 栗まんじゅうの体積(m**3)\n",
    "KURIMANJU_VOLUME = 10**-4\n",
    "\n",
    "def kuri_manju(material=10**-4, box=3*10**80):\n",
    "    \"\"\"\n",
    "    ある対象物にバイバインを振りかけた時、ある対象boxの体積が一杯になる時間を出力する。\n",
    "    Parameters:\n",
    "    ------------\n",
    "    material : int　(default : 10**-4)\n",
    "        判定したい物体の１個の体積。\n",
    "    box : int (default : 3*10**80)\n",
    "        判定したいboxの体積。\n",
    "    Returns:\n",
    "    ------------\n",
    "    int\n",
    "        対象boxが対象物で覆われる時間。\n",
    "    \"\"\"\n",
    "    # 経過時間(分)\n",
    "    x = 0\n",
    "    \n",
    "    list_thing_volume = []\n",
    "    \n",
    "    while (2 ** (0.2*x)) * material < box:\n",
    "        list_thing_volume.append((2 ** (0.2*x)) * material)\n",
    "        x +=1\n",
    "        \n",
    "    return x, list_thing_volume\n",
    "\n",
    "# 情報\n",
    "thing_name = '米'\n",
    "thing_volume = 10**-2\n",
    "buildin_name = '東京ドーム'\n",
    "building_volume = 1*10**10\n",
    "\n",
    "x, list_thing_volume = kuri_manju(thing_volume, building_volume)\n",
    "print(\"{}が{}で覆われるのは {} 分後である。\".format(buildin_name, thing_name, x)) \n",
    "# print(list_thing_volume)"
   ]
  },
  {
   "cell_type": "markdown",
   "metadata": {},
   "source": [
    "## また、グラフを表示するなど分かりやすいノートブックを作成してください。"
   ]
  },
  {
   "cell_type": "code",
   "execution_count": 159,
   "metadata": {},
   "outputs": [
    {
     "data": {
      "image/png": "[encoded data removed]",
      "text/plain": [
       "<Figure size 432x288 with 1 Axes>"
      ]
     },
     "metadata": {
      "needs_background": "light"
     },
     "output_type": "display_data"
    }
   ],
   "source": [
    "import matplotlib.pyplot as plt\n",
    "%matplotlib inline\n",
    "# グラフを表示する。タイトルと軸ラベル名付き。\n",
    "plt.title(\"VOULUME\")\n",
    "plt.xlabel(\"minute\")\n",
    "plt.ylabel(\"thing_volume\")\n",
    " # 「リスト名」のところにリストの変数名を入れる\n",
    "plt.plot(list_thing_volume, label=\"rice\") \n",
    "plt.legend()\n",
    "plt.show()"
   ]
  }
 ],
 "metadata": {
  "kernelspec": {
   "display_name": "Python 3",
   "language": "python",
   "name": "python3"
  },
  "language_info": {
   "codemirror_mode": {
    "name": "ipython",
    "version": 3
   },
   "file_extension": ".py",
   "mimetype": "text/x-python",
   "name": "python",
   "nbconvert_exporter": "python",
   "pygments_lexer": "ipython3",
   "version": "3.7.2"
  }
 },
 "nbformat": 4,
 "nbformat_minor": 2
}
