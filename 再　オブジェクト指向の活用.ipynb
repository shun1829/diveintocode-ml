{
 "cells": [
  {
   "cell_type": "markdown",
   "id": "b867e670-9fc0-4206-8a94-886a11ec12af",
   "metadata": {
    "jupyter": {
     "outputs_hidden": false
    },
    "pycharm": {
     "name": "#%%\n"
    }
   },
   "source": [
    "**【問題1】これまで利用してきたクラスの列挙**"
   ]
  },
  {
   "cell_type": "markdown",
   "id": "73f793ba-61a5-4ac2-a2bc-a9715573fca0",
   "metadata": {},
   "source": [
    "Pandas<br>\n",
    "<class 'pandas.core.frame.DataFrame'><br>\n",
    "\n",
    "matplotlib<br>\n",
    "<class 'matplotlib.text.Text'><br>\n",
    "\n",
    "scikit-learn<br>\n",
    "<class 'sklearn.neighbors._classification.KNeighborsClassifier'>"
   ]
  },
  {
   "cell_type": "markdown",
   "id": "d51c3aa1-8a43-467e-996d-55f7362c84fa",
   "metadata": {},
   "source": [
    "**【問題2】これまで利用してきたメソッドやインスタンス変数の列挙**"
   ]
  },
  {
   "cell_type": "markdown",
   "id": "ee471534-d65f-486e-8dee-cbc5baedbb97",
   "metadata": {},
   "source": [
    "メソッド<br>\n",
    "discribe(), head(), reshape(), np.arrange(), range()\n",
    "\n",
    "インスタンス変数<br>\n",
    "転値.T, np.random.seed(0), .values , .iloc , .loc"
   ]
  },
  {
   "cell_type": "markdown",
   "id": "df2d623d-065d-4d35-b44a-90fd0110a0fc",
   "metadata": {},
   "source": [
    "**【問題3】標準化クラスをスクラッチで作成**"
   ]
  },
  {
   "cell_type": "code",
   "execution_count": 1,
   "id": "b3d2207d-5748-41b4-83ce-8af36736b95a",
   "metadata": {},
   "outputs": [
    {
     "data": {
      "text/plain": "array([[5.1, 3.5, 1.4, 0.2],\n       [4.9, 3. , 1.4, 0.2],\n       [4.7, 3.2, 1.3, 0.2],\n       [4.6, 3.1, 1.5, 0.2],\n       [5. , 3.6, 1.4, 0.2],\n       [5.4, 3.9, 1.7, 0.4],\n       [4.6, 3.4, 1.4, 0.3],\n       [5. , 3.4, 1.5, 0.2],\n       [4.4, 2.9, 1.4, 0.2],\n       [4.9, 3.1, 1.5, 0.1]])"
     },
     "execution_count": 1,
     "metadata": {},
     "output_type": "execute_result"
    }
   ],
   "source": [
    "import numpy as np\n",
    "from sklearn.datasets import load_iris\n",
    "data = load_iris()\n",
    "X = data.data[:10]\n",
    "X"
   ]
  },
  {
   "cell_type": "code",
   "execution_count": 2,
   "id": "27cdb88b-d30f-4387-a4fc-649f96dc0b9b",
   "metadata": {},
   "outputs": [],
   "source": [
    "class ScratchStandardScaler():\n",
    "    \"\"\"\n",
    "    標準化のためのクラス\n",
    "    Attributes\n",
    "    ----------\n",
    "    mean_ : 次の形のndarray, shape(n_features,)\n",
    "        平均\n",
    "    var_ : 次の形のndarray, shape(n_features,)\n",
    "        分散\n",
    "    \"\"\" \n",
    "     \n",
    "    def fit(self, X):\n",
    "        \"\"\"\n",
    "        標準化のために平均と標準偏差を計算する。\n",
    "        Parameters\n",
    "        ----------\n",
    "        X : 次の形のndarray, shape (n_samples, n_features)\n",
    "            訓練データ\n",
    "        \"\"\"\n",
    "        # 平均　np.mean()\n",
    "        self.mean_ = np.mean(X, axis=0)\n",
    "        # 分散 np.var()\n",
    "        self.var_ = np.var(X, axis=0)\n",
    "\n",
    "        pass\n",
    "    def transform(self, X):\n",
    "        \"\"\"\n",
    "        fitで求めた値を使い標準化を行う。\n",
    "        Parameters\n",
    "        ----------\n",
    "        X : 次の形のndarray, shape (n_samples, n_features)\n",
    "            特徴量\n",
    "        Returns\n",
    "        ----------\n",
    "        X_scaled : 次の形のndarray, shape (n_samples, n_features)\n",
    "            標準化された特緒量\n",
    "        \"\"\"\n",
    "        # 標準化された特徴量　= （X - 平均）　/ 標準偏差\n",
    "        X_scaled = (X - self.mean_) / self.var_**1/2\n",
    "        pass\n",
    "        return X_scaled\n",
    "\n"
   ]
  },
  {
   "cell_type": "code",
   "execution_count": 3,
   "id": "4d0e3441-fefb-42a9-b620-326ecf22d2e2",
   "metadata": {},
   "outputs": [
    {
     "name": "stdout",
     "output_type": "stream",
     "text": [
      "平均 : [4.86 3.31 1.45 0.22]\n",
      "分散 : [0.0764 0.0849 0.0105 0.0056]\n",
      "[[  1.57068063   1.11896349  -2.38095238  -1.78571429]\n",
      " [  0.2617801   -1.82567727  -2.38095238  -1.78571429]\n",
      " [ -1.04712042  -0.64782097  -7.14285714  -1.78571429]\n",
      " [ -1.70157068  -1.23674912   2.38095238  -1.78571429]\n",
      " [  0.91623037   1.70789164  -2.38095238  -1.78571429]\n",
      " [  3.53403141   3.47467609  11.9047619   16.07142857]\n",
      " [ -1.70157068   0.53003534  -2.38095238   7.14285714]\n",
      " [  0.91623037   0.53003534   2.38095238  -1.78571429]\n",
      " [ -3.0104712   -2.41460542  -2.38095238  -1.78571429]\n",
      " [  0.2617801   -1.23674912   2.38095238 -10.71428571]]\n"
     ]
    }
   ],
   "source": [
    "scratch_scaler = ScratchStandardScaler()\n",
    "scratch_scaler.fit(X)\n",
    "print(\"平均 : {}\".format(scratch_scaler.mean_))\n",
    "print(\"分散 : {}\".format(scratch_scaler.var_))\n",
    "X_std = scratch_scaler.transform(X)\n",
    "print(X_std)"
   ]
  },
  {
   "cell_type": "markdown",
   "id": "0e25c236-d67b-4a5a-9e65-581eb5526a3a",
   "metadata": {},
   "source": [
    "**【問題4】 四則演算を行うクラスの作成**<br>\n",
    "引き算、掛け算、割り算のメソッドを加える。<br>\n",
    "コンストラクタに入力されたvalueが文字列や配列など数値以外だった場合にはエラーを出す。<br>"
   ]
  },
  {
   "cell_type": "code",
   "execution_count": 5,
   "id": "92a1443d-7293-480d-9770-0682d2c2970a",
   "metadata": {},
   "outputs": [
    {
     "name": "stdout",
     "output_type": "stream",
     "text": [
      "7\n",
      "初期値7が設定されました\n",
      "value : 7\n"
     ]
    }
   ],
   "source": [
    "class ExampleClass():\n",
    "    \"\"\"\n",
    "    説明用の簡単なクラス\n",
    "    Parameters\n",
    "    ----------\n",
    "    value : float or int\n",
    "        初期値\n",
    "    Attributes\n",
    "    ----------\n",
    "    value : float or int\n",
    "        計算結果\n",
    "    \"\"\"\n",
    "    def __init__(self, value):\n",
    "        print(value)\n",
    "        if str(value).isdigit()==True:\n",
    "            self.value = value\n",
    "            print(\"初期値{}が設定されました\".format(self.value))\n",
    "        else:\n",
    "            print(\"Input value is not valid number.\")\n",
    "    \n",
    "    # 足し算（）\n",
    "    def add(self, value2):\n",
    "        \"\"\"\n",
    "        受け取った引数をself.valueに加える\n",
    "        \"\"\"\n",
    "        self.value += value2\n",
    "        \n",
    "    # 引き算（subtraction）\n",
    "    def subtraction(self, value3):\n",
    "        \"\"\"\n",
    "        受け取った引数をself.valueから引く\n",
    "        \"\"\"\n",
    "        self.value -= value3\n",
    "        \n",
    "    # 掛け算（multiplication）\n",
    "    def multiplication(self, value4):\n",
    "        \"\"\"\n",
    "        受け取った引数をself.valueに掛ける\n",
    "        \"\"\"\n",
    "        self.value *= value4\n",
    "        \n",
    "    # 割り算（division）\n",
    "    def division(self, value5):\n",
    "        \"\"\"\n",
    "        受け取った引数でself.valueを割る\n",
    "        \"\"\"\n",
    "        self.value /= value5\n",
    "        \n",
    "    \n",
    "example = ExampleClass(7)\n",
    "print(\"value : {}\".format(example.value))\n",
    "\n",
    "# example.add(8)\n",
    "# print(\"value : {}\".format(example.value))\n",
    "\n",
    "# example.division(5)\n",
    "# print(\"value : {}\".format(example.value))\n"
   ]
  },
  {
   "cell_type": "code",
   "execution_count": null,
   "id": "3fd92240-be52-409a-bebd-d300cb953b04",
   "metadata": {},
   "outputs": [],
   "source": []
  },
  {
   "cell_type": "code",
   "execution_count": null,
   "outputs": [],
   "source": [],
   "metadata": {
    "collapsed": false,
    "pycharm": {
     "name": "#%%\n"
    }
   }
  },
  {
   "cell_type": "code",
   "execution_count": null,
   "outputs": [],
   "source": [],
   "metadata": {
    "collapsed": false,
    "pycharm": {
     "name": "#%%\n"
    }
   }
  },
  {
   "cell_type": "code",
   "execution_count": null,
   "outputs": [],
   "source": [],
   "metadata": {
    "collapsed": false,
    "pycharm": {
     "name": "#%%\n"
    }
   }
  },
  {
   "cell_type": "code",
   "execution_count": null,
   "outputs": [],
   "source": [],
   "metadata": {
    "collapsed": false,
    "pycharm": {
     "name": "#%%\n"
    }
   }
  },
  {
   "cell_type": "code",
   "execution_count": null,
   "outputs": [],
   "source": [],
   "metadata": {
    "collapsed": false,
    "pycharm": {
     "name": "#%%\n"
    }
   }
  }
 ],
 "metadata": {
  "kernelspec": {
   "display_name": "Python 3",
   "language": "python",
   "name": "python3"
  },
  "language_info": {
   "codemirror_mode": {
    "name": "ipython",
    "version": 3
   },
   "file_extension": ".py",
   "mimetype": "text/x-python",
   "name": "python",
   "nbconvert_exporter": "python",
   "pygments_lexer": "ipython3",
   "version": "3.7.2"
  }
 },
 "nbformat": 4,
 "nbformat_minor": 5
}