{
 "cells": [
  {
   "cell_type": "code",
   "execution_count": 26,
   "id": "b716869a-9921-4a9a-8880-c1e28aeaf061",
   "metadata": {},
   "outputs": [
    {
     "data": {
      "text/plain": [
       "(418, 11)"
      ]
     },
     "execution_count": 26,
     "metadata": {},
     "output_type": "execute_result"
    }
   ],
   "source": [
    "import pandas as pd\n",
    "import numpy as np\n",
    "import pandas as pd\n",
    "import numpy as np\n",
    "from sklearn.model_selection import train_test_split\n",
    "\n",
    "\n",
    " \n",
    "train = pd.read_csv(\"titanic_train.csv\")\n",
    "test = pd.read_csv(\"titanic_test.csv\")\n",
    "train.shape\n",
    "test.shape\n",
    "# PassengerId – 乗客識別ユニークID\n",
    "# Survived – 生存フラグ（0=死亡、1=生存）\n",
    "# Pclass – チケットクラス\n",
    "# Name – 乗客の名前\n",
    "# Sex – 性別（male=男性、female＝女性）\n",
    "# Age – 年齢\n",
    "# SibSp – タイタニックに同乗している兄弟/配偶者の数\n",
    "# parch – タイタニックに同乗している親/子供の数\n",
    "# ticket – チケット番号\n",
    "# fare – 料金\n",
    "# cabin – 客室番号\n",
    "# Embarked – 出港地（タイタニックへ乗った港）"
   ]
  },
  {
   "cell_type": "code",
   "execution_count": 27,
   "id": "26a6b706-4ff2-4373-b4a6-3f16aa32f3a5",
   "metadata": {},
   "outputs": [],
   "source": [
    "train_x = train.drop([\"Survived\", \"Name\", \"Cabin\", \"Ticket\", \"PassengerId\"], axis=1)\n",
    "test_x = test.drop([\"Name\", \"Cabin\", \"Ticket\", \"PassengerId\"], axis=1)\n",
    "train_y = train[\"Survived\"]\n",
    "\n",
    "\n",
    "# 欠損値を年齢の中央値。出港地は最多のSで補完\n",
    "train_x[\"Age\"] = train_x[\"Age\"].fillna(train_x[\"Age\"].median())\n",
    "train_x[\"Embarked\"] = train_x[\"Embarked\"].fillna(\"S\")\n",
    "\n",
    "test_x[\"Age\"] = test_x[\"Age\"].fillna(test_x[\"Age\"].median())\n",
    "test_x[\"Fare\"] = test_x[\"Fare\"].fillna(test_x[\"Fare\"].median())\n",
    "test_x[\"Embarked\"] = test_x[\"Embarked\"].fillna(\"S\")\n",
    "\n",
    "\n",
    "train_x_dummy = pd.get_dummies(train_x,columns=[\"Sex\",\"Embarked\"])\n",
    "test_x_dummy = pd.get_dummies(test_x,columns=[\"Sex\",\"Embarked\"])\n",
    "\n",
    "X_train, X_test, y_train, y_test = train_test_split(train_x_dummy, train_y, test_size=0.3, random_state=101)"
   ]
  },
  {
   "cell_type": "code",
   "execution_count": 6,
   "id": "35219796-289a-43f3-b5ef-926d8c747b9a",
   "metadata": {},
   "outputs": [],
   "source": [
    "# ・線形回帰で分類可能か\n",
    "# ・標準かの意味＿回帰のような大きな数字に対して有効？\n",
    "# ・評価方法、比較\n",
    "# ・probaは分類のみか\n",
    "# ・# 混同行列（confusion matrix）\n",
    "# # 正解率（accuracy）\n",
    "# # 適合率（precision）\n",
    "# # 再現率（recall）\n",
    "# # F1スコア（F1-score）\n",
    "# # AUC（曲線下面積）\n",
    "# 評価として大事なのは\n",
    "# https://qiita.com/kazuki_hayakawa/items/18b7017da9a6f73eba77\n",
    "#     過学習の評価の謎"
   ]
  },
  {
   "cell_type": "code",
   "execution_count": 14,
   "id": "a9661f8f-23ff-4c7a-952e-93a3c57b44f7",
   "metadata": {},
   "outputs": [
    {
     "data": {
      "text/plain": [
       "array([0, 1, 0, 0, 0, 0, 0, 0, 0, 0, 0, 0, 0, 0, 0, 0, 0, 0, 0, 0, 0, 0,\n",
       "       0, 0, 0, 0, 0, 0, 0, 0, 0, 1, 0, 1, 0, 1, 0, 0, 0, 0, 1, 0, 0, 0,\n",
       "       0, 0, 0, 0, 0, 0, 0, 0, 0, 0, 0, 0, 0, 0, 0, 1, 1, 0, 0, 0, 0, 0,\n",
       "       0, 1, 0, 0, 0, 0, 0, 0, 0, 1, 0, 0, 0, 0, 1, 1, 0, 0, 0, 0, 0, 0,\n",
       "       0, 0, 0, 0, 1, 1, 0, 1, 0, 0, 0, 0, 0, 1, 0, 1, 1, 0, 0, 0, 0, 0,\n",
       "       0, 0, 1, 0, 0, 0, 0, 0, 0, 0, 0, 0, 1, 0, 0, 0, 0, 0, 0, 0, 1, 0,\n",
       "       1, 0, 0, 0, 0, 0, 0, 1, 0, 0, 0, 0, 0, 0, 1, 0, 0, 0, 0, 0, 1, 0,\n",
       "       0, 1, 0, 0, 0, 1, 0, 0, 0, 0, 1, 0, 0, 1, 0, 0, 1, 0, 0, 1, 0, 0,\n",
       "       1, 0, 0, 0, 0, 0, 1, 0, 0, 0, 0, 0, 0, 0, 0, 0, 0, 0, 1, 0, 0, 0,\n",
       "       0, 0, 1, 0, 0, 0, 0, 0, 0, 0, 0, 0, 0, 0, 0, 0, 0, 0, 0, 0, 0, 0,\n",
       "       0, 0, 0, 1, 0, 0, 0, 0, 0, 0, 0, 0, 0, 0, 1, 0, 1, 0, 0, 0, 1, 1,\n",
       "       0, 0, 1, 0, 0, 0, 0, 0, 0, 0, 0, 0, 0, 0, 0, 0, 1, 0, 0, 1, 0, 0,\n",
       "       0, 0, 0, 1])"
      ]
     },
     "execution_count": 14,
     "metadata": {},
     "output_type": "execute_result"
    }
   ],
   "source": [
    "from sklearn.svm import SVC\n",
    "\n",
    "\n",
    "svc = SVC(probability=True)\n",
    "svc.fit(X_train, y_train)\n",
    "\n",
    "predictions = svc.predict(X_test) \n",
    "predictions"
   ]
  },
  {
   "cell_type": "code",
   "execution_count": 15,
   "id": "e10c87e4-1541-4195-a55d-b2b8a75258ac",
   "metadata": {},
   "outputs": [
    {
     "name": "stdout",
     "output_type": "stream",
     "text": [
      "confusion matrix = \n",
      " [[143  11]\n",
      " [ 82  32]]\n",
      "accuracy =  0.6529850746268657\n",
      "precision =  0.7441860465116279\n",
      "recall =  0.2807017543859649\n",
      "f1 score =  0.4076433121019108\n"
     ]
    }
   ],
   "source": [
    "\n",
    "from sklearn.metrics import confusion_matrix, accuracy_score, precision_score, recall_score, f1_score\n",
    "\n",
    "# 1行1列目の要素は、実際にクラス0で正しくクラス0に分類されたデータ数（真陰性（TN: True Negative））\n",
    "# 1行2列目の要素は、実際にはクラス0だが誤ってクラス1に分類されたデータ数（偽陽性（FP: False Positive））\n",
    "# 2行1列目の要素は、実際にはクラス1だが誤ってクラス0に分類されたデータ数（偽陰性（FN: False Negative））\n",
    "# 2行2列目の要素は、実際にクラス1で正しくクラス1に分類されたデータ数（真陽性（TP: True Positive））\n",
    "\n",
    "# 混同行列（confusion matrix）\n",
    "# 正解率（accuracy）\n",
    "# 適合率（precision）\n",
    "# 再現率（recall）\n",
    "# F1スコア（F1-score）\n",
    "# AUC（曲線下面積）\n",
    "\n",
    "\n",
    "print('confusion matrix = \\n', confusion_matrix(y_test, predictions))\n",
    "print('accuracy = ', accuracy_score(y_test, predictions))\n",
    "print('precision = ', precision_score(y_test, predictions))\n",
    "print('recall = ', recall_score(y_test, predictions))\n",
    "print('f1 score = ', f1_score(y_test, predictions))"
   ]
  },
  {
   "cell_type": "code",
   "execution_count": 22,
   "id": "9d1743bc-8675-41f6-b878-a0c9dce920bc",
   "metadata": {},
   "outputs": [
    {
     "name": "stdout",
     "output_type": "stream",
     "text": [
      "(268,)\n"
     ]
    }
   ],
   "source": [
    "y_proba = svc.predict_proba(X_test)[: , 1]\n",
    "print(y_proba.shape)"
   ]
  },
  {
   "cell_type": "code",
   "execution_count": 25,
   "id": "53cf65f5-64e7-4be5-a96a-9126a2a03a27",
   "metadata": {},
   "outputs": [
    {
     "name": "stdout",
     "output_type": "stream",
     "text": [
      "AUC curve : 0.780816\n",
      "accuracy: 0.6529850746268657\n",
      "f1_score: 0.4076433121019108\n"
     ]
    },
    {
     "data": {
      "image/png": "[encoded data removed]",
      "text/plain": [
       "<Figure size 432x288 with 1 Axes>"
      ]
     },
     "metadata": {
      "needs_background": "light"
     },
     "output_type": "display_data"
    }
   ],
   "source": [
    "from sklearn.metrics import (roc_curve, auc, accuracy_score) \n",
    "from sklearn.metrics import roc_auc_score\n",
    "import matplotlib.pyplot as plt\n",
    "\n",
    "\n",
    "# AUCスコアを出す\n",
    "fpr, tpr, thresholds = roc_curve(y_test, y_proba)\n",
    "roc_auc = auc(fpr, tpr)\n",
    "print (\"AUC curve : %f\" % roc_auc)\n",
    "\n",
    "\n",
    "auc_score = roc_auc_score(y_test, y_proba)\n",
    "plt.plot(fpr, tpr, label='AUC = %.3f' % (auc_score))\n",
    "plt.legend()\n",
    "plt.title('ROC curve')\n",
    "plt.xlabel('False Positive Rate')\n",
    "plt.ylabel('True Positive Rate')\n",
    "plt.grid(True)\n",
    "\n",
    "print('accuracy:',accuracy_score(y_test, predictions))\n",
    "print('f1_score:',f1_score(y_test, predictions))"
   ]
  },
  {
   "cell_type": "code",
   "execution_count": null,
   "id": "a9c71c51-da5c-4820-8f1e-5f8052ccfa57",
   "metadata": {},
   "outputs": [],
   "source": []
  },
  {
   "cell_type": "code",
   "execution_count": null,
   "id": "3713a1c4-fadb-47cb-b5bc-efe684026784",
   "metadata": {},
   "outputs": [],
   "source": []
  }
 ],
 "metadata": {
  "kernelspec": {
   "display_name": "Python 3",
   "language": "python",
   "name": "python3"
  },
  "language_info": {
   "codemirror_mode": {
    "name": "ipython",
    "version": 3
   },
   "file_extension": ".py",
   "mimetype": "text/x-python",
   "name": "python",
   "nbconvert_exporter": "python",
   "pygments_lexer": "ipython3",
   "version": "3.7.2"
  }
 },
 "nbformat": 4,
 "nbformat_minor": 5
}
