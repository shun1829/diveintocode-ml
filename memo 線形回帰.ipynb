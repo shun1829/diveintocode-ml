{
 "cells": [
  {
   "cell_type": "code",
   "execution_count": 14,
   "id": "7182c8e9-44af-47e8-a420-9922bf7df65d",
   "metadata": {},
   "outputs": [
    {
     "name": "stdout",
     "output_type": "stream",
     "text": [
      "1\n"
     ]
    },
    {
     "data": {
      "text/plain": [
       "1"
      ]
     },
     "execution_count": 14,
     "metadata": {},
     "output_type": "execute_result"
    }
   ],
   "source": [
    "import numpy as np\n",
    "class A():\n",
    "    \n",
    "\n",
    "    def predict(self):\n",
    "        \"\"\"\n",
    "        線形回帰での推定\n",
    "        \"\"\"\n",
    "        self.prediction = 1\n",
    "        \n",
    "        alkj = 1\n",
    "        return alkj\n",
    "\n",
    "\n",
    "a = A()\n",
    "a.predict()\n",
    "print(a.prediction)\n",
    "\n",
    "c = a.predict()\n",
    "c "
   ]
  },
  {
   "cell_type": "code",
   "execution_count": 17,
   "id": "4cfb7b71-bce0-43cb-a92a-4efbeebabbff",
   "metadata": {},
   "outputs": [
    {
     "name": "stdout",
     "output_type": "stream",
     "text": [
      "クラスの持ち物です\n"
     ]
    }
   ],
   "source": [
    "class Test():\n",
    "    def func():\n",
    "        print(\"クラスの持ち物です\")\n",
    "\n",
    "Test.func()"
   ]
  },
  {
   "cell_type": "code",
   "execution_count": null,
   "id": "296761d2-549b-4bf9-ae25-3b594d66a9f8",
   "metadata": {},
   "outputs": [],
   "source": []
  }
 ],
 "metadata": {
  "kernelspec": {
   "display_name": "Python 3",
   "language": "python",
   "name": "python3"
  },
  "language_info": {
   "codemirror_mode": {
    "name": "ipython",
    "version": 3
   },
   "file_extension": ".py",
   "mimetype": "text/x-python",
   "name": "python",
   "nbconvert_exporter": "python",
   "pygments_lexer": "ipython3",
   "version": "3.7.2"
  }
 },
 "nbformat": 4,
 "nbformat_minor": 5
}
