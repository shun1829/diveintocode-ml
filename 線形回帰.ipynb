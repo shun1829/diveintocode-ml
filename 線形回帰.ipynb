{
 "cells": [
  {
   "cell_type": "markdown",
   "source": [
    "## 【問題1】仮定関数\n",
    "クラスの外から呼び出すことがないメソッドのため、\n",
    "Pythonの慣例としてアンダースコアを先頭にひとつつけています。"
   ],
   "metadata": {
    "collapsed": false
   }
  },
  {
   "cell_type": "code",
   "execution_count": 1,
   "outputs": [
    {
     "name": "stdout",
     "output_type": "stream",
     "text": [
      "9\n"
     ]
    }
   ],
   "source": [
    "import pandas as pd\n",
    "def _linear_hypothesis(self, theta):  # 必要に応じて引数を追加して下さい\n",
    "    \"\"\"\n",
    "    線形の仮定関数を計算する\n",
    "    Parameters\n",
    "    ----------\n",
    "    X : 次の形のndarray, shape (n_samples, n_features)\n",
    "      訓練データ\n",
    "    self.coef_ : theta(coefficient) 次の形のndarray, shape (n_features,)\n",
    "      パラメータ\n",
    "    Returns\n",
    "    -------\n",
    "      次の形のndarray, shape (n_samples, 1)\n",
    "      線形の仮定関数による推定結果\n",
    "    \"\"\"\n",
    "    # X.shape(n_samples, n_features) shape[0]で行数取得,shape[1]で列数取得\n",
    "    n_samples = X.shape[0]\n",
    "    n_features = X.shape[1]\n",
    "    # Xの(n_samples, 1) のshapeの1のみの行列を作る\n",
    "    one_array = np.ones((n_samples, 1))\n",
    "    # Xの一列目にone_arrayを結合\n",
    "    one_X = np.concatenate([one_array, X], axis=1)\n",
    "    # one_Xの特徴量数の1のみの行列を作る(n_features+1, 1) shape[1]で列数取得\n",
    "    theta = np.ones((one_X.shape[1], 1))\n",
    "\n",
    "    y_hat = one_X @ theta\n",
    "\n",
    "    return y_hat, theta\n",
    "print(9)"
   ],
   "metadata": {
    "collapsed": false,
    "pycharm": {
     "name": "#%%\n"
    }
   }
  },
  {
   "cell_type": "markdown",
   "source": [
    "## 【問題2】最急降下法\n",
    "以下の式で表されるパラメータの更新式のメソッド_gradient_descentを追加し、\n",
    "fitメソッドから呼び出すようにしてください。"
   ],
   "metadata": {
    "collapsed": false
   }
  },
  {
   "cell_type": "code",
   "execution_count": 2,
   "outputs": [],
   "source": [
    "def _gradient_descent(self):\n",
    "    # _gradient_descent(self, X, y_hat, y_true, alpha= , one_X, n_samples):\n",
    "    \"\"\"\n",
    "    最急降下法によるパラメータの更新値計算\n",
    "    Parameters\n",
    "    ----------\n",
    "    α: 学習率\n",
    "    i : サンプルのインデックス\n",
    "    j : 特徴量のインデックス\n",
    "    lr : alfa アルファ　学習率(learning rate)\n",
    "    self.coef_ : theta(coefficient) 次の形のndarray, shape (n_features,)\n",
    "    Returns\n",
    "    -------\n",
    "    theta\n",
    "    \"\"\"\n",
    "    # y_hatは　_linear_hypothesisのreturnを予定　\n",
    "    # y_trueはどこかの正解値\n",
    "    # alphaはスカラー\n",
    "    error = y_hat - y_true\n",
    "    # one_Xは　Xの1列目に1のみの列を結合させてある\n",
    "    theta = theta - (alfa / n_samples) * (error.T @ one_X).T\n",
    "\n",
    "    return theta"
   ],
   "metadata": {
    "collapsed": false,
    "pycharm": {
     "name": "#%%\n"
    }
   }
  },
  {
   "cell_type": "markdown",
   "source": [
    "## 【問題3】推定\n",
    "推定する仕組みを実装してください。"
   ],
   "metadata": {
    "collapsed": false
   }
  },
  {
   "cell_type": "markdown",
   "source": [
    "## 【問題4】平均二乗誤差\n",
    "別の関数として作成してください。雛形を用意してあります。"
   ],
   "metadata": {
    "collapsed": false
   }
  },
  {
   "cell_type": "markdown",
   "source": [
    "## 【問題5】目的関数"
   ],
   "metadata": {
    "collapsed": false
   }
  },
  {
   "cell_type": "markdown",
   "source": [
    "## 【問題6】学習と推定"
   ],
   "metadata": {
    "collapsed": false
   }
  },
  {
   "cell_type": "markdown",
   "source": [
    "## 【問題7】学習曲線のプロット"
   ],
   "metadata": {
    "collapsed": false
   }
  },
  {
   "cell_type": "code",
   "execution_count": 3,
   "outputs": [],
   "source": [
    "import numpy as np\n",
    "# import pandas as pd\n",
    "from sklearn.model_selection import train_test_split\n",
    "import matplotlib.pyplot as plt\n",
    "%matplotlib inline\n",
    "import numpy as np"
   ],
   "metadata": {
    "collapsed": false,
    "pycharm": {
     "name": "#%%\n"
    }
   }
  },
  {
   "cell_type": "code",
   "execution_count": 4,
   "outputs": [],
   "source": [
    "class ScratchLinearRegression():\n",
    "    \"\"\"\n",
    "    線形回帰のスクラッチ実装\n",
    "\n",
    "    Parameters\n",
    "    ----------\n",
    "    num_iter : int\n",
    "      イテレーション数\n",
    "    lr : float\n",
    "      学習率\n",
    "    no_bias : bool\n",
    "      バイアス項を入れない場合はTrue\n",
    "    verbose : bool\n",
    "      学習過程を出力する場合はTrue\n",
    "\n",
    "    Attributes\n",
    "    ----------\n",
    "    self.coef_ : 次の形のndarray, shape (n_features,)\n",
    "      パラメータ\n",
    "    self.loss : 次の形のndarray, shape (self.iter,)\n",
    "      訓練データに対する損失の記録\n",
    "    self.val_loss : 次の形のndarray, shape (self.iter,)\n",
    "      検証データに対する損失の記録\n",
    "    \"\"\"\n",
    "    def __init__(self, num_iter, lr, no_bias=True, verbose=False):\n",
    "        # ハイパーパラメータを属性として記録\n",
    "        self.iter = num_iter\n",
    "        self.lr = lr\n",
    "        self.no_bias = no_bias\n",
    "        self.verbose = verbose\n",
    "        # 損失を記録する配列を用意\n",
    "        self.losses = np.array([])\n",
    "        self.losses_val = np.array([])\n",
    "        self.theta = None\n",
    "\n",
    "    # 問題6（学習と推定）\n",
    "    def fit(self, X, y, X_val=None, y_val=None):\n",
    "        \"\"\"\n",
    "        線形回帰を学習する。検証データが入力された場合はそれに対する損失と精度もイテレーションごとに計算する。\n",
    "        Parameters\n",
    "        ----------\n",
    "        X : 次の形のndarray, shape (n_samples, n_features)\n",
    "            訓練データの特徴量\n",
    "        y : 次の形のndarray, shape (n_samples, )\n",
    "            訓練データの正解値\n",
    "        X_val : 次の形のndarray, shape (n_samples, n_features)\n",
    "            検証データの特徴量\n",
    "        y_val : 次の形のndarray, shape (n_samples, )\n",
    "            検証データの正解値\n",
    "        if self.verbose:\n",
    "            #verboseをTrueにした際は学習過程を出力\n",
    "            print()\n",
    "        \"\"\"\n",
    "        # self.n_samples = X.shape[0]\n",
    "        # n_features = X.shape[1]\n",
    "\n",
    "        self.theta = np.ones((X.shape[1]+1, 1)) # 1の配列でthetaを作成。shape(X.shape[1]+1, 1)\n",
    "        one_array = np.ones((X.shape[0], 1)) # bias項サンプル数分作成\n",
    "        one_X = np.concatenate([one_array, X], axis=1) # Xとbias項を結合\n",
    "\n",
    "\n",
    "        one_X_val = None # これがないと　# 「損失計算と記録内」のone_X_valが定義されてないかもとの警告がでる。\n",
    "\n",
    "\n",
    "        if X_val is not None:\n",
    "            one_array = np.ones((X_val.shape[0], 1)) # bias項サンプル数分作成\n",
    "            one_X_val = np.concatenate([one_array, X_val], axis=1) # Xとbias項を結合\n",
    "\n",
    "\n",
    "        for i in range(self.iter):\n",
    "\n",
    "            # 問題1（仮定関数の計算）\n",
    "            # self._linear_hypothesis(x)の中身を書き出し\n",
    "            # self.prediction = one_X @ self.theta\n",
    "            prediction = one_X @ self.theta # losses_val\n",
    "\n",
    "\n",
    "            # 問題2（最急降下法によるパラメータの更新値計算）\n",
    "            # self._gradient_descent(a)の中身を書き出し\n",
    "            # error = self.prediction - y # yはy_train\n",
    "            error = prediction - y # yはy_train\n",
    "            self.theta = self.theta - (self.lr / X.shape[0]) * (error.T @ one_X).T\n",
    "\n",
    "\n",
    "            # 損失計算と記録\n",
    "            prediction = one_X @ self.theta\n",
    "            loss = self._loss_func(y,prediction)\n",
    "            self.losses = np.append(self.losses, loss)\n",
    "\n",
    "\n",
    "            if X_val is not None:\n",
    "                # print(one_X_val.shape)\n",
    "                # print(self.theta.shape)\n",
    "                prediction_val = one_X_val @ self.theta\n",
    "                loss_val = self._loss_func(y_val,prediction_val)\n",
    "                self.losses_val = np.append(self.losses_val, loss_val)\n",
    "\n",
    "\n",
    "            # 問題7（学習曲線のプロット）のグラフ描画時（問題5（損失関数）で作成した関数を使用）\n",
    "            # self._mse(y)\n",
    "            # self._loss_func()\n",
    "\n",
    "    # 問題1\n",
    "    def _linear_hypothesis(self, X):  # 必要に応じて引数を追加して下さい\n",
    "        \"\"\"\n",
    "        線形の仮定関数を計算する\n",
    "        Parameters\n",
    "        ----------\n",
    "        X : 次の形のndarray, shape (n_samples, n_features)\n",
    "          訓練データ\n",
    "        self.coef_ : theta(coefficient) 次の形のndarray, shape (n_features,)\n",
    "          パラメータ\n",
    "        Returns\n",
    "        -------\n",
    "          次の形のndarray, shape (n_samples, 1)\n",
    "          線形の仮定関数による推定結果\n",
    "        \"\"\"\n",
    "        # X.shape(n_samples, n_features) shape[0]で行数取得,shape[1]で列数取得\n",
    "        self.n_samples = X.shape[0]\n",
    "        n_features = X.shape[1]\n",
    "\n",
    "\n",
    "        # Xの(n_samples, 1) のshapeの1のみの行列を作る\n",
    "        one_array = np.ones((X.shape[0], 1))\n",
    "\n",
    "        # Xの一列目にone_arrayを結合\n",
    "        self.one_X = np.concatenate([one_array, X], axis=1)\n",
    "\n",
    "        # one_Xの特徴量数の1のみの行列を作る(n_features+1, 1) shape[1]で列数取得\n",
    "        self.prediction = self.one_X @ self.theta\n",
    "\n",
    "\n",
    "    # 問題2\n",
    "    def _gradient_descent(self, X, y):\n",
    "        # _gradient_descent(self, X, y_hat, y_true, alpha= , one_X, n_samples):\n",
    "        \"\"\"\n",
    "        最急降下法によるパラメータの更新値計算\n",
    "        Parameters\n",
    "        ----------\n",
    "        α: 学習率\n",
    "        i : サンプルのインデックス\n",
    "        j : 特徴量のインデックス\n",
    "        lr : alfa アルファ　学習率(learning rate)\n",
    "        self.coef_ : theta(coefficient) 次の形のndarray, shape (n_features,)\n",
    "        Returns\n",
    "        -------\n",
    "        theta\n",
    "        \"\"\"\n",
    "        # y_hatは　_linear_hypothesisのreturnを予定　\n",
    "        # y_trueはどこかの正解値\n",
    "        error = self.prediction - y\n",
    "\n",
    "        # one_Xは　Xの1列目に1のみの列を結合させてある\n",
    "        self.theta = self.theta - (self.lr / self.n_samples) * (error.T @ self.one_X).T\n",
    "\n",
    "    # 問題3\n",
    "    def predict(self, X):\n",
    "        \"\"\"\n",
    "        線形回帰での推定\n",
    "        \"\"\"\n",
    "        #  パラメータを決定した後、そのパラメータを用いて、予測結果を出力しなければなりません。これを推定と言います。\n",
    "        one_array = np.ones((X.shape[0], 1))\n",
    "        one_X = np.concatenate([one_array, X], axis=1)\n",
    "        self.prediction = one_X @ self.theta\n",
    "\n",
    "        # return prediction\n",
    "\n",
    "    # 問題4\n",
    "    def _mse(self, y, prediction):\n",
    "        \"\"\"\n",
    "        平均二乗誤差の計算\n",
    "        \"\"\"\n",
    "        mse = ((prediction - y)**2).mean(axis=0)\n",
    "\n",
    "        return mse\n",
    "\n",
    "    # 問題5\n",
    "    def _loss_func(self, y, prediction):\n",
    "        \"\"\"\n",
    "        損失関数\n",
    "        \"\"\"\n",
    "        # 引数のイメージ\n",
    "        # y=1\n",
    "        # prediction=2\n",
    "\n",
    "\n",
    "        # loss = self.mse / 2\n",
    "        # self.losses = np.append(self.losses, loss)\n",
    "        mse = self._mse(y, prediction)\n",
    "        loss = mse / 2\n",
    "\n",
    "        return loss"
   ],
   "metadata": {
    "collapsed": false,
    "pycharm": {
     "name": "#%%\n"
    }
   }
  },
  {
   "cell_type": "code",
   "execution_count": 5,
   "outputs": [
    {
     "data": {
      "text/plain": "<matplotlib.legend.Legend at 0x7fe1bf81f550>"
     },
     "execution_count": 5,
     "metadata": {},
     "output_type": "execute_result"
    },
    {
     "data": {
      "text/plain": "<Figure size 432x288 with 1 Axes>",
      "image/png": "[encoded data removed]"
     },
     "metadata": {
      "needs_background": "light"
     },
     "output_type": "display_data"
    }
   ],
   "source": [
    "from sklearn.model_selection import train_test_split\n",
    "from sklearn.preprocessing import StandardScaler\n",
    "\n",
    "# pd.read_csv()を使用して、変数に格納\n",
    "train = pd.read_csv('train.csv')\n",
    "\n",
    "# Xに説明変数GrLivArea(リビングの広さ)とYearBuiltを抽出\n",
    "X_df = train[[\"GrLivArea\", \"YearBuilt\"]]\n",
    "\n",
    "# Yに目的変数SalePriceを抽出\n",
    "Y_df = train[[\"SalePrice\"]]\n",
    "\n",
    "# X_df, Y_dfをconcatメソッドで　axis=1に結合\n",
    "df = pd.concat([X_df, Y_df], axis=1)\n",
    "\n",
    "# DataFrameをndarrayへ変換\n",
    "X_ndarray = X_df.values\n",
    "Y_ndarray = Y_df.values\n",
    "\n",
    "# 前処理の一貫として、訓練データと検証データの分割。今回は訓練データ75%、検証データ25%として分割。\n",
    "X_train, X_test, Y_train, Y_test = train_test_split(X_ndarray, Y_ndarray, test_size=0.25)\n",
    "\n",
    "\n",
    "scl = StandardScaler()\n",
    "\n",
    "# 標準化（訓練用データで.fitを行う）\n",
    "# fit:パラメータ（平均や標準偏差 etc）計算\n",
    "# fit_transform:パラメータ計算とデータ変換をまとめて実行\n",
    "scl.fit(X_train)\n",
    "\n",
    "# 標準化（訓練用、検証用双方で.transformを行う）\n",
    "# transform:データ変換\n",
    "X_train_transformed = scl.transform(X_train)\n",
    "X_test_transformed = scl.transform(X_test)\n",
    "\n",
    "#-------------------------------　スクラッチ　------------------------------------------------\n",
    "num_iter=2000\n",
    "lr=0.003\n",
    "slr = ScratchLinearRegression(num_iter, lr, no_bias=True, verbose=False)\n",
    "\n",
    "slr.fit(X_train_transformed, Y_train, X_test_transformed, Y_test)\n",
    "Y_test_pred_0 = slr.predict(X_test_transformed)\n",
    "\n",
    "# print(len(slr.losses))\n",
    "# print(len(slr.losses_val))\n",
    "\n",
    "\n",
    "#-------------------------------　sklearn.linear_model　　------------------------------------------------\n",
    "# from sklearn.linear_model import LinearRegression\n",
    "#\n",
    "# # モデルに引数を渡してインスタン化する\n",
    "# lgr = LinearRegression()\n",
    "# #\n",
    "# # # 学習する（訓練用データを.fitする）\n",
    "# lgr.fit(X_train_transformed, Y_train, X_test_transformed, Y_test)\n",
    "# #\n",
    "# # # # 推定する（検証用データを.predictする）\n",
    "# # Y_train_pred = lgr.predict(X_train_transformed)\n",
    "# Y_test_pred_1 = lgr.predict(X_test_transformed)\n",
    "\n",
    "\n",
    "#-------------------------------　描画　------------------------------------------------\n",
    "plt.plot(np.arange(1,len(slr.losses)+1),slr.losses,label='train_loss',linewidth=2)\n",
    "plt.plot(np.arange(1,len(slr.losses_val)+1),slr.losses_val,label='val_loss',linewidth=2)\n",
    "plt.legend()"
   ],
   "metadata": {
    "collapsed": false,
    "pycharm": {
     "name": "#%%\n"
    }
   }
  },
  {
   "cell_type": "code",
   "execution_count": null,
   "outputs": [],
   "source": [],
   "metadata": {
    "collapsed": false,
    "pycharm": {
     "name": "#%%\n"
    }
   }
  }
 ],
 "metadata": {
  "kernelspec": {
   "display_name": "Python 3",
   "language": "python",
   "name": "python3"
  },
  "language_info": {
   "codemirror_mode": {
    "name": "ipython",
    "version": 3
   },
   "file_extension": ".py",
   "mimetype": "text/x-python",
   "name": "python",
   "nbconvert_exporter": "python",
   "pygments_lexer": "ipython3",
   "version": "3.7.2"
  }
 },
 "nbformat": 4,
 "nbformat_minor": 5
}