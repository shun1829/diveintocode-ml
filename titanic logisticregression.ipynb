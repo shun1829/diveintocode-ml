{
 "cells": [
  {
   "cell_type": "code",
   "execution_count": 1,
   "id": "f7dc66cf-bea6-4c80-a69b-f08705c0cce0",
   "metadata": {},
   "outputs": [],
   "source": [
    "import pandas as pd\n",
    "import numpy as np\n",
    "import pandas as pd\n",
    "import numpy as np\n",
    "from sklearn.linear_model import *\n",
    "import matplotlib.pyplot as plt\n",
    "from sklearn.model_selection import train_test_split\n",
    "from sklearn.metrics import classification_report\n",
    "from sklearn.metrics import confusion_matrix\n",
    "from sklearn.linear_model import LogisticRegression\n",
    "\n",
    "\n",
    "# Survived – 生存フラグ（0=死亡、1=生存）\n",
    "# Pclass – チケットクラス\n",
    "# Name – 乗客の名前\n",
    "# Sex – 性別（male=男性、female＝女性）\n",
    "# Age – 年齢\n",
    "# SibSp – タイタニックに同乗している兄弟/配偶者の数\n",
    "# parch – タイタニックに同乗している親/子供の数\n",
    "# ticket – チケット番号\n",
    "# fare – 料金\n",
    "# cabin – 客室番号\n",
    "# Embarked – 出港地（タイタニックへ乗った港）"
   ]
  },
  {
   "cell_type": "code",
   "execution_count": 13,
   "id": "4f919a3b-b379-4b2f-80e4-9cf43cdb8a84",
   "metadata": {},
   "outputs": [],
   "source": [
    "train = pd.read_csv(\"titanic_train.csv\")\n",
    "test = pd.read_csv(\"titanic_test.csv\")"
   ]
  },
  {
   "cell_type": "code",
   "execution_count": 2,
   "id": "3c66a290-36b3-49a1-b13c-6fb43fd3f4f8",
   "metadata": {},
   "outputs": [
    {
     "data": {
      "text/plain": [
       "(268, 10)"
      ]
     },
     "execution_count": 2,
     "metadata": {},
     "output_type": "execute_result"
    }
   ],
   "source": [
    "train_x = train.drop([\"Survived\", \"Name\", \"Cabin\", \"Ticket\", \"PassengerId\"], axis=1)\n",
    "test_x = test.drop([\"Name\", \"Cabin\", \"Ticket\", \"PassengerId\"], axis=1)\n",
    "train_y = train[\"Survived\"]\n",
    "\n",
    "\n",
    "# 欠損値を年齢の中央値。出港地は最多のSで補完\n",
    "train_x[\"Age\"] = train_x[\"Age\"].fillna(train_x[\"Age\"].median())\n",
    "train_x[\"Embarked\"] = train_x[\"Embarked\"].fillna(\"S\")\n",
    "\n",
    "test_x[\"Age\"] = test_x[\"Age\"].fillna(test_x[\"Age\"].median())\n",
    "test_x[\"Fare\"] = test_x[\"Fare\"].fillna(test_x[\"Fare\"].median())\n",
    "test_x[\"Embarked\"] = test_x[\"Embarked\"].fillna(\"S\")\n",
    "\n",
    "\n",
    "\n",
    "train_x_dummy = pd.get_dummies(train_x,columns=[\"Sex\",\"Embarked\"])\n",
    "test_x_dummy = pd.get_dummies(test_x,columns=[\"Sex\",\"Embarked\"])\n",
    "\n",
    "X_train, X_test, y_train, y_test = train_test_split(train_x_dummy, train_y, test_size=0.3, random_state=101)\n",
    "X_test.shape"
   ]
  },
  {
   "cell_type": "code",
   "execution_count": 3,
   "id": "63bcbc4f-fc7d-48fd-b7c6-e1f62347c467",
   "metadata": {},
   "outputs": [
    {
     "name": "stderr",
     "output_type": "stream",
     "text": [
      "/Users/shunnadamoto/.pyenv/versions/anaconda3-5.3.1/lib/python3.7/site-packages/sklearn/linear_model/_logistic.py:764: ConvergenceWarning: lbfgs failed to converge (status=1):\n",
      "STOP: TOTAL NO. of ITERATIONS REACHED LIMIT.\n",
      "\n",
      "Increase the number of iterations (max_iter) or scale the data as shown in:\n",
      "    https://scikit-learn.org/stable/modules/preprocessing.html\n",
      "Please also refer to the documentation for alternative solver options:\n",
      "    https://scikit-learn.org/stable/modules/linear_model.html#logistic-regression\n",
      "  extra_warning_msg=_LOGISTIC_SOLVER_CONVERGENCE_MSG)\n"
     ]
    },
    {
     "data": {
      "text/plain": [
       "LogisticRegression()"
      ]
     },
     "execution_count": 3,
     "metadata": {},
     "output_type": "execute_result"
    }
   ],
   "source": [
    "classifier = LogisticRegression()\n",
    "classifier.fit(X_train, y_train) "
   ]
  },
  {
   "cell_type": "code",
   "execution_count": 4,
   "id": "9596c700-a47f-4679-8597-8c856f22a8cf",
   "metadata": {},
   "outputs": [],
   "source": [
    "predictions = classifier.predict(X_test) "
   ]
  },
  {
   "cell_type": "code",
   "execution_count": 5,
   "id": "34e5d794-0dad-4d9b-974f-136e53af7b1d",
   "metadata": {},
   "outputs": [
    {
     "data": {
      "text/plain": [
       "array([0, 1, 0, 0, 0, 0, 0, 0, 1, 1, 0, 0, 1, 0, 0, 0, 1, 0, 0, 1, 0, 0,\n",
       "       1, 1, 0, 0, 0, 0, 0, 0, 1, 1, 1, 0, 0, 1, 0, 0, 0, 0, 1, 1, 1, 0,\n",
       "       0, 0, 0, 0, 0, 0, 1, 0, 1, 1, 1, 0, 0, 0, 0, 1, 1, 0, 0, 1, 0, 0,\n",
       "       1, 1, 1, 0, 1, 0, 0, 0, 1, 1, 0, 0, 0, 0, 0, 1, 0, 0, 1, 0, 0, 0,\n",
       "       0, 1, 0, 1, 1, 1, 1, 1, 1, 0, 0, 0, 0, 1, 0, 0, 1, 1, 1, 1, 1, 0,\n",
       "       0, 0, 0, 0, 1, 0, 1, 0, 0, 1, 0, 0, 1, 0, 0, 0, 0, 0, 1, 0, 1, 1,\n",
       "       1, 0, 0, 0, 0, 0, 0, 1, 0, 1, 0, 0, 1, 0, 1, 0, 0, 0, 1, 1, 0, 0,\n",
       "       0, 0, 1, 0, 1, 1, 0, 0, 0, 0, 1, 1, 0, 1, 0, 0, 1, 0, 1, 1, 0, 0,\n",
       "       1, 0, 0, 0, 0, 0, 1, 1, 1, 0, 0, 0, 0, 0, 0, 0, 0, 1, 0, 0, 0, 1,\n",
       "       0, 0, 1, 0, 0, 1, 0, 0, 0, 0, 1, 0, 0, 0, 0, 0, 0, 0, 0, 1, 0, 1,\n",
       "       1, 0, 0, 0, 0, 0, 0, 0, 0, 0, 0, 1, 0, 1, 1, 0, 0, 1, 1, 0, 1, 1,\n",
       "       0, 0, 1, 1, 0, 0, 1, 1, 0, 1, 0, 0, 0, 0, 0, 0, 1, 0, 0, 1, 0, 0,\n",
       "       1, 0, 0, 1])"
      ]
     },
     "execution_count": 5,
     "metadata": {},
     "output_type": "execute_result"
    }
   ],
   "source": [
    "predictions"
   ]
  },
  {
   "cell_type": "code",
   "execution_count": 6,
   "id": "22c49cb2-cc46-46aa-8ebc-ba1818cd8079",
   "metadata": {},
   "outputs": [
    {
     "data": {
      "text/plain": [
       "0.7835820895522388"
      ]
     },
     "execution_count": 6,
     "metadata": {},
     "output_type": "execute_result"
    }
   ],
   "source": [
    "from sklearn.metrics import (roc_curve, auc, accuracy_score) \n",
    "\n",
    "fpr, tpr, thresholds = roc_curve(y_test, predictions, pos_label=1)\n",
    "auc(fpr, tpr)\n",
    "accuracy_score(predictions, y_test)"
   ]
  },
  {
   "cell_type": "code",
   "execution_count": 7,
   "id": "09afd7ac-4c16-4228-9063-4b36161edfef",
   "metadata": {},
   "outputs": [
    {
     "name": "stdout",
     "output_type": "stream",
     "text": [
      "(268,)\n"
     ]
    }
   ],
   "source": [
    "y_proba = classifier.predict_proba(X_test)[: , 1]\n",
    "print(y_proba.shape)"
   ]
  },
  {
   "cell_type": "code",
   "execution_count": 8,
   "id": "4c4c88d2-0ea1-4b1e-a0ce-f7c02695894d",
   "metadata": {},
   "outputs": [
    {
     "name": "stdout",
     "output_type": "stream",
     "text": [
      "confusion matrix = \n",
      " [[135  19]\n",
      " [ 39  75]]\n",
      "accuracy =  0.7835820895522388\n",
      "precision =  0.7978723404255319\n",
      "recall =  0.6578947368421053\n",
      "f1 score =  0.7211538461538463\n"
     ]
    }
   ],
   "source": [
    "from sklearn.metrics import confusion_matrix, accuracy_score, precision_score, recall_score, f1_score\n",
    "\n",
    "# 1行1列目の要素は、実際にクラス0で正しくクラス0に分類されたデータ数（真陰性（TN: True Negative））\n",
    "# 1行2列目の要素は、実際にはクラス0だが誤ってクラス1に分類されたデータ数（偽陽性（FP: False Positive））\n",
    "# 2行1列目の要素は、実際にはクラス1だが誤ってクラス0に分類されたデータ数（偽陰性（FN: False Negative））\n",
    "# 2行2列目の要素は、実際にクラス1で正しくクラス1に分類されたデータ数（真陽性（TP: True Positive））\n",
    "\n",
    "# 混同行列（confusion matrix）\n",
    "# 正解率（accuracy）\n",
    "# 適合率（precision）\n",
    "# 再現率（recall）\n",
    "# F1スコア（F1-score）\n",
    "# AUC（曲線下面積）\n",
    "\n",
    "\n",
    "print('confusion matrix = \\n', confusion_matrix(y_test, predictions))\n",
    "print('accuracy = ', accuracy_score(y_test, predictions))\n",
    "print('precision = ', precision_score(y_test, predictions))\n",
    "print('recall = ', recall_score(y_test, predictions))\n",
    "print('f1 score = ', f1_score(y_test, predictions))"
   ]
  },
  {
   "cell_type": "code",
   "execution_count": 9,
   "id": "258c39ac-1792-48e9-b4b5-b66f8407e1cf",
   "metadata": {},
   "outputs": [
    {
     "name": "stdout",
     "output_type": "stream",
     "text": [
      "auc =  0.767259056732741\n"
     ]
    }
   ],
   "source": [
    "from sklearn.metrics import roc_auc_score\n",
    "print('auc = ', roc_auc_score(y_test, predictions))"
   ]
  },
  {
   "cell_type": "code",
   "execution_count": 10,
   "id": "5c3dccff-ed58-4a51-bb24-2c88d3bdac11",
   "metadata": {},
   "outputs": [
    {
     "name": "stdout",
     "output_type": "stream",
     "text": [
      "AUC curve : 0.852415\n"
     ]
    }
   ],
   "source": [
    "# AUCスコアを出す\n",
    "fpr, tpr, thresholds = roc_curve(y_test, y_proba)\n",
    "roc_auc = auc(fpr, tpr)\n",
    "print (\"AUC curve : %f\" % roc_auc)"
   ]
  },
  {
   "cell_type": "code",
   "execution_count": 11,
   "id": "333a3f9f-982b-4b78-be06-87c2d6fcc000",
   "metadata": {},
   "outputs": [
    {
     "name": "stdout",
     "output_type": "stream",
     "text": [
      "accuracy: 0.7835820895522388\n",
      "f1_score: 0.7211538461538463\n"
     ]
    },
    {
     "data": {
      "image/png": "[encoded data removed]",
      "text/plain": [
       "<Figure size 432x288 with 1 Axes>"
      ]
     },
     "metadata": {
      "needs_background": "light"
     },
     "output_type": "display_data"
    }
   ],
   "source": [
    "auc_score = roc_auc_score(y_test, y_proba)\n",
    "plt.plot(fpr, tpr, label='AUC = %.3f' % (auc_score))\n",
    "plt.legend()\n",
    "plt.title('ROC curve')\n",
    "plt.xlabel('False Positive Rate')\n",
    "plt.ylabel('True Positive Rate')\n",
    "plt.grid(True)\n",
    "\n",
    "print('accuracy:',accuracy_score(y_test, predictions))\n",
    "print('f1_score:',f1_score(y_test, predictions))\n",
    "\n",
    "\n",
    "# 再現率（recall）\n",
    "# 偽陽性率 (False Positive Rate) "
   ]
  },
  {
   "cell_type": "code",
   "execution_count": null,
   "id": "66701104-9072-420a-bcb2-a8542c450be4",
   "metadata": {},
   "outputs": [],
   "source": []
  }
 ],
 "metadata": {
  "kernelspec": {
   "display_name": "Python 3",
   "language": "python",
   "name": "python3"
  },
  "language_info": {
   "codemirror_mode": {
    "name": "ipython",
    "version": 3
   },
   "file_extension": ".py",
   "mimetype": "text/x-python",
   "name": "python",
   "nbconvert_exporter": "python",
   "pygments_lexer": "ipython3",
   "version": "3.7.2"
  }
 },
 "nbformat": 4,
 "nbformat_minor": 5
}
