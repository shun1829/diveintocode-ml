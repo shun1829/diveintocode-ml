{
 "cells": [
  {
   "cell_type": "markdown",
   "id": "15f655cc-1879-45f2-b1a4-a0ba9d1131aa",
   "metadata": {},
   "source": [
    "【問題1】ラグランジュの未定乗数法による最急降下"
   ]
  },
  {
   "cell_type": "code",
   "execution_count": 3,
   "id": "b74e2a9e-a19a-4625-a527-60d920f3e316",
   "metadata": {},
   "outputs": [],
   "source": [
    "# 最大化する関数(勾配降下の逆)\n",
    "def _gradient_descent(X, y, lag, lr=0.1):\n",
    "    \"\"\"\n",
    "    傾きを計算する。\n",
    "    Parameters\n",
    "    ----------\n",
    "    X : 次の形のndarray, shape (n_samples, n_features)\n",
    "    訓練データ\n",
    "    y : 次の形のndarray, shape (n_samples, 1)\n",
    "    目的データ\n",
    "    lag : 次の形のndarray, shape(n_samples, 1)\n",
    "    ラグランジュ乗数\n",
    "    lr : float\n",
    "    学習率\n",
    "    Returns\n",
    "    -------\n",
    "    次の形のndarray, shape (n_samples, 1)\n",
    "    更新後のtheta\n",
    "    \"\"\"\n",
    "    \n",
    "    sigma = (lag * y * X).sum(axis=0)\n",
    "    lag = lag + lr * (1 - ((y * X) @ sigma).reshape((X.shape[0], 1)))\n",
    "    \n",
    "    for i in range(lag.shape[0]):\n",
    "        if lag[i] < 0:\n",
    "            lag[i] = 0\n",
    "        \n",
    "                 \n",
    "    # sigma = 1 * n_features\n",
    "    # y * X = n_sample * n_futures\n",
    "    \n",
    "    return lag"
   ]
  },
  {
   "cell_type": "markdown",
   "id": "25edc3fd-23bb-40b5-a054-55e447d81e7e",
   "metadata": {},
   "source": [
    "【問題2】サポートベクターの決定"
   ]
  },
  {
   "cell_type": "code",
   "execution_count": 5,
   "id": "059fa6a4-187f-4afa-b38a-83661185780a",
   "metadata": {},
   "outputs": [],
   "source": [
    "def get_SV(lag, C=1e-5):\n",
    "    \"\"\"\n",
    "    サポートベクターの数及びサポートベクターを取得する\n",
    "    parameters\n",
    "    ----------------------\n",
    "    lag : 次の形のndarray, shape(n_samples, 1)\n",
    "    ラグランジュ乗数\n",
    "    C : float\n",
    "    サポートベクターの閾値\n",
    "    \n",
    "    returns\n",
    "    ----------------------\n",
    "    count_sv : int\n",
    "    サポートベクターの数\n",
    "    SV_list : list\n",
    "    サポートベクターのリスト\n",
    "    \"\"\"\n",
    "    \n",
    "    \n",
    "    SV_list = []\n",
    "    count_sv = (lag > C).sum()\n",
    "    for i in range(lag.shape[0]):\n",
    "        if lag[i] > C:\n",
    "            SV_list.append(X[i])\n",
    "            \n",
    "    return count_sv, SV_list"
   ]
  },
  {
   "cell_type": "markdown",
   "id": "38847d44-ffb4-4291-856d-02f317b0ae3c",
   "metadata": {},
   "source": [
    "【問題3】推定<br>\n",
    "推定時には、推定したいデータの特徴量とサポートベクターの特徴量をカーネル関数によって計算します。求めた f ( x ) の符号が分類結果です。"
   ]
  },
  {
   "cell_type": "markdown",
   "id": "e970b865-10bb-4f27-b489-39f9d6bb451e",
   "metadata": {},
   "source": [
    "【問題4】学習と推定"
   ]
  },
  {
   "cell_type": "code",
   "execution_count": 7,
   "id": "901bc874-3b68-4c0e-abd9-3051a7b7bf45",
   "metadata": {},
   "outputs": [],
   "source": [
    "\n",
    "import numpy as np\n",
    "\n",
    "class ScratchSVMClassifier():\n",
    "    \"\"\"\n",
    "    SVM分類器のスクラッチ実装\n",
    "    Parameters\n",
    "    ----------\n",
    "    num_iter : int\n",
    "      イテレーション数\n",
    "    lr : float\n",
    "      学習率\n",
    "    kernel : str\n",
    "      カーネルの種類。線形カーネル（linear）か多項式カーネル（polly）\n",
    "    threshold : float\n",
    "      サポートベクターを選ぶための閾値\n",
    "    verbose : bool\n",
    "      学習過程を出力する場合はTrue\n",
    "    Attributes\n",
    "    ----------\n",
    "    self.n_support_vectors : int\n",
    "      サポートベクターの数\n",
    "    self.index_support_vectors : 次の形のndarray, shape (n_support_vectors,)\n",
    "      サポートベクターのインデックス\n",
    "    self.SV_X_ndarray : 次の形のndarray, shape(n_samples, n_feature)\n",
    "     サポートベクターの特徴量\n",
    "    self.SV_y_ndarray : 次の形のndarray, shape(n_samples, 1)\n",
    "     サポートベクターのラベル\n",
    "    self.SV_　lag_ndarray : 次の形のndarray, shape(n_samples, 1)\n",
    "     サポートベクターのラグランジュ乗数\n",
    "    \"\"\"\n",
    "    \n",
    "    \n",
    "    def __init__(self, num_iter, lr, kernel='linear', threshold=1e-5, verbose=False):\n",
    "        # ハイパーパラメータを属性として記録\n",
    "        self.iter = num_iter\n",
    "        self.lr = lr\n",
    "        self.kernel = kernel\n",
    "        self.threshold = threshold\n",
    "        self.verbose = verbose\n",
    "        \n",
    "        \n",
    "        # 最大化する関数(勾配降下の逆)\n",
    "    def _gradient_descent(self, X, y, lag):\n",
    "        \"\"\"\n",
    "        ラグランジュ関数の最大化を行う\n",
    "        Parameters\n",
    "        ----------\n",
    "        X : 次の形のndarray, shape (n_samples, n_features)\n",
    "        訓練データ\n",
    "        y : 次の形のndarray, shape (n_samples, 1)\n",
    "        目的データ\n",
    "        lag : 次の形のndarray, shape(n_samples, 1)\n",
    "        ラグランジュ乗数\n",
    "        lr : float\n",
    "        学習率\n",
    "        Returns\n",
    "        -------\n",
    "        次の形のndarray, shape (n_samples, 1)\n",
    "        更新後のラグランジュ関数\n",
    "        \"\"\"\n",
    "        \n",
    "        sigma = (lag * y * X).sum(axis=0)\n",
    "        lag = lag + self.lr * (1 - ((y * X) @ sigma).reshape((X.shape[0], 1)))\n",
    "        \n",
    "        for i in range(lag.shape[0]):\n",
    "            if lag[i] < 0:\n",
    "                lag[i] = 0\n",
    "        # sigma = 1 * n_features\n",
    "        # y * X = n_sample * n_futures\n",
    "\n",
    "        return lag\n",
    "\n",
    "    \n",
    "    def get_SV(self, X, y, lag):\n",
    "        \"\"\"\n",
    "        サポートベクターの数及びサポートベクターを取得する\n",
    "        parameters\n",
    "        ----------------------\n",
    "        lag : 次の形のndarray, shape(n_samples, 1)\n",
    "        ラグランジュ乗数\n",
    "        C : float\n",
    "        サポートベクターの閾値\n",
    "\n",
    "        returns\n",
    "        ----------------------\n",
    "        SV_X_ndarray : 次の形のndarray, shape(n_samples, n_feature)\n",
    "        サポートベクターの特徴量\n",
    "        SV_y_ndarray : 次の形のndarray, shape(n_samples, 1)\n",
    "        サポートベクターのラベル\n",
    "        SV_　lag_ndarray : 次の形のndarray, shape(n_samples, 1)\n",
    "        サポートベクターのラグランジュ乗数\n",
    "        \"\"\"\n",
    "        index_list = []\n",
    "        count = 0\n",
    "        # 閾値より高いラグランジュ乗数の個数\n",
    "        count_sv = (lag > self.threshold).sum()\n",
    "        \n",
    "        SV_X_ndarray = np.zeros((count_sv, X.shape[1]))\n",
    "        SV_y_ndarray = np.zeros((count_sv, 1))\n",
    "        SV_lag_ndarray = np.zeros((count_sv, 1))\n",
    "        \n",
    "        for i in range(lag.shape[0]):\n",
    "            \n",
    "            if lag[i] > self.threshold:\n",
    "                \n",
    "                # index番号を保存\n",
    "                index_list.append(i)\n",
    "                \n",
    "                # 閾値より高いサポートベクターのパラメータを保存\n",
    "                SV_X_ndarray[count] = X[i]\n",
    "                SV_y_ndarray[count] = y[i]\n",
    "                SV_lag_ndarray[count] = lag[i]\n",
    "                count += 1\n",
    "\n",
    "        # 使わないのでインスタンス化\n",
    "        self.n_support_vectors = count_sv\n",
    "        self.index_support_vectors  = index_list\n",
    "        \n",
    "        return SV_X_ndarray, SV_y_ndarray, SV_lag_ndarray\n",
    "        \n",
    "  \n",
    "    def fit(self, X, y):\n",
    "        \"\"\"\n",
    "        SVM分類器を学習する。検証データが入力された場合はそれに対する精度もイテレーションごとに計算する。\n",
    "        Parameters\n",
    "        ----------\n",
    "        X : 次の形のndarray, shape (n_samples, n_features)\n",
    "            訓練データの特徴量\n",
    "        y : 次の形のndarray, shape (n_samples, )\n",
    "            訓練データの正解値\n",
    "        \"\"\"\n",
    "        \n",
    "        # 初期値の設定\n",
    "        lag = np.zeros((X.shape[0], 1))\n",
    "        lag_history = np.zeros((self.iter, X.shape[0]))\n",
    "        \n",
    "        # yの設定\n",
    "        y = y.reshape((y.shape[0], 1))\n",
    "        \n",
    "        # 学習\n",
    "        for n in range(self.iter):\n",
    "            lag = self._gradient_descent(X, y, lag)\n",
    "            lag_history[n] = lag.T\n",
    "            \n",
    "        # SVの決定\n",
    "        self.SV_X_ndarray, self.SV_y_ndarray, self.SV_lag_ndarray = self.get_SV(X, y, lag)\n",
    "        \n",
    "        if self.verbose:\n",
    "            #verboseをTrueにした際は学習過程を出力\n",
    "            print(lag_history)\n",
    "        \n",
    "        \n",
    "    def predict(self, test_X):\n",
    "        \"\"\"\n",
    "        SVM分類器を使いラベルを推定する。\n",
    "        Parameters\n",
    "        ----------\n",
    "        X : 次の形のndarray, shape (n_samples, n_features)\n",
    "            サンプル\n",
    "        Returns\n",
    "        -------\n",
    "            次の形のndarray, shape (n_samples, 1)\n",
    "            SVM分類器による推定結果\n",
    "        \"\"\"\n",
    "    \n",
    "        f = np.zeros((test_X.shape[0], 1))\n",
    "\n",
    "        # テストデータ分推定の実行\n",
    "        for n in range(test_X.shape[0]):\n",
    "            f[n] = (self.SV_y_ndarray * self.SV_lag_ndarray * (self.SV_X_ndarray @ test_X[n:n+1].T)).sum()\n",
    "\n",
    "            if f[n] > 0:\n",
    "                f[n] = 1\n",
    "            else:\n",
    "                f[n] = -1\n",
    "\n",
    "        return f"
   ]
  },
  {
   "cell_type": "markdown",
   "id": "174f9129-d1aa-4fa5-8371-d9f3fad8d2fc",
   "metadata": {},
   "source": [
    "データの読み込み"
   ]
  },
  {
   "cell_type": "code",
   "execution_count": 8,
   "id": "163684c2-a58e-4ef3-bad0-12a9430b2d3e",
   "metadata": {},
   "outputs": [],
   "source": [
    "np.random.seed(seed=0)\n",
    "n_samples = 500\n",
    "f0 = [-1, 2]\n",
    "f1 = [2, -1]\n",
    "cov = [[1.0,0.8], [0.8, 1.0]]\n",
    "f0 = np.random.multivariate_normal(f0, cov, n_samples // 2)\n",
    "f1 = np.random.multivariate_normal(f1, cov, n_samples // 2)\n",
    "X = np.concatenate([f0, f1])\n",
    "y = np.concatenate([\n",
    "    np.full(n_samples // 2, 1),\n",
    "    np.full(n_samples // 2, -1)\n",
    "])"
   ]
  },
  {
   "cell_type": "code",
   "execution_count": 9,
   "id": "48836404-dce2-4696-a5bc-ccd55c663b9e",
   "metadata": {},
   "outputs": [],
   "source": [
    "from sklearn.preprocessing import StandardScaler\n",
    "sclear = StandardScaler()\n",
    "X = sclear.fit_transform(X)"
   ]
  },
  {
   "cell_type": "code",
   "execution_count": 10,
   "id": "2ffd5a43-43a9-4b36-8257-317db0679180",
   "metadata": {},
   "outputs": [
    {
     "data": {
      "image/png": "[encoded data removed]",
      "text/plain": [
       "<Figure size 432x288 with 1 Axes>"
      ]
     },
     "metadata": {
      "needs_background": "light"
     },
     "output_type": "display_data"
    }
   ],
   "source": [
    "import matplotlib.pyplot as plt\n",
    "plt.hist(X);"
   ]
  },
  {
   "cell_type": "code",
   "execution_count": 11,
   "id": "50f2d99d-7e75-4b2f-933b-9eec532bc8c6",
   "metadata": {},
   "outputs": [],
   "source": [
    "from sklearn.model_selection import train_test_split\n",
    "X_75, X_25 = train_test_split(X, random_state=0)\n",
    "y_75, y_25 = train_test_split(y, random_state=0)"
   ]
  },
  {
   "cell_type": "markdown",
   "id": "8c0063cb-2ca0-4779-8c58-97ba6486ed29",
   "metadata": {},
   "source": [
    "公式モデルでの実行"
   ]
  },
  {
   "cell_type": "code",
   "execution_count": 12,
   "id": "9c8211e7-bfcd-46c0-aea7-dda0cba50152",
   "metadata": {},
   "outputs": [
    {
     "name": "stdout",
     "output_type": "stream",
     "text": [
      "              precision    recall  f1-score   support\n",
      "\n",
      "          -1       1.00      1.00      1.00        63\n",
      "           1       1.00      1.00      1.00        62\n",
      "\n",
      "    accuracy                           1.00       125\n",
      "   macro avg       1.00      1.00      1.00       125\n",
      "weighted avg       1.00      1.00      1.00       125\n",
      "\n"
     ]
    }
   ],
   "source": [
    "from sklearn.svm import SVC\n",
    "svc = SVC(kernel='linear', random_state=0)\n",
    "svc.fit(X_75, y_75)\n",
    "svc_pred = svc.predict(X_25)\n",
    "\n",
    "from sklearn.metrics import classification_report\n",
    "print(classification_report(y_25, svc_pred))"
   ]
  },
  {
   "cell_type": "code",
   "execution_count": 13,
   "id": "bfc50ca7-6bab-44a1-9f08-566a1b9fecf9",
   "metadata": {},
   "outputs": [],
   "source": [
    "import matplotlib.pyplot as plt\n",
    "from matplotlib.colors import ListedColormap\n",
    "import matplotlib.patches as mpatches\n",
    "\n",
    "\n",
    "def decision_region(X, y, model, step=0.01, title='decision region', xlabel='x1', ylabel='x2', target_names=['0', '1']):\n",
    "    \"\"\"\n",
    "    2値分類を2次元の特徴量で学習したモデルの決定領域を描く。\n",
    "    背景の色が学習したモデルによる推定値から描画される。\n",
    "    散布図の点は訓練データまたは検証データである。\n",
    "    Parameters\n",
    "    ----------------\n",
    "    X : ndarray, shape(n_samples, 2)\n",
    "        特徴量\n",
    "    y : ndarray, shape(n_samples,)\n",
    "        ラベル\n",
    "    model : object\n",
    "        学習したモデルのインスンタスを入れる\n",
    "    step : float, (default : 0.1)\n",
    "        推定値を計算する間隔を設定する\n",
    "    title : str\n",
    "        グラフのタイトルの文章を与える\n",
    "    xlabel, ylabel : str\n",
    "        軸ラベルの文章を与える\n",
    "    target_names= : list of str\n",
    "        凡例の一覧を与える\n",
    "    \"\"\"\n",
    "    # setting\n",
    "    scatter_color = ['red', 'blue']\n",
    "    contourf_color = ['pink', 'skyblue']\n",
    "    n_class = 2\n",
    "    # pred\n",
    "    a = np.min(X[:,0])-0.5 # Sepallabelの最小値-0.5\n",
    "    b = np.max(X[:,0])+0.5 # Sepallabelの最大値+0.5\n",
    "    c = np.min(X[:,1])-0.5 # Petallabelの最小値-0.5\n",
    "    d = np.max(X[:,1])+0.5 # Petallabelの最小値+0.5\n",
    "    mesh_f0, mesh_f1  = np.meshgrid(np.arange(a, b, step), np.arange(c, d, step))\n",
    "    \n",
    "    e = np.ravel(mesh_f0) #列が全部指定したもの\n",
    "    f = np.ravel(mesh_f1) #行が全部指定したもの\n",
    "    \n",
    "    mesh = np.c_[e,f] # グラフ領域(2次元)に左上から00.01-といった形で数字をつけた\n",
    "    y_pred = model.predict(mesh).reshape(mesh_f0.shape)\n",
    "    # plot\n",
    "    plt.title(title)\n",
    "    plt.xlabel(xlabel)\n",
    "    plt.ylabel(ylabel)\n",
    "    plt.contourf(mesh_f0, mesh_f1, y_pred, n_class-1, cmap=ListedColormap(contourf_color)) # 等高線の間の色付\n",
    "    plt.contour(mesh_f0, mesh_f1, y_pred, n_class-1, colors='y', linewidths=3, alpha=0.5)# 等高線の描画\n",
    "    for i, target in enumerate(np.unique(y)):\n",
    "        plt.scatter(X[y==target][:, 0], X[y==target][:, 1], s=80, color=scatter_color[i], label=target_names[i], marker='o') # 散布図の作成\n",
    "    patches = [mpatches.Patch(color=scatter_color[i], label=target_names[i]) for i in range(n_class)] # よくわからんけど凡例の書き方を入れてる\n",
    "    plt.legend(handles=patches)\n",
    "    plt.legend()\n",
    "    plt.show()"
   ]
  },
  {
   "cell_type": "code",
   "execution_count": 14,
   "id": "3cab057b-38bf-4a14-9946-3130d33c2ecb",
   "metadata": {},
   "outputs": [
    {
     "data": {
      "image/png": "[encoded data removed]",
      "text/plain": [
       "<Figure size 432x288 with 1 Axes>"
      ]
     },
     "metadata": {
      "needs_background": "light"
     },
     "output_type": "display_data"
    }
   ],
   "source": [
    "decision_region(X_75, y_75, svc)"
   ]
  },
  {
   "cell_type": "markdown",
   "id": "c18e2f55-9c5b-4599-a504-716760770736",
   "metadata": {},
   "source": [
    "自作モデルでの実行"
   ]
  },
  {
   "cell_type": "code",
   "execution_count": 20,
   "id": "2b57b47d-975e-4402-8cf3-dc865952f502",
   "metadata": {},
   "outputs": [],
   "source": [
    "my_svc = ScratchSVMClassifier(num_iter=100, lr=0.008)\n",
    "my_svc.fit(X_75, y_75)"
   ]
  },
  {
   "cell_type": "code",
   "execution_count": 21,
   "id": "7f978cf6-3d36-478c-b5d1-ca930a5b8120",
   "metadata": {},
   "outputs": [
    {
     "data": {
      "text/plain": [
       "8"
      ]
     },
     "execution_count": 21,
     "metadata": {},
     "output_type": "execute_result"
    }
   ],
   "source": [
    "my_svc.n_support_vectors"
   ]
  },
  {
   "cell_type": "code",
   "execution_count": 22,
   "id": "47ebd312-9313-4843-a60f-b412fdaa5b22",
   "metadata": {},
   "outputs": [
    {
     "name": "stdout",
     "output_type": "stream",
     "text": [
      "              precision    recall  f1-score   support\n",
      "\n",
      "          -1       1.00      1.00      1.00        63\n",
      "           1       1.00      1.00      1.00        62\n",
      "\n",
      "    accuracy                           1.00       125\n",
      "   macro avg       1.00      1.00      1.00       125\n",
      "weighted avg       1.00      1.00      1.00       125\n",
      "\n"
     ]
    }
   ],
   "source": [
    "print(classification_report(y_25, my_svc.predict(X_25)))"
   ]
  },
  {
   "cell_type": "markdown",
   "id": "9f196546-2e3e-4eac-97db-276c05db5e6c",
   "metadata": {},
   "source": [
    "【問題5】決定領域の可視化"
   ]
  },
  {
   "cell_type": "code",
   "execution_count": 23,
   "id": "3a31308a-ac85-4d92-ad7e-c154da012568",
   "metadata": {},
   "outputs": [],
   "source": [
    "def decision_region_2(X, y, SV_index_list, model, step=0.01, title='decision region', xlabel='x1', ylabel='x2', target_names=['0', '1']):\n",
    "    \"\"\"\n",
    "    2値分類を2次元の特徴量で学習したモデルの決定領域を描く。\n",
    "    背景の色が学習したモデルによる推定値から描画される。\n",
    "    散布図の点は訓練データまたは検証データである。\n",
    "    Parameters\n",
    "    ----------------\n",
    "    X : ndarray, shape(n_samples, 2)\n",
    "        特徴量\n",
    "    y : ndarray, shape(n_samples,)\n",
    "        ラベル\n",
    "    model : object\n",
    "        学習したモデルのインスンタスを入れる\n",
    "    step : float, (default : 0.1)\n",
    "        推定値を計算する間隔を設定する\n",
    "    title : str\n",
    "        グラフのタイトルの文章を与える\n",
    "    xlabel, ylabel : str\n",
    "        軸ラベルの文章を与える\n",
    "    target_names= : list of str\n",
    "        凡例の一覧を与える\n",
    "    \"\"\"\n",
    "    # setting\n",
    "    scatter_color = ['red', 'blue']\n",
    "    contourf_color = ['pink', 'skyblue']\n",
    "    n_class = 2\n",
    "    # pred\n",
    "    a = np.min(X[:,0])-0.5 # Sepallabelの最小値-0.5\n",
    "    b = np.max(X[:,0])+0.5 # Sepallabelの最大値+0.5\n",
    "    c = np.min(X[:,1])-0.5 # Petallabelの最小値-0.5\n",
    "    d = np.max(X[:,1])+0.5 # Petallabelの最小値+0.5\n",
    "    mesh_f0, mesh_f1  = np.meshgrid(np.arange(a, b, step), np.arange(c, d, step))\n",
    "    \n",
    "    e = np.ravel(mesh_f0) #列が全部指定したもの\n",
    "    f = np.ravel(mesh_f1) #行が全部指定したもの\n",
    "    \n",
    "    mesh = np.c_[e,f] # グラフ領域(2次元)に左上から00.01-といった形で数字をつけた\n",
    "    y_pred = model.predict(mesh).reshape(mesh_f0.shape)\n",
    "    # plot\n",
    "    plt.title(title)\n",
    "    plt.xlabel(xlabel)\n",
    "    plt.ylabel(ylabel)\n",
    "    plt.contourf(mesh_f0, mesh_f1, y_pred, n_class-1, cmap=ListedColormap(contourf_color)) # 等高線の間の色付\n",
    "    plt.contour(mesh_f0, mesh_f1, y_pred, n_class-1, colors='y', linewidths=3, alpha=0.5)# 等高線の描画\n",
    "    for i, target in enumerate(np.unique(y)):\n",
    "        plt.scatter(X[y==target][:, 0], X[y==target][:, 1], s=80, color=scatter_color[i], label=target_names[i], marker='o') # 散布図の作成\n",
    "    for i in (SV_index_list):\n",
    "        plt.scatter(X[i, 0], X[i, 1], color='g', s=100)\n",
    "    patches = [mpatches.Patch(color=scatter_color[i], label=target_names[i]) for i in range(n_class)] # よくわからんけど凡例の書き方を入れてる\n",
    "    plt.legend(handles=patches)\n",
    "    plt.legend()\n",
    "    plt.show()"
   ]
  },
  {
   "cell_type": "code",
   "execution_count": 24,
   "id": "04c63638-1257-46ad-a5d3-f8ef04888ef2",
   "metadata": {},
   "outputs": [
    {
     "data": {
      "text/plain": [
       "[27, 44, 60, 181, 192, 278, 290, 363]"
      ]
     },
     "execution_count": 24,
     "metadata": {},
     "output_type": "execute_result"
    }
   ],
   "source": [
    "my_svc.index_support_vectors"
   ]
  },
  {
   "cell_type": "code",
   "execution_count": 25,
   "id": "dbb9d4fd-9272-4187-880c-cdaa0de63589",
   "metadata": {},
   "outputs": [
    {
     "data": {
      "image/png": "[encoded data removed]",
      "text/plain": [
       "<Figure size 432x288 with 1 Axes>"
      ]
     },
     "metadata": {
      "needs_background": "light"
     },
     "output_type": "display_data"
    }
   ],
   "source": [
    "decision_region_2(X_75, y_75, my_svc.index_support_vectors, my_svc)"
   ]
  }
 ],
 "metadata": {
  "kernelspec": {
   "display_name": "Python 3",
   "language": "python",
   "name": "python3"
  },
  "language_info": {
   "codemirror_mode": {
    "name": "ipython",
    "version": 3
   },
   "file_extension": ".py",
   "mimetype": "text/x-python",
   "name": "python",
   "nbconvert_exporter": "python",
   "pygments_lexer": "ipython3",
   "version": "3.7.2"
  }
 },
 "nbformat": 4,
 "nbformat_minor": 5
}
