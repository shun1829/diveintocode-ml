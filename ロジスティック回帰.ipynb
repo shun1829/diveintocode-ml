{
 "cells": [
  {
   "cell_type": "markdown",
   "metadata": {
    "jupyter": {
     "outputs_hidden": true
    },
    "pycharm": {
     "name": "#%% md\n"
    }
   },
   "source": [
    "ロジスティック回帰\n"
   ]
  },
  {
   "cell_type": "code",
   "execution_count": 176,
   "metadata": {
    "collapsed": false,
    "jupyter": {
     "outputs_hidden": false
    },
    "pycharm": {
     "name": "#%%\n"
    }
   },
   "outputs": [],
   "source": [
    "import numpy as np\n",
    "import pandas as pd\n",
    "from sklearn.datasets import load_iris\n",
    "from sklearn.model_selection import train_test_split\n",
    "from sklearn.metrics import confusion_matrix,precision_score,recall_score,f1_score\n",
    "import matplotlib.pyplot as plt\n",
    "%matplotlib inline"
   ]
  },
  {
   "cell_type": "markdown",
   "source": [
    "【問題1】仮定関数<br>\n",
    "【問題2】最急降下法<br>\n",
    "【問題3】推定<br>\n",
    "【問題4】目的関数<br>\n",
    "【問題5】学習と推定<br>\n",
    "【問題6】学習曲線のプロット<br>\n",
    "【問題7】決定領域の可視化<br>"
   ],
   "metadata": {
    "collapsed": false
   }
  },
  {
   "cell_type": "code",
   "execution_count": 177,
   "metadata": {},
   "outputs": [],
   "source": [
    "class ScratchLogisticRegression():\n",
    "\n",
    "    def __init__(self, iter_num, lr,lam):\n",
    "        \"\"\"各種変数初期化＆定義\n",
    "        Parameters\n",
    "        ----------\n",
    "        iter:学習回数\n",
    "        lr:学習率\n",
    "        theta:重み\n",
    "        lam:正則化パラメータ\n",
    "        train_loss:訓練データの損失\n",
    "        val_loss:評価データの損失\n",
    "        \"\"\"\n",
    "        self.iter_num = iter_num\n",
    "        self.lr = lr\n",
    "        self.theta = np.random.rand(X.shape[1]+1)\n",
    "        self.lam = lam\n",
    "        self.train_loss = np.zeros(self.iter_num+1)\n",
    "        self.val_loss = np.zeros(self.iter_num+1)\n",
    "\n",
    "    def fit(self, X_train, y_train, X_val=None, y_val=None):\n",
    "        \"\"\"訓練\n",
    "        Parameters\n",
    "        ----------\n",
    "        X_train:訓練データ（説明変数）\n",
    "        y_train:訓練データ（目的変数）\n",
    "        X_val:評価データ（説明変数）\n",
    "        y_val:評価データ（目的変数）\n",
    "        \"\"\"\n",
    "        # 損失の初期値保存\n",
    "        self.train_loss[0] = self.mean_crossentropy_error(X_train,y_train)\n",
    "        # print(\"self.train_loss[0]:{}\".format(self.train_loss[0])) #------検証中--------\n",
    "        # print(\"\\n\")\n",
    "        if X_val is not None:\n",
    "            self.val_loss[0] = self.mean_crossentropy_error(X_val,y_val)\n",
    "\n",
    "        # 学習回数分ループ\n",
    "        for n in range(self.iter_num):\n",
    "            # Θを更新\n",
    "            self.gradient_descent(X_train,y_train)\n",
    "            # 損失計算と保存\n",
    "            self.train_loss[n+1] = self.mean_crossentropy_error(X_train,y_train)\n",
    "\n",
    "            # print(\"self.train_loss[n+1]\")\n",
    "            # print(self.train_loss[n+1])\n",
    "\n",
    "            if X_val is not None:\n",
    "                self.val_loss[n+1] = self.mean_crossentropy_error(X_val,y_val)\n",
    "\n",
    "        # 最終結果格納\n",
    "        self.prediction = self.predict_proba(X)\n",
    "\n",
    "        # print(\"self.prediction\")\n",
    "        # print(self.prediction)\n",
    "        # print(\"\\n\")\n",
    "\n",
    "        self.prediction_class = np.where(self.prediction >= 0.5,1,0)\n",
    "\n",
    "        # print(\"self.prediction_class\")\n",
    "        # print(self.prediction_class)\n",
    "\n",
    "    # 【問題2】最急降下法\n",
    "    def gradient_descent(self,X_train,y_train):\n",
    "        \"\"\"Θ更新（最急降下法）\n",
    "        Parameters\n",
    "        ----------\n",
    "        X_train:訓練データ（説明変数）\n",
    "        y_train:訓練データ（目的変数）\n",
    "        X_val:評価データ（説明変数）\n",
    "        y_val:評価データ（目的変数）\n",
    "        \"\"\"\n",
    "        # 誤差\n",
    "        error = (self.predict_proba(X_train) - y_train.flatten())\n",
    "        # 勾配\n",
    "        grad= np.dot(X_train.T,error)/X_train.shape[0]\n",
    "        # 定数項の勾配\n",
    "        bias_grad = np.sum(error)/X_train.shape[0]\n",
    "        # l2正則化項\n",
    "        l2 = self.lam * self.theta[:-1] / X_train.shape[0]\n",
    "        # 学習率を考慮して更新\n",
    "        self.theta[:-1] = self.theta[:-1] - self.lr * (grad + l2)\n",
    "        self.theta[-1] = self.theta[-1] - self.lr * bias_grad\n",
    "\n",
    "\n",
    "    def predict(self, X):\n",
    "        \"\"\"予測\n",
    "        Parameters\n",
    "        ----------\n",
    "        X:説明変数\n",
    "        \"\"\"\n",
    "        # y = self.sigmoid(_y) >= 0.5 の場合1、それ以外は0に変換\n",
    "        return  np.where(self.predict_proba(X) >= 0.5,1,0)\n",
    "\n",
    "    # 【問題1】仮定関数\n",
    "    def predict_proba(self, X):\n",
    "        \"\"\"確率予測\n",
    "        Parameters\n",
    "        ----------\n",
    "        X:説明変数\n",
    "        \"\"\"\n",
    "        # xとΘの積（定数項は別で扱う）\n",
    "        _y = np.dot(self.theta[:-1],X.T) + self.theta[-1]\n",
    "        # sigmoid関数を適用\n",
    "        y = self.sigmoid(_y)\n",
    "        return y\n",
    "\n",
    "    def sigmoid(self,y):\n",
    "        \"\"\"sigmoid関数\n",
    "        Parameters\n",
    "        ----------\n",
    "        y:sigmoid関数に通したい値\n",
    "        \"\"\"\n",
    "        return 1 / (1 + np.exp(-y))\n",
    "\n",
    "    # 【問題4】目的関数\n",
    "    def mean_crossentropy_error(self,X,y):\n",
    "        \"\"\"クロスエントロピー誤差関数\n",
    "        Parameters\n",
    "        ----------\n",
    "        X:sigmoid関数に通したい値\n",
    "        \"\"\"\n",
    "        # 予測値を計算\n",
    "        prediction = self.predict_proba(X)\n",
    "        # クロスエントロピー誤差\n",
    "        crossentropy =  -np.sum(y *  np.log(prediction) + (1-y) * np.log(1-prediction))/X.shape[0]\n",
    "        # l2正則化\n",
    "        l2_decay = np.sum(self.theta[:-1]**2)*self.lam/(2 * X.shape[0])\n",
    "        return crossentropy + l2_decay"
   ]
  },
  {
   "cell_type": "code",
   "execution_count": 178,
   "metadata": {
    "pycharm": {
     "name": "#%%\n"
    }
   },
   "outputs": [],
   "source": [
    "# データセット\n",
    "iris_dataset = load_iris()\n",
    "\n",
    "# for key, value in zip(iris_dataset.keys(), iris_dataset.values()):\n",
    "#     print(\"{}:\\n{}\\n\".format(key, value))\n",
    "\n",
    "#　1:virgicolor, 2:virginica\n",
    "X = iris_dataset.data[50:,:]\n",
    "y = iris_dataset.target[50:]\n",
    "# print(\"y = iris.target[50:]\")\n",
    "\n",
    "# y==1なら0, それ以外は1に変換\n",
    "y = np.where(y==1, 0, 1)\n",
    "# print(\"y = np.where(y==1, 0, 1)\")\n",
    "# print(y)\n",
    "\n",
    "X = np.array(X)\n",
    "y = np.array(y) # print(y.shape) (100,)\n",
    "y = y.reshape([100,1]) # # print(y.shape) (100,1)"
   ]
  },
  {
   "cell_type": "code",
   "execution_count": 179,
   "outputs": [
    {
     "name": "stdout",
     "output_type": "stream",
     "text": [
      "iris_df.head()\n"
     ]
    },
    {
     "data": {
      "text/plain": "   sepal_length  sepal_width  petal_length  petal_width\n0           7.0          3.2           4.7          1.4\n1           6.4          3.2           4.5          1.5\n2           6.9          3.1           4.9          1.5\n3           5.5          2.3           4.0          1.3\n4           6.5          2.8           4.6          1.5",
      "text/html": "<div>\n<style scoped>\n    .dataframe tbody tr th:only-of-type {\n        vertical-align: middle;\n    }\n\n    .dataframe tbody tr th {\n        vertical-align: top;\n    }\n\n    .dataframe thead th {\n        text-align: right;\n    }\n</style>\n<table border=\"1\" class=\"dataframe\">\n  <thead>\n    <tr style=\"text-align: right;\">\n      <th></th>\n      <th>sepal_length</th>\n      <th>sepal_width</th>\n      <th>petal_length</th>\n      <th>petal_width</th>\n    </tr>\n  </thead>\n  <tbody>\n    <tr>\n      <th>0</th>\n      <td>7.0</td>\n      <td>3.2</td>\n      <td>4.7</td>\n      <td>1.4</td>\n    </tr>\n    <tr>\n      <th>1</th>\n      <td>6.4</td>\n      <td>3.2</td>\n      <td>4.5</td>\n      <td>1.5</td>\n    </tr>\n    <tr>\n      <th>2</th>\n      <td>6.9</td>\n      <td>3.1</td>\n      <td>4.9</td>\n      <td>1.5</td>\n    </tr>\n    <tr>\n      <th>3</th>\n      <td>5.5</td>\n      <td>2.3</td>\n      <td>4.0</td>\n      <td>1.3</td>\n    </tr>\n    <tr>\n      <th>4</th>\n      <td>6.5</td>\n      <td>2.8</td>\n      <td>4.6</td>\n      <td>1.5</td>\n    </tr>\n  </tbody>\n</table>\n</div>"
     },
     "execution_count": 179,
     "metadata": {},
     "output_type": "execute_result"
    }
   ],
   "source": [
    "iris_df = pd.DataFrame(X, columns=[\"sepal_length\",\"sepal_width\", \"petal_length\", \"petal_width\"])\n",
    "iris_label = pd.DataFrame(y, columns=[\"Species\"])\n",
    "print(\"iris_df.head()\") #------検証中--------\n",
    "iris_df.head()"
   ],
   "metadata": {
    "collapsed": false,
    "pycharm": {
     "name": "#%%\n"
    }
   }
  },
  {
   "cell_type": "code",
   "execution_count": 180,
   "outputs": [],
   "source": [
    "(X_train, X_test, y_train, y_test) = train_test_split(X, y, test_size=0.3, random_state=0,)"
   ],
   "metadata": {
    "collapsed": false,
    "pycharm": {
     "name": "#%%\n"
    }
   }
  },
  {
   "cell_type": "markdown",
   "source": [
    "【問題5】学習と推定"
   ],
   "metadata": {
    "collapsed": false,
    "pycharm": {
     "name": "#%% md\n"
    }
   }
  },
  {
   "cell_type": "code",
   "execution_count": 181,
   "outputs": [
    {
     "name": "stdout",
     "output_type": "stream",
     "text": [
      "y_pred\n",
      "[0 1 1 1 1 1 1 1 1 1 1 1 1 1 1 0 0 1 1 0 1 1 1 1 1 1 1 1 1 1]\n"
     ]
    }
   ],
   "source": [
    "slr = ScratchLogisticRegression(iter_num=10000, lr=0.0001,lam = 0.2)\n",
    "slr.fit(X_train, y_train, X_test, y_test)\n",
    "\n",
    "y_pred = slr.predict(X_test)\n",
    "print(\"y_pred\")\n",
    "print(y_pred)"
   ],
   "metadata": {
    "collapsed": false,
    "pycharm": {
     "name": "#%%\n"
    }
   }
  },
  {
   "cell_type": "code",
   "execution_count": 182,
   "outputs": [
    {
     "name": "stdout",
     "output_type": "stream",
     "text": [
      "y_pred_proba\n",
      "[0.48581967 0.6451318  0.51108212 0.50609212 0.50977929 0.59568225\n",
      " 0.55957248 0.5482695  0.58291419 0.61203686 0.53434224 0.57012823\n",
      " 0.56764017 0.5169383  0.51899331 0.49630482 0.49387447 0.50831103\n",
      " 0.52177027 0.49107235 0.5099927  0.57087346 0.51141051 0.60280864\n",
      " 0.52519621 0.54400991 0.56267301 0.57063977 0.58154576 0.56082606]\n"
     ]
    }
   ],
   "source": [
    "y_pred_proba = slr.predict_proba(X_test)\n",
    "print(\"y_pred_proba\")\n",
    "print(y_pred_proba)"
   ],
   "metadata": {
    "collapsed": false,
    "pycharm": {
     "name": "#%%\n"
    }
   }
  },
  {
   "cell_type": "code",
   "execution_count": 183,
   "outputs": [
    {
     "name": "stdout",
     "output_type": "stream",
     "text": [
      "0.5769230769230769\n",
      "1.0\n",
      "0.7317073170731707\n",
      "[[ 4 11]\n",
      " [ 0 15]]\n"
     ]
    }
   ],
   "source": [
    "print(\"{}\".format(precision_score(y_test,y_pred)))\n",
    "print(\"{}\".format(recall_score(y_test,y_pred)))\n",
    "print(\"{}\".format(f1_score(y_test,y_pred)))\n",
    "print(confusion_matrix(y_test, y_pred))"
   ],
   "metadata": {
    "collapsed": false,
    "pycharm": {
     "name": "#%%\n"
    }
   }
  },
  {
   "cell_type": "markdown",
   "source": [
    "【問題6】学習曲線のプロット"
   ],
   "metadata": {
    "collapsed": false
   }
  },
  {
   "cell_type": "code",
   "execution_count": 184,
   "outputs": [
    {
     "data": {
      "text/plain": "<matplotlib.legend.Legend at 0x7f821c519fd0>"
     },
     "execution_count": 184,
     "metadata": {},
     "output_type": "execute_result"
    },
    {
     "data": {
      "text/plain": "<Figure size 432x288 with 1 Axes>",
      "image/png": "[encoded data removed]"
     },
     "metadata": {
      "needs_background": "light"
     },
     "output_type": "display_data"
    }
   ],
   "source": [
    "plt.plot(np.arange(1,len(slr.train_loss)+1),slr.train_loss,label='train_loss',linewidth=5)\n",
    "plt.plot(np.arange(1,len(slr.val_loss)+1),slr.val_loss,label='val_loss',linewidth=5)\n",
    "plt.legend()"
   ],
   "metadata": {
    "collapsed": false,
    "pycharm": {
     "name": "#%%\n"
    }
   }
  },
  {
   "cell_type": "code",
   "execution_count": 185,
   "outputs": [
    {
     "data": {
      "text/plain": "array([-0.12280264,  0.23753448, -0.14800357,  0.56892555,  0.02714626])"
     },
     "execution_count": 185,
     "metadata": {},
     "output_type": "execute_result"
    }
   ],
   "source": [
    "slr.theta"
   ],
   "metadata": {
    "collapsed": false,
    "pycharm": {
     "name": "#%%\n"
    }
   }
  },
  {
   "cell_type": "markdown",
   "source": [
    "【問題7】決定領域の可視化"
   ],
   "metadata": {
    "collapsed": false
   }
  },
  {
   "cell_type": "code",
   "execution_count": 186,
   "outputs": [],
   "source": [
    "from matplotlib.colors import ListedColormap\n",
    "import matplotlib.patches as mpatches\n",
    "\n",
    "def decision_region(X, y, model, step=0.01, title='decision region', xlabel='xlabel', ylabel='ylabel', target_names=['setosa','versicolor']):\n",
    "\n",
    "    # setting\n",
    "    scatter_color = ['red', 'blue']\n",
    "    contourf_color = ['pink', 'skyblue']\n",
    "    n_class = 2\n",
    "    marker = [\"o\", \"^\"]\n",
    "\n",
    "    # pred\n",
    "    mesh_f0, mesh_f1  = np.meshgrid(np.arange(np.min(X[:,0])-0.5, np.max(X[:,0])+0.5, step), np.arange(np.min(X[:,1])-0.5, np.max(X[:,1])+0.5, step))\n",
    "    mesh = np.c_[np.ravel(mesh_f0),np.ravel(mesh_f1)]\n",
    "    y_pred = model.predict(mesh).reshape(mesh_f0.shape)\n",
    "\n",
    "    # plot\n",
    "    plt.title(title)\n",
    "    plt.xlabel(xlabel)\n",
    "    plt.ylabel(ylabel)\n",
    "    plt.contourf(mesh_f0, mesh_f1, y_pred, n_class-1, cmap=ListedColormap(contourf_color))\n",
    "    plt.contour(mesh_f0, mesh_f1, y_pred, n_class-1, colors='y', linewidths=3, alpha=0.5)\n",
    "    for i, target in enumerate(set(y)):\n",
    "        plt.scatter(X[y==target][:, 0], X[y==target][:, 1], s=80, color=scatter_color[i], label=target_names[i], marker=marker[i])\n",
    "    patches = [mpatches.Patch(color=scatter_color[i], label=target_names[i]) for i in range(n_class)]\n",
    "    plt.legend(handles=patches)\n",
    "    plt.legend()\n",
    "    plt.show()"
   ],
   "metadata": {
    "collapsed": false,
    "pycharm": {
     "name": "#%%\n"
    }
   }
  },
  {
   "cell_type": "code",
   "execution_count": 187,
   "outputs": [],
   "source": [
    "X = iris_dataset.data[:100,:]\n",
    "y = iris_dataset.target[:100]\n",
    "X = X[:,[0,2]]\n",
    "(X_train, X_test, y_train, y_test) = train_test_split(X, y, test_size=0.5, random_state=0,)"
   ],
   "metadata": {
    "collapsed": false,
    "pycharm": {
     "name": "#%%\n"
    }
   }
  },
  {
   "cell_type": "code",
   "execution_count": 188,
   "outputs": [],
   "source": [
    "slr = ScratchLogisticRegression(iter_num=10000, lr=0.0001,lam = 0.1)\n",
    "slr.fit(X_train, y_train,X_test,y_test)"
   ],
   "metadata": {
    "collapsed": false,
    "pycharm": {
     "name": "#%%\n"
    }
   }
  },
  {
   "cell_type": "code",
   "execution_count": 189,
   "outputs": [
    {
     "data": {
      "text/plain": "<Figure size 432x288 with 1 Axes>",
      "image/png": "[encoded data removed]"
     },
     "metadata": {
      "needs_background": "light"
     },
     "output_type": "display_data"
    }
   ],
   "source": [
    "decision_region(X, y, slr, step=0.01, title='ScratchLogisticRegression', xlabel='xlabel', ylabel='ylabel', target_names=['setosa','versicolor'])"
   ],
   "metadata": {
    "collapsed": false,
    "pycharm": {
     "name": "#%%\n"
    }
   }
  },
  {
   "cell_type": "code",
   "execution_count": 189,
   "outputs": [],
   "source": [],
   "metadata": {
    "collapsed": false,
    "pycharm": {
     "name": "#%%\n"
    }
   }
  }
 ],
 "metadata": {
  "kernelspec": {
   "display_name": "Python 3",
   "language": "python",
   "name": "python3"
  },
  "language_info": {
   "codemirror_mode": {
    "name": "ipython",
    "version": 3
   },
   "file_extension": ".py",
   "mimetype": "text/x-python",
   "name": "python",
   "nbconvert_exporter": "python",
   "pygments_lexer": "ipython3",
   "version": "3.7.2"
  }
 },
 "nbformat": 4,
 "nbformat_minor": 4
}