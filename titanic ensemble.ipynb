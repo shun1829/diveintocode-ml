{
 "cells": [
  {
   "cell_type": "code",
   "execution_count": 1,
   "id": "10cf3a1e-2475-45ee-8d82-0aac1b46a32e",
   "metadata": {},
   "outputs": [],
   "source": [
    "import pandas as pd\n",
    "import numpy as np\n",
    "import pandas as pd\n",
    "import numpy as np\n",
    "from sklearn.model_selection import train_test_split\n",
    "\n",
    "\n",
    " \n",
    "train = pd.read_csv(\"titanic_train.csv\")\n",
    "test = pd.read_csv(\"titanic_test.csv\")\n",
    "train.shape\n",
    "test.shape\n",
    "# PassengerId – 乗客識別ユニークID\n",
    "# Survived – 生存フラグ（0=死亡、1=生存）\n",
    "# Pclass – チケットクラス\n",
    "# Name – 乗客の名前\n",
    "# Sex – 性別（male=男性、female＝女性）\n",
    "# Age – 年齢\n",
    "# SibSp – タイタニックに同乗している兄弟/配偶者の数\n",
    "# parch – タイタニックに同乗している親/子供の数\n",
    "# ticket – チケット番号\n",
    "# fare – 料金\n",
    "# cabin – 客室番号\n",
    "# Embarked – 出港地（タイタニックへ乗った港）\n",
    "\n",
    "\n",
    "train_x = train.drop([\"Survived\", \"Name\", \"Cabin\", \"Ticket\", \"PassengerId\"], axis=1)\n",
    "test_x = test.drop([\"Name\", \"Cabin\", \"Ticket\", \"PassengerId\"], axis=1)\n",
    "train_y = train[\"Survived\"]\n",
    "\n",
    "\n",
    "# 欠損値を年齢の中央値。出港地は最多のSで補完\n",
    "train_x[\"Age\"] = train_x[\"Age\"].fillna(train_x[\"Age\"].median())\n",
    "train_x[\"Embarked\"] = train_x[\"Embarked\"].fillna(\"S\")\n",
    "\n",
    "test_x[\"Age\"] = test_x[\"Age\"].fillna(test_x[\"Age\"].median())\n",
    "test_x[\"Fare\"] = test_x[\"Fare\"].fillna(test_x[\"Fare\"].median())\n",
    "test_x[\"Embarked\"] = test_x[\"Embarked\"].fillna(\"S\")\n",
    "\n",
    "\n",
    "train_x_dummy = pd.get_dummies(train_x,columns=[\"Sex\",\"Embarked\"])\n",
    "test_x_dummy = pd.get_dummies(test_x,columns=[\"Sex\",\"Embarked\"])\n",
    "\n",
    "X_train, X_test, y_train, y_test = train_test_split(train_x_dummy, train_y, test_size=0.3, random_state=101)"
   ]
  },
  {
   "cell_type": "code",
   "execution_count": 6,
   "id": "9a7bea69-d10d-4d0e-afc3-eab0ec5a1ecf",
   "metadata": {},
   "outputs": [
    {
     "data": {
      "text/plain": [
       "array([0, 1, 0, 1, 0, 0, 0, 0, 1, 1, 0, 1, 1, 0, 0, 1, 1, 0, 0, 1, 0, 0,\n",
       "       1, 1, 0, 0, 0, 0, 0, 0, 1, 1, 1, 1, 0, 1, 0, 0, 0, 0, 0, 1, 1, 0,\n",
       "       0, 0, 0, 0, 0, 0, 1, 0, 1, 1, 1, 0, 0, 0, 0, 1, 1, 0, 0, 1, 0, 0,\n",
       "       1, 0, 1, 0, 0, 0, 0, 0, 1, 1, 0, 0, 0, 0, 0, 1, 0, 0, 1, 0, 0, 1,\n",
       "       0, 1, 0, 1, 1, 1, 1, 1, 0, 0, 0, 1, 0, 1, 0, 0, 1, 1, 1, 1, 0, 0,\n",
       "       0, 1, 1, 0, 0, 1, 1, 0, 0, 1, 0, 0, 1, 0, 0, 0, 0, 0, 1, 0, 1, 0,\n",
       "       1, 0, 0, 0, 1, 0, 0, 1, 0, 1, 0, 0, 1, 0, 1, 0, 0, 0, 1, 0, 0, 0,\n",
       "       0, 1, 0, 0, 1, 1, 0, 0, 1, 0, 0, 1, 0, 1, 0, 0, 1, 0, 1, 1, 0, 0,\n",
       "       1, 0, 0, 0, 1, 0, 1, 1, 1, 0, 0, 1, 0, 0, 0, 0, 0, 1, 0, 0, 0, 0,\n",
       "       0, 0, 0, 0, 0, 1, 0, 0, 0, 1, 0, 0, 0, 0, 0, 0, 0, 0, 0, 1, 0, 1,\n",
       "       1, 1, 0, 0, 0, 0, 0, 0, 0, 0, 1, 0, 1, 1, 1, 0, 0, 1, 1, 0, 1, 1,\n",
       "       0, 0, 1, 0, 0, 0, 1, 0, 0, 1, 0, 0, 0, 0, 0, 0, 1, 0, 0, 1, 1, 0,\n",
       "       1, 1, 0, 1])"
      ]
     },
     "execution_count": 6,
     "metadata": {},
     "output_type": "execute_result"
    }
   ],
   "source": [
    "from sklearn.ensemble import RandomForestClassifier\n",
    "\n",
    "rfc = RandomForestClassifier()\n",
    "rfc.fit(X_train, y_train)\n",
    "\n",
    "predictions = rfc.predict(X_test)\n",
    "predictions"
   ]
  },
  {
   "cell_type": "code",
   "execution_count": 3,
   "id": "24e90f7c-b3c1-4925-8df3-b280009dc65e",
   "metadata": {},
   "outputs": [
    {
     "name": "stdout",
     "output_type": "stream",
     "text": [
      "confusion matrix = \n",
      " [[135  19]\n",
      " [ 33  81]]\n",
      "accuracy =  0.8059701492537313\n",
      "precision =  0.81\n",
      "recall =  0.7105263157894737\n",
      "f1 score =  0.7570093457943925\n"
     ]
    }
   ],
   "source": [
    "from sklearn.metrics import confusion_matrix, accuracy_score, precision_score, recall_score, f1_score\n",
    "\n",
    "print('confusion matrix = \\n', confusion_matrix(y_test, predictions))\n",
    "print('accuracy = ', accuracy_score(y_test, predictions))\n",
    "print('precision = ', precision_score(y_test, predictions))\n",
    "print('recall = ', recall_score(y_test, predictions))\n",
    "print('f1 score = ', f1_score(y_test, predictions))"
   ]
  },
  {
   "cell_type": "code",
   "execution_count": 4,
   "id": "166364cb-304a-4c49-bbd5-e00c122d9306",
   "metadata": {},
   "outputs": [
    {
     "name": "stdout",
     "output_type": "stream",
     "text": [
      "(268,)\n"
     ]
    }
   ],
   "source": [
    "y_proba = rfc.predict_proba(X_test)[: , 1]\n",
    "print(y_proba.shape)"
   ]
  },
  {
   "cell_type": "code",
   "execution_count": 7,
   "id": "409b58f4-77dd-4a01-b476-33760abf3acb",
   "metadata": {},
   "outputs": [
    {
     "name": "stdout",
     "output_type": "stream",
     "text": [
      "AUC curve : 0.854295\n",
      "accuracy: 0.7947761194029851\n",
      "f1_score: 0.7488584474885845\n"
     ]
    },
    {
     "data": {
      "image/png": "[encoded data removed]",
      "text/plain": [
       "<Figure size 432x288 with 1 Axes>"
      ]
     },
     "metadata": {
      "needs_background": "light"
     },
     "output_type": "display_data"
    }
   ],
   "source": [
    "from sklearn.metrics import (roc_curve, auc, accuracy_score) \n",
    "from sklearn.metrics import roc_auc_score\n",
    "import matplotlib.pyplot as plt\n",
    "\n",
    "\n",
    "# AUCスコアを出す\n",
    "fpr, tpr, thresholds = roc_curve(y_test, y_proba)\n",
    "roc_auc = auc(fpr, tpr)\n",
    "print (\"AUC curve : %f\" % roc_auc)\n",
    "\n",
    "\n",
    "auc_score = roc_auc_score(y_test, y_proba)\n",
    "plt.plot(fpr, tpr, label='AUC = %.3f' % (auc_score))\n",
    "plt.legend()\n",
    "plt.title('ROC curve')\n",
    "plt.xlabel('False Positive Rate')\n",
    "plt.ylabel('True Positive Rate')\n",
    "plt.grid(True)\n",
    "\n",
    "print('accuracy:',accuracy_score(y_test, predictions))\n",
    "print('f1_score:',f1_score(y_test, predictions))"
   ]
  },
  {
   "cell_type": "code",
   "execution_count": null,
   "id": "e1087869-3a9c-4722-b26b-c7f366883ad0",
   "metadata": {},
   "outputs": [],
   "source": []
  }
 ],
 "metadata": {
  "kernelspec": {
   "display_name": "Python 3",
   "language": "python",
   "name": "python3"
  },
  "language_info": {
   "codemirror_mode": {
    "name": "ipython",
    "version": 3
   },
   "file_extension": ".py",
   "mimetype": "text/x-python",
   "name": "python",
   "nbconvert_exporter": "python",
   "pygments_lexer": "ipython3",
   "version": "3.7.2"
  }
 },
 "nbformat": 4,
 "nbformat_minor": 5
}
